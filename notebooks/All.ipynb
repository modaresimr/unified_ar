{
 "cells": [
  {
   "cell_type": "markdown",
   "metadata": {
    "ExecuteTime": {
     "end_time": "2020-11-04T21:12:20.851007Z",
     "start_time": "2020-11-04T21:12:20.848232Z"
    }
   },
   "source": [
    "# Run Pipeline\n",
    "To run the Pipeline (all steps from Sensor events to Activity events) : Please execute following code"
   ]
  },
  {
   "cell_type": "code",
   "execution_count": null,
   "metadata": {
    "ExecuteTime": {
     "end_time": "2021-11-23T10:55:41.517374Z",
     "start_time": "2021-11-23T10:55:39.391992Z"
    }
   },
   "outputs": [],
   "source": [
    "import general.utils as utils\n",
    "utils.reload()\n",
    "import general.libinstall\n",
    "import general.uiutils\n",
    "general.uiutils.runPipelineUI()"
   ]
  },
  {
   "cell_type": "markdown",
   "metadata": {},
   "source": [
    "# Gem-Compare-Multi-Run\n",
    "You can select multiple run (by holding CTRL key) and it will show the f1 in evaluation information for those run for each activities and also it will shows the combination of activities."
   ]
  },
  {
   "cell_type": "code",
   "execution_count": null,
   "metadata": {
    "ExecuteTime": {
     "end_time": "2021-11-15T17:10:28.980433Z",
     "start_time": "2021-11-15T17:10:28.932900Z"
    }
   },
   "outputs": [],
   "source": [
    "import general.libinstall\n",
    "import general.uiutils\n",
    "import general.utils as utils\n",
    "utils.reload()\n",
    "%matplotlib inline\n",
    "general.uiutils.loadGemMultiUI()"
   ]
  },
  {
   "cell_type": "markdown",
   "metadata": {},
   "source": [
    "# Metric Details \n",
    "\n",
    "(not fully working)\n",
    "You can select a specific run and it will show the evaluation information and display charts for precision, recall and f1 measure."
   ]
  },
  {
   "cell_type": "code",
   "execution_count": null,
   "metadata": {
    "ExecuteTime": {
     "end_time": "2021-11-12T16:44:59.326471Z",
     "start_time": "2021-11-12T16:44:58.070360Z"
    }
   },
   "outputs": [],
   "source": [
    "import general.libinstall\n",
    "import general.uiutils\n",
    "%matplotlib inline\n",
    "general.uiutils.loadGemMetricUI()"
   ]
  }
 ],
 "metadata": {
  "kernelspec": {
   "display_name": "Python 3 (ipykernel)",
   "language": "python",
   "name": "python3"
  },
  "language_info": {
   "codemirror_mode": {
    "name": "ipython",
    "version": 3
   },
   "file_extension": ".py",
   "mimetype": "text/x-python",
   "name": "python",
   "nbconvert_exporter": "python",
   "pygments_lexer": "ipython3",
   "version": "3.8.13"
  },
  "toc": {
   "base_numbering": 1,
   "nav_menu": {},
   "number_sections": true,
   "sideBar": true,
   "skip_h1_title": false,
   "title_cell": "Table of Contents",
   "title_sidebar": "Contents",
   "toc_cell": false,
   "toc_position": {},
   "toc_section_display": true,
   "toc_window_display": false
  },
  "varInspector": {
   "cols": {
    "lenName": 16,
    "lenType": 16,
    "lenVar": 40
   },
   "kernels_config": {
    "python": {
     "delete_cmd_postfix": "",
     "delete_cmd_prefix": "del ",
     "library": "var_list.py",
     "varRefreshCmd": "print(var_dic_list())"
    },
    "r": {
     "delete_cmd_postfix": ") ",
     "delete_cmd_prefix": "rm(",
     "library": "var_list.r",
     "varRefreshCmd": "cat(var_dic_list()) "
    }
   },
   "types_to_exclude": [
    "module",
    "function",
    "builtin_function_or_method",
    "instance",
    "_Feature"
   ],
   "window_display": false
  },
  "vscode": {
   "interpreter": {
    "hash": "0f91b223a9be7f82bfd164eb4b10e5e1c532d3ceac636b749a2ce370dda12911"
   }
  }
 },
 "nbformat": 4,
 "nbformat_minor": 4
}
