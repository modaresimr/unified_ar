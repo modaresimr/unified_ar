{
 "cells": [
  {
   "cell_type": "markdown",
   "metadata": {
    "ExecuteTime": {
     "end_time": "2020-11-04T21:12:20.851007Z",
     "start_time": "2020-11-04T21:12:20.848232Z"
    }
   },
   "source": [
    "# Run Pipeline\n",
    "To run the Pipeline (all steps from Sensor events to Activity events) : Please execute following code"
   ]
  },
  {
   "cell_type": "code",
   "execution_count": 2,
   "metadata": {
    "ExecuteTime": {
     "end_time": "2021-11-23T10:55:41.517374Z",
     "start_time": "2021-11-23T10:55:39.391992Z"
    }
   },
   "outputs": [
    {
     "data": {
      "application/vnd.jupyter.widget-view+json": {
       "model_id": "dac96730242a4290809e8b3d4b63f1c5",
       "version_major": 2,
       "version_minor": 0
      },
      "text/plain": [
       "interactive(children=(Dropdown(description='segmentation', options={\"FixedEventWindow [{'size': 15, 'range': […"
      ]
     },
     "metadata": {},
     "output_type": "display_data"
    }
   ],
   "source": [
    "import unified_ar.general.utils as utils\n",
    "import os\n",
    "while \"datasets\" not in os.listdir():\n",
    "    os.chdir(\"..\")\n",
    "    \n",
    "# utils.reload()\n",
    "import unified_ar.general.uiutils\n",
    "unified_ar.general.uiutils.runPipelineUI()"
   ]
  },
  {
   "cell_type": "markdown",
   "metadata": {},
   "source": [
    "# Gem-Compare-Multi-Run\n",
    "You can select multiple run (by holding CTRL key) and it will show the f1 in evaluation information for those run for each activities and also it will shows the combination of activities."
   ]
  },
  {
   "cell_type": "code",
   "execution_count": 5,
   "metadata": {
    "ExecuteTime": {
     "end_time": "2021-11-15T17:10:28.980433Z",
     "start_time": "2021-11-15T17:10:28.932900Z"
    }
   },
   "outputs": [
    {
     "name": "stdout",
     "output_type": "stream",
     "text": [
      "Please install GPU version of TF\n"
     ]
    },
    {
     "name": "stderr",
     "output_type": "stream",
     "text": [
      "2023-09-25 00:36:53.090979: W tensorflow/core/common_runtime/gpu/gpu_device.cc:1960] Cannot dlopen some GPU libraries. Please make sure the missing libraries mentioned above are installed properly if you would like to use GPU. Follow the guide at https://www.tensorflow.org/install/gpu for how to download and setup the required libraries for your platform.\n",
      "Skipping registering GPU devices...\n"
     ]
    },
    {
     "data": {
      "application/vnd.jupyter.widget-view+json": {
       "model_id": "f0f252cd3b1f4577a19683bc86a6921e",
       "version_major": 2,
       "version_minor": 0
      },
      "text/plain": [
       "interactive(children=(Dropdown(description='dataset', options=('Aruba', 'Home1', 'Home2', 'A4H', 'ward', 'VanK…"
      ]
     },
     "metadata": {},
     "output_type": "display_data"
    }
   ],
   "source": [
    "import os\n",
    "import unified_ar.general.utils as utils\n",
    "utils.reload()\n",
    "while \"datasets\" not in os.listdir():\n",
    "    os.chdir(\"..\")\n",
    "# import unified_ar.general.libinstall\n",
    "import unified_ar.general.uiutils\n",
    "%matplotlib inline\n",
    "unified_ar.general.uiutils.loadGemMultiUI()"
   ]
  },
  {
   "cell_type": "markdown",
   "metadata": {},
   "source": [
    "# Metric Details \n",
    "\n",
    "(not fully working)\n",
    "You can select a specific run and it will show the evaluation information and display charts for precision, recall and f1 measure."
   ]
  },
  {
   "cell_type": "code",
   "execution_count": null,
   "metadata": {
    "ExecuteTime": {
     "end_time": "2021-11-12T16:44:59.326471Z",
     "start_time": "2021-11-12T16:44:58.070360Z"
    }
   },
   "outputs": [],
   "source": [
    "import unified_ar.general.libinstall\n",
    "import unified_ar.general.uiutils\n",
    "%matplotlib inline\n",
    "general.uiutils.loadGemMetricUI()"
   ]
  }
 ],
 "metadata": {
  "kernelspec": {
   "display_name": "Python 3 (ipykernel)",
   "language": "python",
   "name": "python3"
  },
  "language_info": {
   "codemirror_mode": {
    "name": "ipython",
    "version": 3
   },
   "file_extension": ".py",
   "mimetype": "text/x-python",
   "name": "python",
   "nbconvert_exporter": "python",
   "pygments_lexer": "ipython3",
   "version": "3.8.10"
  },
  "toc": {
   "base_numbering": 1,
   "nav_menu": {},
   "number_sections": true,
   "sideBar": true,
   "skip_h1_title": false,
   "title_cell": "Table of Contents",
   "title_sidebar": "Contents",
   "toc_cell": false,
   "toc_position": {},
   "toc_section_display": true,
   "toc_window_display": false
  },
  "varInspector": {
   "cols": {
    "lenName": 16,
    "lenType": 16,
    "lenVar": 40
   },
   "kernels_config": {
    "python": {
     "delete_cmd_postfix": "",
     "delete_cmd_prefix": "del ",
     "library": "var_list.py",
     "varRefreshCmd": "print(var_dic_list())"
    },
    "r": {
     "delete_cmd_postfix": ") ",
     "delete_cmd_prefix": "rm(",
     "library": "var_list.r",
     "varRefreshCmd": "cat(var_dic_list()) "
    }
   },
   "types_to_exclude": [
    "module",
    "function",
    "builtin_function_or_method",
    "instance",
    "_Feature"
   ],
   "window_display": false
  },
  "vscode": {
   "interpreter": {
    "hash": "0f91b223a9be7f82bfd164eb4b10e5e1c532d3ceac636b749a2ce370dda12911"
   }
  }
 },
 "nbformat": 4,
 "nbformat_minor": 4
}
