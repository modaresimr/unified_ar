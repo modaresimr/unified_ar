{
 "cells": [
  {
   "cell_type": "code",
   "execution_count": 3,
   "id": "ddca7e3d-7e04-444d-aa4a-d204c9164534",
   "metadata": {},
   "outputs": [
    {
     "data": {
      "text/plain": [
       "<TestResult> {'name': 'TestResult', 'pred_events':                StartTime             EndTime  Activity\n",
       "0    2009-07-17 15:52:22 2009-07-17 15:55:16         8\n",
       "1    2009-07-17 15:55:19 2009-07-17 15:56:38         0\n",
       "2    2009-07-17 15:56:54 2009-07-17 15:57:04         4\n",
       "3    2009-07-17 16:12:03 2009-07-17 16:12:20         4\n",
       "4    2009-07-17 16:15:17 2009-07-17 16:15:34         6\n",
       "...                  ...                 ...       ...\n",
       "1194 2009-08-03 22:17:22 2009-08-03 22:17:26         0\n",
       "1195 2009-08-03 22:14:55 2009-08-03 22:15:55         0\n",
       "1196 2009-08-03 22:17:22 2009-08-03 22:17:26         0\n",
       "1197 2009-08-03 22:14:55 2009-08-03 22:15:55         0\n",
       "1198 2009-08-03 22:14:55 2009-08-03 22:16:23         0\n",
       "\n",
       "[1199 rows x 3 columns], 'real_events':                      StartTime                    EndTime  Activity  \\\n",
       "0   2009-07-17 15:52:25.218001 2009-07-17 15:56:37.281001         8   \n",
       "1   2009-07-17 15:56:55.484001 2009-07-17 15:57:04.406001         6   \n",
       "2   2009-07-17 16:12:02.921001 2009-07-17 16:12:17.437001         4   \n",
       "3   2009-07-17 16:15:18.234001 2009-07-17 16:15:34.421001         6   \n",
       "4   2009-07-17 17:02:21.843001 2009-07-17 17:02:37.031001         4   \n",
       "..                         ...                        ...       ...   \n",
       "588 2009-08-03 20:16:01.328001 2009-08-03 20:17:52.796001         7   \n",
       "589 2009-08-03 20:26:22.703001 2009-08-03 20:26:51.015001        11   \n",
       "590 2009-08-03 20:29:42.609001 2009-08-03 21:23:52.562001         9   \n",
       "591 2009-08-03 21:25:28.968001 2009-08-03 22:02:36.578001         3   \n",
       "592 2009-08-03 22:03:09.609001 2009-08-03 22:13:48.171001         9   \n",
       "\n",
       "                  Duration  \n",
       "0   0 days 00:04:12.063000  \n",
       "1   0 days 00:00:08.922000  \n",
       "2   0 days 00:00:14.516000  \n",
       "3   0 days 00:00:16.187000  \n",
       "4   0 days 00:00:15.188000  \n",
       "..                     ...  \n",
       "588 0 days 00:01:51.468000  \n",
       "589 0 days 00:00:28.312000  \n",
       "590 0 days 00:54:09.953000  \n",
       "591 0 days 00:37:07.610000  \n",
       "592 0 days 00:10:38.562000  \n",
       "\n",
       "[593 rows x 4 columns], 'shortrunname': 'Asghari_b1', 'Sdata': None, 'predicted': None, 'params': {'preprocessor': {}, 'segmentor': {'size': 120, 'shift': 60}, 'activityFetcher': {}, 'featureExtractor': {}, 'classifier': {'epochs': 3}, 'combiner': {}, 'classifier_metric': {}, 'event_metric': {}}, 'predicted_classes': None, 'event_cm': None, 'quality': {'accuracy': 0, 'precision': 0.45, 'recall': 0.61, 'f1': 0.52}}"
      ]
     },
     "execution_count": 3,
     "metadata": {},
     "output_type": "execute_result"
    }
   ],
   "source": [
    "import  unified_ar.general.utils as utils\n",
    "import os\n",
    "while \"datasets\" not in os.listdir():\n",
    "    os.chdir(\"..\")\n",
    "\n",
    "file=\"0-HHMM--Home1\"\n",
    "\n",
    "run_info,dataset,evalres=utils.loadState(file)\n",
    "# print(f\"{evalres[0]['test']!r}\")\n",
    "evalres[0]['test']"
   ]
  },
  {
   "cell_type": "code",
   "execution_count": 4,
   "id": "e21ad423-1bb7-4301-a4b4-616efe6b3cc4",
   "metadata": {},
   "outputs": [],
   "source": [
    "from unified_ar.metric.event_confusion_matrix import event_confusion_matrix\n",
    "\n",
    "train_event_cm     = event_confusion_matrix(evalres[0]['test'].real_events,evalres[0]['test'].pred_events,dataset.activities)\n",
    "\n",
    "\n",
    "\n",
    "evalres[0]['test'].event_cm=train_event_cm\n",
    "evalres[0]['test'].cm=train_event_cm\n",
    "\n",
    "utils.saveState([run_info,dataset,evalres],file)"
   ]
  }
 ],
 "metadata": {
  "kernelspec": {
   "display_name": "Python 3 (ipykernel)",
   "language": "python",
   "name": "python3"
  },
  "language_info": {
   "codemirror_mode": {
    "name": "ipython",
    "version": 3
   },
   "file_extension": ".py",
   "mimetype": "text/x-python",
   "name": "python",
   "nbconvert_exporter": "python",
   "pygments_lexer": "ipython3",
   "version": "3.8.10"
  }
 },
 "nbformat": 4,
 "nbformat_minor": 5
}
