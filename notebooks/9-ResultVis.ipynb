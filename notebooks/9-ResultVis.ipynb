{
 "cells": [
  {
   "cell_type": "code",
   "execution_count": 1,
   "metadata": {},
   "outputs": [
    {
     "name": "stderr",
     "output_type": "stream",
     "text": [
      "2023-11-20 19:12:56.842785: I tensorflow/tsl/cuda/cudart_stub.cc:28] Could not find cuda drivers on your machine, GPU will not be used.\n",
      "2023-11-20 19:12:56.894711: I tensorflow/tsl/cuda/cudart_stub.cc:28] Could not find cuda drivers on your machine, GPU will not be used.\n",
      "2023-11-20 19:12:56.895617: I tensorflow/core/platform/cpu_feature_guard.cc:182] This TensorFlow binary is optimized to use available CPU instructions in performance-critical operations.\n",
      "To enable the following instructions: AVX2 AVX512F FMA, in other operations, rebuild TensorFlow with the appropriate compiler flags.\n",
      "2023-11-20 19:12:57.875966: W tensorflow/compiler/tf2tensorrt/utils/py_utils.cc:38] TF-TRT Warning: Could not find TensorRT\n"
     ]
    },
    {
     "name": "stdout",
     "output_type": "stream",
     "text": [
      "Please install GPU version of TF\n",
      "Please install GPU version of TF\n"
     ]
    },
    {
     "name": "stderr",
     "output_type": "stream",
     "text": [
      "2023-11-20 19:13:00.543965: W tensorflow/core/common_runtime/gpu/gpu_device.cc:1960] Cannot dlopen some GPU libraries. Please make sure the missing libraries mentioned above are installed properly if you would like to use GPU. Follow the guide at https://www.tensorflow.org/install/gpu for how to download and setup the required libraries for your platform.\n",
      "Skipping registering GPU devices...\n",
      "2023-11-20 19:13:00.621985: W tensorflow/core/common_runtime/gpu/gpu_device.cc:1960] Cannot dlopen some GPU libraries. Please make sure the missing libraries mentioned above are installed properly if you would like to use GPU. Follow the guide at https://www.tensorflow.org/install/gpu for how to download and setup the required libraries for your platform.\n",
      "Skipping registering GPU devices...\n"
     ]
    },
    {
     "data": {
      "application/vnd.jupyter.widget-view+json": {
       "model_id": "c621dc84d2164b8a9016a7d23ea4bbef",
       "version_major": 2,
       "version_minor": 0
      },
      "text/plain": [
       "interactive(children=(Dropdown(description='dataset', options=('Aruba', 'Home1', 'Home2', 'A4H', 'VanKasteren'…"
      ]
     },
     "metadata": {},
     "output_type": "display_data"
    }
   ],
   "source": [
    "import  unified_ar.general.utils as utils\n",
    "\n",
    "import unified_ar.result_analyse.visualisation as vs\n",
    "import unified_ar as ua\n",
    "import unified_ar.result_analyse.resultloader\n",
    "from ipywidgets import interact, interactive, fixed, interact_manual,widgets,Layout\n",
    "   \n",
    "ua.reload()\n",
    "import os\n",
    "%matplotlib inline\n",
    "# a=result_analyse.resultloader.get_runs_summary()\n",
    "# print(a)\n",
    "# out = widgets.Output(layout={'border': '1px solid black'})\n",
    "while \"datasets\" not in os.listdir():\n",
    "    os.chdir(\"..\")\n",
    "\n",
    "from matplotlib.pylab import plt\n",
    "import unified_ar.result_analyse.visualisation as vs\n",
    "from unified_ar.metric.CMbasedMetric import CMbasedMetric\n",
    "from sklearn.metrics  import confusion_matrix\n",
    "\n",
    "@interact\n",
    "def datasets(dataset=['Aruba','Home1','Home2','A4H','VanKasteren']):\n",
    "    from IPython.display import clear_output\n",
    "\n",
    "    @interact_manual\n",
    "    def compare(files=widgets.SelectMultiple(options=unified_ar.result_analyse.resultloader.get_runs_summary(dataset), description='Files', layout=Layout(width='100%', height='180px')), titles=\"title1,title2\"):\n",
    "        if len(files) == 0:\n",
    "                return print('no file is selected')\n",
    "        titles = titles.split(',')\n",
    "        if (len(titles) != len(files)):\n",
    "            print('Titles are not correct. use files names instead')\n",
    "            titles = files\n",
    "        alldata={}\n",
    "        \n",
    "        for i,file in enumerate(files):\n",
    "            title=titles[i]\n",
    "            print(\"================================\",title,file)\n",
    "    #         clear_output(wait=True)\n",
    "            run_info,dataset,evalres=utils.loadState(file)\n",
    "            alldata[title]=evalres\n",
    "            print(run_info)\n",
    "            print(dir(evalres[0]['test']))\n",
    "            \n",
    "            # print(evalres[0]['test'].functions['segmentor'])\n",
    "            print('all fold avg:',vs.fold_avg(dataset,evalres))\n",
    "            [print(f\"{f}: {evalres[f]['test'].quality}\") for f in evalres]\n",
    "    #         [print(f\"{fun}: {evalres[0]['test'].functions[fun]}\") for fun in evalres[0]['test'].functions]\n",
    "            fig,axs=plt.subplots(1,2,sharex=True,sharey=True)\n",
    "    #         evalres.drop(['None'])\n",
    "            test_event_cm=evalres[0]['test'].event_cm\n",
    "            test_cm=evalres[0]['test'].cm if hasattr(evalres[0]['test'],\"cm\") else test_event_cm*0\n",
    "            vs.plot_CM_normal(test_cm,dataset.activities,title=f'{title} normal',ax=axs[0])\n",
    "            vs.plot_CM_normal(test_event_cm,dataset.activities,title=f'{title} TS-CM',ax=axs[1])\n",
    "            display(f\"{title} weighted avg Normal: {CMbasedMetric(test_cm,'weighted')} Event: {CMbasedMetric(test_event_cm,'weighted')}\");\n",
    "            display(f\"{title} micro avg    Normal: {CMbasedMetric(test_cm,'micro')} Event: {CMbasedMetric(test_event_cm,'micro')}\");\n",
    "            display(f\"{title} macro avg    Normal: {CMbasedMetric(test_cm,'macro')} Event: {CMbasedMetric(test_event_cm,'macro')}\");\n",
    "       \n",
    "            vs.plot_joint_events(dataset, evalres[0]['test'].real_events, evalres[0]['test'].pred_events,title=title)\n",
    "        \n",
    "        vs.plot_per_act(dataset,alldata)\n",
    "        "
   ]
  },
  {
   "cell_type": "code",
   "execution_count": 23,
   "metadata": {},
   "outputs": [
    {
     "name": "stdout",
     "output_type": "stream",
     "text": [
      "Please install GPU version of TF\n"
     ]
    },
    {
     "name": "stderr",
     "output_type": "stream",
     "text": [
      "2023-11-20 18:28:29.169585: W tensorflow/core/common_runtime/gpu/gpu_device.cc:1960] Cannot dlopen some GPU libraries. Please make sure the missing libraries mentioned above are installed properly if you would like to use GPU. Follow the guide at https://www.tensorflow.org/install/gpu for how to download and setup the required libraries for your platform.\n",
      "Skipping registering GPU devices...\n"
     ]
    },
    {
     "name": "stdout",
     "output_type": "stream",
     "text": [
      "<unified_ar.common.data.Data object at 0x7fbbe6595250>\n"
     ]
    }
   ],
   "source": [
    "file=\"0-HHMM--Home1\"\n",
    "ua.reload()\n",
    "run_info,dataset,evalres=utils.loadState(file)\n",
    "print(f\"{evalres[0]['test']!r}\")"
   ]
  },
  {
   "cell_type": "code",
   "execution_count": null,
   "metadata": {},
   "outputs": [],
   "source": []
  }
 ],
 "metadata": {
  "kernelspec": {
   "display_name": "Python 3 (ipykernel)",
   "language": "python",
   "name": "python3"
  },
  "language_info": {
   "codemirror_mode": {
    "name": "ipython",
    "version": 3
   },
   "file_extension": ".py",
   "mimetype": "text/x-python",
   "name": "python",
   "nbconvert_exporter": "python",
   "pygments_lexer": "ipython3",
   "version": "3.8.10"
  }
 },
 "nbformat": 4,
 "nbformat_minor": 4
}
