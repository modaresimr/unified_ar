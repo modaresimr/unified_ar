{
 "cells": [
  {
   "cell_type": "markdown",
   "metadata": {},
   "source": [
    "# Download Datasets\n",
    "You need the datasets to be able to use this repository\n",
    "\n",
    "This file contain guides to download the following datasets:\n",
    "\n",
    "- CASAS Home1 for AR\n",
    "- CASAS Home2 for AR\n",
    "- CASAS Aruba for AR\n",
    "- Orange4Home for AR"
   ]
  },
  {
   "cell_type": "code",
   "execution_count": 1,
   "metadata": {},
   "outputs": [
    {
     "name": "stdout",
     "output_type": "stream",
     "text": [
      "ROOT: /users/modaresi/unified_ar\n"
     ]
    }
   ],
   "source": [
    "import os; \n",
    "while \"datasets\" not in os.listdir():\n",
    "    os.chdir('..')\n",
    "\n",
    "ROOT=os.getcwd()\n",
    "print(f\"ROOT: {ROOT}\")"
   ]
  },
  {
   "cell_type": "markdown",
   "metadata": {},
   "source": [
    "# Activity Recognition (AR)"
   ]
  },
  {
   "cell_type": "markdown",
   "metadata": {},
   "source": [
    "## CASAS based Datasets\n"
   ]
  },
  {
   "cell_type": "markdown",
   "metadata": {},
   "source": [
    "### Aruba"
   ]
  },
  {
   "cell_type": "code",
   "execution_count": 2,
   "metadata": {},
   "outputs": [
    {
     "name": "stdout",
     "output_type": "stream",
     "text": [
      "  % Total    % Received % Xferd  Average Speed   Time    Time     Time  Current\n",
      "                                 Dload  Upload   Total   Spent    Left  Speed\n",
      "100 48934  100 48934    0     0   188k      0 --:--:-- --:--:-- --:--:--  188k\n",
      "  % Total    % Received % Xferd  Average Speed   Time    Time     Time  Current\n",
      "                                 Dload  Upload   Total   Spent    Left  Speed\n",
      "100  1200  100  1200    0     0   5084      0 --:--:-- --:--:-- --:--:--  5084\n",
      "  % Total    % Received % Xferd  Average Speed   Time    Time     Time  Current\n",
      "                                 Dload  Upload   Total   Spent    Left  Speed\n",
      "100 58.2M  100 58.2M    0     0  19.2M      0  0:00:03  0:00:03 --:--:-- 19.2M\n"
     ]
    }
   ],
   "source": [
    "folder=f'{ROOT}/datasets/casas/aruba/'\n",
    "os.makedirs(folder, exist_ok=True)\n",
    "\n",
    "!curl -Lo {folder}/home-setting.jpg https://raw.githubusercontent.com/modaresimr/UnifiedAR/master/datasetfiles/CASAS/Aruba/aruba.jpg\n",
    "!curl -Lo {folder}/README.md https://raw.githubusercontent.com/modaresimr/UnifiedAR/master/datasetfiles/CASAS/Aruba/README\n",
    "!curl -Lo {folder}/data.txt https://raw.githubusercontent.com/modaresimr/UnifiedAR/master/datasetfiles/CASAS/Aruba/data.txt"
   ]
  },
  {
   "cell_type": "markdown",
   "metadata": {},
   "source": [
    "### Home1"
   ]
  },
  {
   "cell_type": "code",
   "execution_count": 3,
   "metadata": {},
   "outputs": [
    {
     "name": "stdout",
     "output_type": "stream",
     "text": [
      "  % Total    % Received % Xferd  Average Speed   Time    Time     Time  Current\n",
      "                                 Dload  Upload   Total   Spent    Left  Speed\n",
      "100  188k  100  188k    0     0   788k      0 --:--:-- --:--:-- --:--:--  788k\n",
      "  % Total    % Received % Xferd  Average Speed   Time    Time     Time  Current\n",
      "                                 Dload  Upload   Total   Spent    Left  Speed\n",
      "100   501  100   501    0     0   2385      0 --:--:-- --:--:-- --:--:--  2385\n",
      "  % Total    % Received % Xferd  Average Speed   Time    Time     Time  Current\n",
      "                                 Dload  Upload   Total   Spent    Left  Speed\n",
      "100 12.7M  100 12.7M    0     0  13.3M      0 --:--:-- --:--:-- --:--:-- 13.3M\n"
     ]
    }
   ],
   "source": [
    "folder=f'{ROOT}/datasets/casas/home1/'\n",
    "os.makedirs(folder, exist_ok=True)\n",
    "\n",
    "!curl -Lo {folder}/home-setting.jpg https://raw.githubusercontent.com/modaresimr/UnifiedAR/master/datasetfiles/CASAS/Home1/home1.png\n",
    "!curl -Lo {folder}/README.md https://raw.githubusercontent.com/modaresimr/UnifiedAR/master/datasetfiles/CASAS/Home1/README\n",
    "!curl -Lo {folder}/data.txt https://raw.githubusercontent.com/modaresimr/UnifiedAR/master/datasetfiles/CASAS/Home1/data.txt"
   ]
  },
  {
   "cell_type": "markdown",
   "metadata": {},
   "source": [
    "### Home2"
   ]
  },
  {
   "cell_type": "code",
   "execution_count": 4,
   "metadata": {},
   "outputs": [
    {
     "name": "stdout",
     "output_type": "stream",
     "text": [
      "  % Total    % Received % Xferd  Average Speed   Time    Time     Time  Current\n",
      "                                 Dload  Upload   Total   Spent    Left  Speed\n",
      "100  192k  100  192k    0     0   754k      0 --:--:-- --:--:-- --:--:--  754k\n",
      "  % Total    % Received % Xferd  Average Speed   Time    Time     Time  Current\n",
      "                                 Dload  Upload   Total   Spent    Left  Speed\n",
      "100   501  100   501    0     0   2256      0 --:--:-- --:--:-- --:--:--  2256\n",
      "  % Total    % Received % Xferd  Average Speed   Time    Time     Time  Current\n",
      "                                 Dload  Upload   Total   Spent    Left  Speed\n",
      "100 8953k  100 8953k    0     0  14.3M      0 --:--:-- --:--:-- --:--:-- 14.2M\n"
     ]
    }
   ],
   "source": [
    "folder=f'{ROOT}/datasets/casas/home2/'\n",
    "os.makedirs(folder, exist_ok=True)\n",
    "\n",
    "!curl -Lo {folder}/home-setting.jpg https://raw.githubusercontent.com/modaresimr/UnifiedAR/master/datasetfiles/CASAS/Home2/home2.png\n",
    "!curl -Lo {folder}/README.md https://raw.githubusercontent.com/modaresimr/UnifiedAR/master/datasetfiles/CASAS/Home2/README\n",
    "!curl -Lo {folder}/data.txt https://raw.githubusercontent.com/modaresimr/UnifiedAR/master/datasetfiles/CASAS/Home2/data.txt"
   ]
  },
  {
   "cell_type": "markdown",
   "metadata": {},
   "source": [
    "### KaryoAdlNormal"
   ]
  },
  {
   "cell_type": "code",
   "execution_count": 5,
   "metadata": {},
   "outputs": [
    {
     "name": "stdout",
     "output_type": "stream",
     "text": [
      "  % Total    % Received % Xferd  Average Speed   Time    Time     Time  Current\n",
      "                                 Dload  Upload   Total   Spent    Left  Speed\n",
      "100  226k  100  226k    0     0   734k      0 --:--:-- --:--:-- --:--:--  731k\n",
      "  % Total    % Received % Xferd  Average Speed   Time    Time     Time  Current\n",
      "                                 Dload  Upload   Total   Spent    Left  Speed\n",
      "100  3368  100  3368    0     0  14771      0 --:--:-- --:--:-- --:--:-- 14771\n",
      "  % Total    % Received % Xferd  Average Speed   Time    Time     Time  Current\n",
      "                                 Dload  Upload   Total   Spent    Left  Speed\n",
      "100  228k  100  228k    0     0   857k      0 --:--:-- --:--:-- --:--:--  860k\n"
     ]
    }
   ],
   "source": [
    "folder=f'{ROOT}/datasets/casas/karyo_adl_normal/'\n",
    "os.makedirs(folder, exist_ok=True)\n",
    "\n",
    "!curl -Lo {folder}/home-setting.jpg https://raw.githubusercontent.com/modaresimr/UnifiedAR/master/datasetfiles/CASAS/KaryoAdlNormal/Chinook_3_Bedroom_TH.png\n",
    "!curl -Lo {folder}/README.md https://raw.githubusercontent.com/modaresimr/UnifiedAR/master/datasetfiles/CASAS/KaryoAdlNormal/README\n",
    "!curl -Lo {folder}/data.txt https://raw.githubusercontent.com/modaresimr/UnifiedAR/master/datasetfiles/CASAS/KaryoAdlNormal/data.txt"
   ]
  },
  {
   "cell_type": "markdown",
   "metadata": {},
   "source": [
    "## Orange 4 Home"
   ]
  },
  {
   "cell_type": "code",
   "execution_count": 6,
   "metadata": {},
   "outputs": [
    {
     "name": "stdout",
     "output_type": "stream",
     "text": [
      "  % Total    % Received % Xferd  Average Speed   Time    Time     Time  Current\n",
      "                                 Dload  Upload   Total   Spent    Left  Speed\n",
      "100  226k  100  226k    0     0  3055k      0 --:--:-- --:--:-- --:--:-- 3055k\n",
      "  % Total    % Received % Xferd  Average Speed   Time    Time     Time  Current\n",
      "                                 Dload  Upload   Total   Spent    Left  Speed\n",
      "100  3368  100  3368    0     0  76545      0 --:--:-- --:--:-- --:--:-- 76545\n",
      "  % Total    % Received % Xferd  Average Speed   Time    Time     Time  Current\n",
      "                                 Dload  Upload   Total   Spent    Left  Speed\n",
      "  0     0    0     0    0     0      0      0 --:--:-- --:--:-- --:--:--     0\n",
      "100 24.5M  100 24.5M    0     0  14.7M      0  0:00:01  0:00:01 --:--:-- 19.9M\n",
      "  % Total    % Received % Xferd  Average Speed   Time    Time     Time  Current\n",
      "                                 Dload  Upload   Total   Spent    Left  Speed\n",
      "  0     0    0     0    0     0      0      0 --:--:-- --:--:-- --:--:--     0\n",
      "100 30505  100 30505    0     0  67191      0 --:--:-- --:--:-- --:--:-- 1986k\n",
      "  % Total    % Received % Xferd  Average Speed   Time    Time     Time  Current\n",
      "                                 Dload  Upload   Total   Spent    Left  Speed\n",
      "  0     0    0     0    0     0      0      0 --:--:-- --:--:-- --:--:--     0\n",
      "100 35254  100 35254    0     0  84339      0 --:--:-- --:--:-- --:--:-- 84339\n"
     ]
    }
   ],
   "source": [
    "folder=f'{ROOT}/datasets/orange4home/'\n",
    "os.makedirs(folder, exist_ok=True)\n",
    "\n",
    "!curl -Lo {folder}/home-setting.jpg https://raw.githubusercontent.com/modaresimr/UnifiedAR/master/datasetfiles/CASAS/KaryoAdlNormal/Chinook_3_Bedroom_TH.png\n",
    "!curl -Lo {folder}/README.md https://raw.githubusercontent.com/modaresimr/UnifiedAR/master/datasetfiles/CASAS/KaryoAdlNormal/README\n",
    "!curl -Lo {folder}/sensor_events.csv https://github.com/modaresimr/UnifiedAR/raw/master/datasetfiles/A4H/sensor_events.csv\n",
    "!curl -Lo {folder}/sensor_description.csv https://github.com/modaresimr/UnifiedAR/raw/master/datasetfiles/A4H/sensor_description.csv\n",
    "!curl -Lo {folder}/activities.csv https://github.com/modaresimr/UnifiedAR/raw/master/datasetfiles/A4H/activities.csv\n"
   ]
  },
  {
   "cell_type": "markdown",
   "metadata": {},
   "source": [
    "## VanKasteren"
   ]
  },
  {
   "cell_type": "code",
   "execution_count": 7,
   "metadata": {},
   "outputs": [
    {
     "name": "stdout",
     "output_type": "stream",
     "text": [
      "  % Total    % Received % Xferd  Average Speed   Time    Time     Time  Current\n",
      "                                 Dload  Upload   Total   Spent    Left  Speed\n",
      "100    14  100    14    0     0     64      0 --:--:-- --:--:-- --:--:--    64\n",
      "  % Total    % Received % Xferd  Average Speed   Time    Time     Time  Current\n",
      "                                 Dload  Upload   Total   Spent    Left  Speed\n",
      "100   101  100   101    0     0    463      0 --:--:-- --:--:-- --:--:--   461\n",
      "  % Total    % Received % Xferd  Average Speed   Time    Time     Time  Current\n",
      "                                 Dload  Upload   Total   Spent    Left  Speed\n",
      "100 78706  100 78706    0     0   329k      0 --:--:-- --:--:-- --:--:--  329k\n",
      "  % Total    % Received % Xferd  Average Speed   Time    Time     Time  Current\n",
      "                                 Dload  Upload   Total   Spent    Left  Speed\n",
      "100    14  100    14    0     0     61      0 --:--:-- --:--:-- --:--:--    61\n",
      "  % Total    % Received % Xferd  Average Speed   Time    Time     Time  Current\n",
      "                                 Dload  Upload   Total   Spent    Left  Speed\n",
      "100   101  100   101    0     0    450      0 --:--:-- --:--:-- --:--:--   450\n",
      "  % Total    % Received % Xferd  Average Speed   Time    Time     Time  Current\n",
      "                                 Dload  Upload   Total   Spent    Left  Speed\n",
      "100    14  100    14    0     0     67      0 --:--:-- --:--:-- --:--:--    67\n",
      "  % Total    % Received % Xferd  Average Speed   Time    Time     Time  Current\n",
      "                                 Dload  Upload   Total   Spent    Left  Speed\n",
      "100    14  100    14    0     0     74      0 --:--:-- --:--:-- --:--:--    74\n",
      "  % Total    % Received % Xferd  Average Speed   Time    Time     Time  Current\n",
      "                                 Dload  Upload   Total   Spent    Left  Speed\n",
      "100   101  100   101    0     0    467      0 --:--:-- --:--:-- --:--:--   465\n",
      "  % Total    % Received % Xferd  Average Speed   Time    Time     Time  Current\n",
      "                                 Dload  Upload   Total   Spent    Left  Speed\n",
      "100    14  100    14    0     0     68      0 --:--:-- --:--:-- --:--:--    68\n"
     ]
    }
   ],
   "source": [
    "for name in ['A','B','C']:\n",
    "\tfolder = f'{ROOT}/datasets/van_kasteren/{name}/'\n",
    "\tos.makedirs(folder, exist_ok=True)\n",
    "\n",
    "\t!curl -Lo {folder}/home-setting.jpg https://raw.githubusercontent.com/modaresimr/UnifiedAR/master/datasetfiles/VanKasteren/{name}/setting.png\n",
    "\t!curl -Lo {folder}/README.md https://raw.githubusercontent.com/modaresimr/UnifiedAR/master/datasetfiles/VanKasteren/{name}/README\n",
    "\t!curl -Lo {folder}/data.txt https://raw.githubusercontent.com/modaresimr/UnifiedAR/master/datasetfiles/VanKasteren/{name}/data.txt\n"
   ]
  }
 ],
 "metadata": {
  "kernelspec": {
   "display_name": "Python 3 (ipykernel)",
   "language": "python",
   "name": "python3"
  },
  "language_info": {
   "codemirror_mode": {
    "name": "ipython",
    "version": 3
   },
   "file_extension": ".py",
   "mimetype": "text/x-python",
   "name": "python",
   "nbconvert_exporter": "python",
   "pygments_lexer": "ipython3",
   "version": "3.8.10"
  }
 },
 "nbformat": 4,
 "nbformat_minor": 4
}
