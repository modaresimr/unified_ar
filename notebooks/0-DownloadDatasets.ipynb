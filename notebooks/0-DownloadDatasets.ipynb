{
 "cells": [
  {
   "cell_type": "markdown",
   "metadata": {},
   "source": [
    "# Download Datasets\n",
    "You need the datasets to be able to use this repository\n",
    "\n",
    "This file contain guides to download the following datasets:\n",
    "\n",
    "- CASAS Home1 for AR\n",
    "- CASAS Home2 for AR\n",
    "- CASAS Aruba for AR\n",
    "- Orange4Home for AR"
   ]
  },
  {
   "cell_type": "code",
   "execution_count": 3,
   "metadata": {},
   "outputs": [
    {
     "name": "stdout",
     "output_type": "stream",
     "text": [
      "ROOT: e:\\ali\\projects\\unified_ar\n"
     ]
    }
   ],
   "source": [
    "import os; \n",
    "while \"datasets\" not in os.listdir():\n",
    "    os.chdir('..')\n",
    "\n",
    "ROOT=os.getcwd()\n",
    "print(f\"ROOT: {ROOT}\")"
   ]
  },
  {
   "cell_type": "markdown",
   "metadata": {},
   "source": [
    "# Activity Recognition (AR)"
   ]
  },
  {
   "cell_type": "markdown",
   "metadata": {},
   "source": [
    "## CASAS based Datasets\n"
   ]
  },
  {
   "cell_type": "markdown",
   "metadata": {},
   "source": [
    "### Aruba"
   ]
  },
  {
   "cell_type": "code",
   "execution_count": 8,
   "metadata": {},
   "outputs": [
    {
     "name": "stderr",
     "output_type": "stream",
     "text": [
      "  % Total    % Received % Xferd  Average Speed   Time    Time     Time  Current\n",
      "                                 Dload  Upload   Total   Spent    Left  Speed\n",
      "\n",
      "  0     0    0     0    0     0      0      0 --:--:-- --:--:-- --:--:--     0\n",
      "100 48934  100 48934    0     0   925k      0 --:--:-- --:--:-- --:--:--  955k\n",
      "  % Total    % Received % Xferd  Average Speed   Time    Time     Time  Current\n",
      "                                 Dload  Upload   Total   Spent    Left  Speed\n",
      "\n",
      "  0     0    0     0    0     0      0      0 --:--:-- --:--:-- --:--:--     0\n",
      "100  1200  100  1200    0     0  28565      0 --:--:-- --:--:-- --:--:-- 30000\n",
      "  % Total    % Received % Xferd  Average Speed   Time    Time     Time  Current\n",
      "                                 Dload  Upload   Total   Spent    Left  Speed\n",
      "\n",
      "  0     0    0     0    0     0      0      0 --:--:-- --:--:-- --:--:--     0\n",
      "  0     0    0     0    0     0      0      0 --:--:-- --:--:-- --:--:--     0\n",
      "100 58.2M  100 58.2M    0     0  65.0M      0 --:--:-- --:--:-- --:--:-- 65.1M\n"
     ]
    }
   ],
   "source": [
    "folder=f'{ROOT}/datasets/casas/aruba/'\n",
    "os.makedirs(folder, exist_ok=True)\n",
    "\n",
    "!curl -Lo {folder}/home-setting.jpg https://raw.githubusercontent.com/modaresimr/UnifiedAR/master/datasetfiles/CASAS/Aruba/aruba.jpg\n",
    "!curl -Lo {folder}/README.md https://raw.githubusercontent.com/modaresimr/UnifiedAR/master/datasetfiles/CASAS/Aruba/README\n",
    "!curl -Lo {folder}/data.txt https://raw.githubusercontent.com/modaresimr/UnifiedAR/master/datasetfiles/CASAS/Aruba/data.txt"
   ]
  },
  {
   "cell_type": "markdown",
   "metadata": {},
   "source": [
    "### Home1"
   ]
  },
  {
   "cell_type": "code",
   "execution_count": 9,
   "metadata": {},
   "outputs": [
    {
     "name": "stderr",
     "output_type": "stream",
     "text": [
      "  % Total    % Received % Xferd  Average Speed   Time    Time     Time  Current\n",
      "                                 Dload  Upload   Total   Spent    Left  Speed\n",
      "\n",
      "  0     0    0     0    0     0      0      0 --:--:-- --:--:-- --:--:--     0\n",
      "100  188k  100  188k    0     0   748k      0 --:--:-- --:--:-- --:--:--  753k\n",
      "  % Total    % Received % Xferd  Average Speed   Time    Time     Time  Current\n",
      "                                 Dload  Upload   Total   Spent    Left  Speed\n",
      "\n",
      "  0     0    0     0    0     0      0      0 --:--:-- --:--:-- --:--:--     0\n",
      "100   501  100   501    0     0   2120      0 --:--:-- --:--:-- --:--:--  2141\n",
      "  % Total    % Received % Xferd  Average Speed   Time    Time     Time  Current\n",
      "                                 Dload  Upload   Total   Spent    Left  Speed\n",
      "\n",
      "  0     0    0     0    0     0      0      0 --:--:-- --:--:-- --:--:--     0\n",
      "  0     0    0     0    0     0      0      0 --:--:--  0:00:01 --:--:--     0\n",
      "  0     0    0     0    0     0      0      0 --:--:--  0:00:02 --:--:--     0\n",
      "  0 12.7M    0     0    0     0      0      0 --:--:--  0:00:02 --:--:--     0\n",
      "100 12.7M  100 12.7M    0     0  4844k      0  0:00:02  0:00:02 --:--:-- 4844k\n"
     ]
    }
   ],
   "source": [
    "folder=f'{ROOT}/datasets/casas/home1/'\n",
    "os.makedirs(folder, exist_ok=True)\n",
    "\n",
    "!curl -Lo {folder}/home-setting.jpg https://raw.githubusercontent.com/modaresimr/UnifiedAR/master/datasetfiles/CASAS/Home1/home1.png\n",
    "!curl -Lo {folder}/README.md https://raw.githubusercontent.com/modaresimr/UnifiedAR/master/datasetfiles/CASAS/Home1/README\n",
    "!curl -Lo {folder}/data.txt https://raw.githubusercontent.com/modaresimr/UnifiedAR/master/datasetfiles/CASAS/Home1/data.txt"
   ]
  },
  {
   "cell_type": "markdown",
   "metadata": {},
   "source": [
    "### Home2"
   ]
  },
  {
   "cell_type": "code",
   "execution_count": 6,
   "metadata": {},
   "outputs": [
    {
     "name": "stderr",
     "output_type": "stream",
     "text": [
      "  % Total    % Received % Xferd  Average Speed   Time    Time     Time  Current\n",
      "                                 Dload  Upload   Total   Spent    Left  Speed\n",
      "\n",
      "  0     0    0     0    0     0      0      0 --:--:-- --:--:-- --:--:--     0\n",
      "100  192k  100  192k    0     0   527k      0 --:--:-- --:--:-- --:--:--  529k\n",
      "  % Total    % Received % Xferd  Average Speed   Time    Time     Time  Current\n",
      "                                 Dload  Upload   Total   Spent    Left  Speed\n",
      "\n",
      "  0     0    0     0    0     0      0      0 --:--:-- --:--:-- --:--:--     0\n",
      "  0     0    0     0    0     0      0      0 --:--:-- --:--:-- --:--:--     0\n",
      "100   501  100   501    0     0   2167      0 --:--:-- --:--:-- --:--:--  2168\n",
      "  % Total    % Received % Xferd  Average Speed   Time    Time     Time  Current\n",
      "                                 Dload  Upload   Total   Spent    Left  Speed\n",
      "\n",
      "  0     0    0     0    0     0      0      0 --:--:-- --:--:-- --:--:--     0\n",
      "  0 8953k    0 12402    0     0  10877      0  0:14:02  0:00:01  0:14:01 10898\n",
      "100 8953k  100 8953k    0     0  6830k      0  0:00:01  0:00:01 --:--:-- 6839k\n"
     ]
    }
   ],
   "source": [
    "folder=f'{ROOT}/datasets/casas/home2/'\n",
    "os.makedirs(folder, exist_ok=True)\n",
    "\n",
    "!curl -Lo {folder}/home-setting.jpg https://raw.githubusercontent.com/modaresimr/UnifiedAR/master/datasetfiles/CASAS/Home2/home2.png\n",
    "!curl -Lo {folder}/README.md https://raw.githubusercontent.com/modaresimr/UnifiedAR/master/datasetfiles/CASAS/Home2/README\n",
    "!curl -Lo {folder}/data.txt https://raw.githubusercontent.com/modaresimr/UnifiedAR/master/datasetfiles/CASAS/Home2/data.txt"
   ]
  },
  {
   "cell_type": "markdown",
   "metadata": {},
   "source": [
    "### KaryoAdlNormal"
   ]
  },
  {
   "cell_type": "code",
   "execution_count": 10,
   "metadata": {},
   "outputs": [
    {
     "name": "stderr",
     "output_type": "stream",
     "text": [
      "  % Total    % Received % Xferd  Average Speed   Time    Time     Time  Current\n",
      "                                 Dload  Upload   Total   Spent    Left  Speed\n",
      "\n",
      "  0     0    0     0    0     0      0      0 --:--:-- --:--:-- --:--:--     0\n",
      "100  226k  100  226k    0     0   951k      0 --:--:-- --:--:-- --:--:--  962k\n",
      "  % Total    % Received % Xferd  Average Speed   Time    Time     Time  Current\n",
      "                                 Dload  Upload   Total   Spent    Left  Speed\n",
      "\n",
      "  0     0    0     0    0     0      0      0 --:--:-- --:--:-- --:--:--     0\n",
      "100  3368  100  3368    0     0  14979      0 --:--:-- --:--:-- --:--:-- 15103\n",
      "  % Total    % Received % Xferd  Average Speed   Time    Time     Time  Current\n",
      "                                 Dload  Upload   Total   Spent    Left  Speed\n",
      "\n",
      "  0     0    0     0    0     0      0      0 --:--:-- --:--:-- --:--:--     0\n",
      "100  228k  100  228k    0     0   976k      0 --:--:-- --:--:-- --:--:--  982k\n"
     ]
    }
   ],
   "source": [
    "folder=f'{ROOT}/datasets/casas/karyo_adl_normal/'\n",
    "os.makedirs(folder, exist_ok=True)\n",
    "\n",
    "!curl -Lo {folder}/home-setting.jpg https://raw.githubusercontent.com/modaresimr/UnifiedAR/master/datasetfiles/CASAS/KaryoAdlNormal/Chinook_3_Bedroom_TH.png\n",
    "!curl -Lo {folder}/README.md https://raw.githubusercontent.com/modaresimr/UnifiedAR/master/datasetfiles/CASAS/KaryoAdlNormal/README\n",
    "!curl -Lo {folder}/data.txt https://raw.githubusercontent.com/modaresimr/UnifiedAR/master/datasetfiles/CASAS/KaryoAdlNormal/data.txt"
   ]
  },
  {
   "cell_type": "markdown",
   "metadata": {},
   "source": [
    "## Orange 4 Home"
   ]
  },
  {
   "cell_type": "code",
   "execution_count": 13,
   "metadata": {},
   "outputs": [
    {
     "name": "stderr",
     "output_type": "stream",
     "text": [
      "  % Total    % Received % Xferd  Average Speed   Time    Time     Time  Current\n",
      "                                 Dload  Upload   Total   Spent    Left  Speed\n",
      "\n",
      "  0     0    0     0    0     0      0      0 --:--:-- --:--:-- --:--:--     0\n",
      "100  226k  100  226k    0     0  1421k      0 --:--:-- --:--:-- --:--:-- 1440k\n",
      "  % Total    % Received % Xferd  Average Speed   Time    Time     Time  Current\n",
      "                                 Dload  Upload   Total   Spent    Left  Speed\n",
      "\n",
      "  0     0    0     0    0     0      0      0 --:--:-- --:--:-- --:--:--     0\n",
      "100  3368  100  3368    0     0  40307      0 --:--:-- --:--:-- --:--:-- 41073\n",
      "  % Total    % Received % Xferd  Average Speed   Time    Time     Time  Current\n",
      "                                 Dload  Upload   Total   Spent    Left  Speed\n",
      "\n",
      "  0     0    0     0    0     0      0      0 --:--:-- --:--:-- --:--:--     0\n",
      "  0     0    0     0    0     0      0      0 --:--:-- --:--:-- --:--:--     0\n",
      "\n",
      "  3 24.5M    3  880k    0     0  2323k      0  0:00:10 --:--:--  0:00:10 2323k\n",
      " 51 24.5M   51 12.6M    0     0  9380k      0  0:00:02  0:00:01  0:00:01 11.7M\n",
      "100 24.5M  100 24.5M    0     0  14.9M      0  0:00:01  0:00:01 --:--:-- 18.7M\n",
      "  % Total    % Received % Xferd  Average Speed   Time    Time     Time  Current\n",
      "                                 Dload  Upload   Total   Spent    Left  Speed\n",
      "\n",
      "  0     0    0     0    0     0      0      0 --:--:-- --:--:-- --:--:--     0\n",
      "  0     0    0     0    0     0      0      0 --:--:-- --:--:-- --:--:--     0\n",
      "\n",
      "100 30505  100 30505    0     0   321k      0 --:--:-- --:--:-- --:--:--  321k\n",
      "  % Total    % Received % Xferd  Average Speed   Time    Time     Time  Current\n",
      "                                 Dload  Upload   Total   Spent    Left  Speed\n",
      "\n",
      "  0     0    0     0    0     0      0      0 --:--:-- --:--:-- --:--:--     0\n",
      "  0     0    0     0    0     0      0      0 --:--:-- --:--:-- --:--:--     0\n",
      "\n",
      "100 35254  100 35254    0     0   118k      0 --:--:-- --:--:-- --:--:--  118k\n"
     ]
    }
   ],
   "source": [
    "folder=f'{ROOT}/datasets/orange4home/'\n",
    "os.makedirs(folder, exist_ok=True)\n",
    "\n",
    "!curl -Lo {folder}/home-setting.jpg https://raw.githubusercontent.com/modaresimr/UnifiedAR/master/datasetfiles/CASAS/KaryoAdlNormal/Chinook_3_Bedroom_TH.png\n",
    "!curl -Lo {folder}/README.md https://raw.githubusercontent.com/modaresimr/UnifiedAR/master/datasetfiles/CASAS/KaryoAdlNormal/README\n",
    "!curl -Lo {folder}/sensor_events.csv https://github.com/modaresimr/UnifiedAR/raw/master/datasetfiles/A4H/sensor_events.csv\n",
    "!curl -Lo {folder}/sensor_description.csv https://github.com/modaresimr/UnifiedAR/raw/master/datasetfiles/A4H/sensor_description.csv\n",
    "!curl -Lo {folder}/activities.csv https://github.com/modaresimr/UnifiedAR/raw/master/datasetfiles/A4H/activities.csv\n"
   ]
  },
  {
   "cell_type": "markdown",
   "metadata": {},
   "source": [
    "## VanKasteren"
   ]
  },
  {
   "cell_type": "code",
   "execution_count": 11,
   "metadata": {},
   "outputs": [
    {
     "name": "stderr",
     "output_type": "stream",
     "text": [
      "  % Total    % Received % Xferd  Average Speed   Time    Time     Time  Current\n",
      "                                 Dload  Upload   Total   Spent    Left  Speed\n",
      "\n",
      "  0     0    0     0    0     0      0      0 --:--:-- --:--:-- --:--:--     0\n",
      "100    14  100    14    0     0     67      0 --:--:-- --:--:-- --:--:--    68\n",
      "  % Total    % Received % Xferd  Average Speed   Time    Time     Time  Current\n",
      "                                 Dload  Upload   Total   Spent    Left  Speed\n",
      "\n",
      "  0     0    0     0    0     0      0      0 --:--:-- --:--:-- --:--:--     0\n",
      "  0     0    0     0    0     0      0      0 --:--:-- --:--:-- --:--:--     0\n",
      "100   101  100   101    0     0    412      0 --:--:-- --:--:-- --:--:--   413\n",
      "  % Total    % Received % Xferd  Average Speed   Time    Time     Time  Current\n",
      "                                 Dload  Upload   Total   Spent    Left  Speed\n",
      "\n",
      "  0     0    0     0    0     0      0      0 --:--:-- --:--:-- --:--:--     0\n",
      "100 78706  100 78706    0     0   287k      0 --:--:-- --:--:-- --:--:--  290k\n",
      "  % Total    % Received % Xferd  Average Speed   Time    Time     Time  Current\n",
      "                                 Dload  Upload   Total   Spent    Left  Speed\n",
      "\n",
      "  0     0    0     0    0     0      0      0 --:--:-- --:--:-- --:--:--     0\n",
      "100    14  100    14    0     0     62      0 --:--:-- --:--:-- --:--:--    63\n",
      "  % Total    % Received % Xferd  Average Speed   Time    Time     Time  Current\n",
      "                                 Dload  Upload   Total   Spent    Left  Speed\n",
      "\n",
      "  0     0    0     0    0     0      0      0 --:--:-- --:--:-- --:--:--     0\n",
      "100   101  100   101    0     0    471      0 --:--:-- --:--:-- --:--:--   471\n",
      "100   101  100   101    0     0    470      0 --:--:-- --:--:-- --:--:--   471\n",
      "  % Total    % Received % Xferd  Average Speed   Time    Time     Time  Current\n",
      "                                 Dload  Upload   Total   Spent    Left  Speed\n",
      "\n",
      "  0     0    0     0    0     0      0      0 --:--:-- --:--:-- --:--:--     0\n",
      "100    14  100    14    0     0     61      0 --:--:-- --:--:-- --:--:--    62\n",
      "  % Total    % Received % Xferd  Average Speed   Time    Time     Time  Current\n",
      "                                 Dload  Upload   Total   Spent    Left  Speed\n",
      "\n",
      "  0     0    0     0    0     0      0      0 --:--:-- --:--:-- --:--:--     0\n",
      "100    14  100    14    0     0     65      0 --:--:-- --:--:-- --:--:--    65\n",
      "  % Total    % Received % Xferd  Average Speed   Time    Time     Time  Current\n",
      "                                 Dload  Upload   Total   Spent    Left  Speed\n",
      "\n",
      "  0     0    0     0    0     0      0      0 --:--:-- --:--:-- --:--:--     0\n",
      "100   101  100   101    0     0    491      0 --:--:-- --:--:-- --:--:--   495\n",
      "  % Total    % Received % Xferd  Average Speed   Time    Time     Time  Current\n",
      "                                 Dload  Upload   Total   Spent    Left  Speed\n",
      "\n",
      "  0     0    0     0    0     0      0      0 --:--:-- --:--:-- --:--:--     0\n",
      "  0     0    0     0    0     0      0      0 --:--:-- --:--:-- --:--:--     0\n",
      "100    14  100    14    0     0     61      0 --:--:-- --:--:-- --:--:--    61\n"
     ]
    }
   ],
   "source": [
    "for name in ['A','B','C']:\n",
    "\tfolder = f'{ROOT}/datasets/van_kasteren/{name}/'\n",
    "\tos.makedirs(folder, exist_ok=True)\n",
    "\n",
    "\t!curl -Lo {folder}/home-setting.jpg https://raw.githubusercontent.com/modaresimr/UnifiedAR/master/datasetfiles/VanKasteren/{name}/setting.png\n",
    "\t!curl -Lo {folder}/README.md https://raw.githubusercontent.com/modaresimr/UnifiedAR/master/datasetfiles/VanKasteren/{name}/README\n",
    "\t!curl -Lo {folder}/data.txt https://raw.githubusercontent.com/modaresimr/UnifiedAR/master/datasetfiles/VanKasteren/{name}/data.txt\n"
   ]
  }
 ],
 "metadata": {
  "kernelspec": {
   "display_name": "Python 3 (ipykernel)",
   "language": "python",
   "name": "python3"
  },
  "language_info": {
   "codemirror_mode": {
    "name": "ipython",
    "version": 3
   },
   "file_extension": ".py",
   "mimetype": "text/x-python",
   "name": "python",
   "nbconvert_exporter": "python",
   "pygments_lexer": "ipython3",
   "version": "3.11.5"
  },
  "orig_nbformat": 4
 },
 "nbformat": 4,
 "nbformat_minor": 2
}
