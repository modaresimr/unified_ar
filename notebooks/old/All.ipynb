{
 "cells": [
  {
   "cell_type": "markdown",
   "metadata": {
    "ExecuteTime": {
     "end_time": "2020-11-04T21:12:20.851007Z",
     "start_time": "2020-11-04T21:12:20.848232Z"
    }
   },
   "source": [
    "# Run Pipeline\n",
    "To run the Pipeline (all steps from Sensor events to Activity events) : Please execute following code"
   ]
  },
  {
   "cell_type": "code",
   "execution_count": 1,
   "metadata": {
    "ExecuteTime": {
     "end_time": "2021-11-23T10:55:41.517374Z",
     "start_time": "2021-11-23T10:55:39.391992Z"
    }
   },
   "outputs": [
    {
     "name": "stdout",
     "output_type": "stream",
     "text": [
      "Please install GPU version of TF\n",
      "Please install GPU version of TF\n"
     ]
    },
    {
     "data": {
      "application/vnd.jupyter.widget-view+json": {
       "model_id": "1a43c9fb644f428288b870c7196e1bd8",
       "version_major": 2,
       "version_minor": 0
      },
      "text/plain": [
       "interactive(children=(Dropdown(description='segmentation', options={\"SlidingEventActivityWindow [{'size': 25},…"
      ]
     },
     "metadata": {},
     "output_type": "display_data"
    }
   ],
   "source": [
    "import unified_ar.general.utils as utils\n",
    "import os\n",
    "while \"datasets\" not in os.listdir():\n",
    "    os.chdir(\"..\")\n",
    "    \n",
    "utils.reload()\n",
    "import unified_ar.general.uiutils\n",
    "unified_ar.general.uiutils.runPipelineUI()"
   ]
  },
  {
   "cell_type": "code",
   "execution_count": 22,
   "metadata": {},
   "outputs": [
    {
     "name": "stdout",
     "output_type": "stream",
     "text": [
      "Defaulting to user installation because normal site-packages is not writeableNote: you may need to restart the kernel to use updated packages.\n",
      "\n",
      "Collecting libsvm\n",
      "  Downloading libsvm-3.23.0.4.tar.gz (170 kB)\n",
      "     ---------------------------------------- 0.0/170.6 kB ? eta -:--:--\n",
      "     -- ------------------------------------- 10.2/170.6 kB ? eta -:--:--\n",
      "     -- ------------------------------------- 10.2/170.6 kB ? eta -:--:--\n",
      "     ------ ------------------------------ 30.7/170.6 kB 187.9 kB/s eta 0:00:01\n",
      "     ------------- ----------------------- 61.4/170.6 kB 297.7 kB/s eta 0:00:01\n",
      "     --------------- --------------------- 71.7/170.6 kB 280.5 kB/s eta 0:00:01\n",
      "     ------------------------- ---------- 122.9/170.6 kB 425.1 kB/s eta 0:00:01\n",
      "     ------------------------------------ 170.6/170.6 kB 539.8 kB/s eta 0:00:00\n",
      "  Preparing metadata (setup.py): started\n",
      "  Preparing metadata (setup.py): finished with status 'done'\n",
      "Building wheels for collected packages: libsvm\n",
      "  Building wheel for libsvm (setup.py): started\n",
      "  Building wheel for libsvm (setup.py): finished with status 'done'\n",
      "  Created wheel for libsvm: filename=libsvm-3.23.0.4-py3-none-any.whl size=150398 sha256=ef2760291f955c9862661d24f61e09cda841935e5db63f711c3c61efd574cde1\n",
      "  Stored in directory: c:\\users\\ali\\appdata\\local\\pip\\cache\\wheels\\8f\\75\\e4\\e56ce92f54df4fad2b06e49bce70ad39a89f2442e67b3f4eef\n",
      "Successfully built libsvm\n",
      "Installing collected packages: libsvm\n",
      "Successfully installed libsvm-3.23.0.4\n"
     ]
    }
   ],
   "source": [
    "he layer: expected min_ndim=3, found ndim=2"
   ]
  },
  {
   "cell_type": "markdown",
   "metadata": {},
   "source": [
    "# Gem-Compare-Multi-Run\n",
    "You can select multiple run (by holding CTRL key) and it will show the f1 in evaluation information for those run for each activities and also it will shows the combination of activities."
   ]
  },
  {
   "cell_type": "code",
   "execution_count": null,
   "metadata": {
    "ExecuteTime": {
     "end_time": "2021-11-15T17:10:28.980433Z",
     "start_time": "2021-11-15T17:10:28.932900Z"
    }
   },
   "outputs": [],
   "source": [
    "import unified_ar.general.libinstall\n",
    "import unified_ar.general.uiutils\n",
    "import unified_ar.general.utils as utils\n",
    "utils.reload()\n",
    "%matplotlib inline\n",
    "unified_ar.general.uiutils.loadGemMultiUI()"
   ]
  },
  {
   "cell_type": "markdown",
   "metadata": {},
   "source": [
    "# Metric Details \n",
    "\n",
    "(not fully working)\n",
    "You can select a specific run and it will show the evaluation information and display charts for precision, recall and f1 measure."
   ]
  },
  {
   "cell_type": "code",
   "execution_count": null,
   "metadata": {
    "ExecuteTime": {
     "end_time": "2021-11-12T16:44:59.326471Z",
     "start_time": "2021-11-12T16:44:58.070360Z"
    }
   },
   "outputs": [],
   "source": [
    "import unified_ar.general.libinstall\n",
    "import unified_ar.general.uiutils\n",
    "%matplotlib inline\n",
    "general.uiutils.loadGemMetricUI()"
   ]
  }
 ],
 "metadata": {
  "kernelspec": {
   "display_name": "Python 3 (ipykernel)",
   "language": "python",
   "name": "python3"
  },
  "language_info": {
   "codemirror_mode": {
    "name": "ipython",
    "version": 3
   },
   "file_extension": ".py",
   "mimetype": "text/x-python",
   "name": "python",
   "nbconvert_exporter": "python",
   "pygments_lexer": "ipython3",
   "version": "3.10.4"
  },
  "toc": {
   "base_numbering": 1,
   "nav_menu": {},
   "number_sections": true,
   "sideBar": true,
   "skip_h1_title": false,
   "title_cell": "Table of Contents",
   "title_sidebar": "Contents",
   "toc_cell": false,
   "toc_position": {},
   "toc_section_display": true,
   "toc_window_display": false
  },
  "varInspector": {
   "cols": {
    "lenName": 16,
    "lenType": 16,
    "lenVar": 40
   },
   "kernels_config": {
    "python": {
     "delete_cmd_postfix": "",
     "delete_cmd_prefix": "del ",
     "library": "var_list.py",
     "varRefreshCmd": "print(var_dic_list())"
    },
    "r": {
     "delete_cmd_postfix": ") ",
     "delete_cmd_prefix": "rm(",
     "library": "var_list.r",
     "varRefreshCmd": "cat(var_dic_list()) "
    }
   },
   "types_to_exclude": [
    "module",
    "function",
    "builtin_function_or_method",
    "instance",
    "_Feature"
   ],
   "window_display": false
  },
  "vscode": {
   "interpreter": {
    "hash": "0f91b223a9be7f82bfd164eb4b10e5e1c532d3ceac636b749a2ce370dda12911"
   }
  }
 },
 "nbformat": 4,
 "nbformat_minor": 4
}
