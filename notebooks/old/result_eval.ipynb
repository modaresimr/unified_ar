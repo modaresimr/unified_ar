{
 "cells": [
  {
   "cell_type": "code",
   "execution_count": 4,
   "metadata": {
    "ExecuteTime": {
     "end_time": "2020-11-03T21:38:31.384393Z",
     "start_time": "2020-11-03T21:38:31.358436Z"
    }
   },
   "outputs": [],
   "source": [
    "# matplotlib.use('WebAgg')\n",
    "\n"
   ]
  },
  {
   "cell_type": "code",
   "execution_count": 2,
   "metadata": {
    "ExecuteTime": {
     "end_time": "2022-06-01T15:09:13.093111Z",
     "start_time": "2022-06-01T15:09:12.972591Z"
    },
    "scrolled": false
   },
   "outputs": [
    {
     "name": "stdout",
     "output_type": "stream",
     "text": [
      "Populating the interactive namespace from numpy and matplotlib\n"
     ]
    },
    {
     "name": "stderr",
     "output_type": "stream",
     "text": [
      "/opt/conda/lib/python3.8/site-packages/IPython/core/magics/pylab.py:159: UserWarning: pylab import has clobbered these variables: ['interactive']\n",
      "`%matplotlib` prevents importing * from pylab and numpy\n",
      "  warn(\"pylab import has clobbered these variables: %s\"  % clobbered +\n"
     ]
    },
    {
     "data": {
      "application/vnd.jupyter.widget-view+json": {
       "model_id": "d64675a33457454ca5e7d50e6f3ffaa8",
       "version_major": 2,
       "version_minor": 0
      },
      "text/plain": [
       "interactive(children=(Dropdown(description='file', options=(('meta_dataset 220519_12-44-58-Home2', 'meta_datas…"
      ]
     },
     "metadata": {},
     "output_type": "display_data"
    }
   ],
   "source": [
    "# %matplotlib widget\n",
    "%pylab inline\n",
    "# %pylab widget\n",
    "# pylab.rcParams['figure.figsize'] = (8, 3)\n",
    "import  general.utils as utils\n",
    "import result_analyse.resultloader\n",
    "import result_analyse.visualisation as vs\n",
    "\n",
    "from ipywidgets import interact, interactive, fixed, interact_manual,widgets\n",
    "import numpy as np\n",
    "import pandas as pd\n",
    "\n",
    "@interact\n",
    "def result_selector(file=result_analyse.resultloader.get_runs()):\n",
    "    if(file==None):return\n",
    "    print('Analysing ',file)\n",
    "    run_info,dataset,evalres=utils.loadState(file)\n",
    "    stime=dataset.activity_events.iloc[0].StartTime\n",
    "    #etime=stime+np.timedelta64(1,'D')\n",
    "    etime=dataset.activity_events.iloc[-1].EndTime\n",
    "\n",
    "    for i in range(len(evalres)):\n",
    "            quality=evalres[i]['test'].quality\n",
    "            print('Evalution quality fold=%d is %s' % (i, quality))\n",
    "    print(len(dataset.sensor_events))\n",
    "    \n",
    "#     vs.plot_CM(dataset,evalres)\n",
    "    \n",
    "    @interact\n",
    "    def viewFold(fold= range(len(evalres))):\n",
    "        @interact_manual\n",
    "        def view(start_date=widgets.DatePicker(value=pd.to_datetime(stime)),end_date=widgets.DatePicker(value=pd.to_datetime(etime)),debug=widgets.Checkbox(value=False)):\n",
    "            duration=(pd.to_datetime(start_date),pd.to_datetime(end_date))\n",
    "            duration2=(pd.to_datetime(start_date),pd.to_datetime(start_date)+pd.DateOffset(days=7))\n",
    "            real_events=vs.filterTime(evalres[fold]['test'].real_events,duration)\n",
    "            pred_events=vs.filterTime(evalres[fold]['test'].pred_events,duration)\n",
    "            #vs.plotJoinAct(dataset,real_events,pred_events)\n",
    "            acts=[p for p in dataset.activities_map]\n",
    "            labels=[dataset.activities_map[p] for p in acts]\n",
    "            print(acts)\n",
    "            print(labels)\n",
    "            vs.plotJoinAct2(real_events,pred_events,acts,labels,duration=duration2)\n",
    "            #vs.plot_per_act(dataset,{'test':evalres})\n",
    "            \n",
    "            from matplotlib import pyplot as plt\n",
    "            plt.rc_context(rc={'figure.max_open_warning': 0})\n",
    "            import result_analyse.SpiderChart\n",
    "            result_analyse.SpiderChart.radar_factory(5, frame='polygon')\n",
    "            acount=len(dataset.activities_map)\n",
    "            a_fig,a_ax=plt.subplots(acount-1,1,figsize=(10, acount*.25),)\n",
    "#             a_fig.tight_layout(pad=3.0)\n",
    "            col=4        \n",
    "            row=int(np.ceil((acount-1.0)/float(col)))\n",
    "            m_fig,m_ax=plt.subplots(row,col,figsize=(col*3, row*3),subplot_kw=dict(projection='radar'))\n",
    "            if type(a_ax)!=np.ndarray:\n",
    "                print('dddd',a_ax)\n",
    "                print(type(a_ax))\n",
    "                a_ax=np.array([a_ax])\n",
    "            else:\n",
    "                m_ax=m_ax.flatten()\n",
    "            for i in range(acount-1,len(m_ax)):\n",
    "                m_ax[i].set_visible(False)\n",
    "\n",
    "            for i in range(1,len(dataset.activities_map)):\n",
    "#                 real_events2,pred_events2=vs.remove_gaps(real_events,pred_events,i)\n",
    "                #real_events2,pred_events2=vs.remove_gaps(real_events,pred_events,i,max_events=10)\n",
    "                real_events2,pred_events2=real_events,pred_events\n",
    "#                 vs.plotJoinAct(dataset,real_events,pred_events,onlyAct=i,ax=a_ax[i-1])\n",
    "                try:\n",
    "#                     vs.plotJoinAct(dataset,real_events2,pred_events2,onlyAct=i,ax=a_ax[i-1])\n",
    "                    vs.plotMyMetric2(dataset,real_events2,pred_events2,onlyAct=i,ax=m_ax[i-1],debug=debug,calcne=0)\n",
    "#                     vs.plotWardMetric(dataset,real_events,pred_events,onlyAct=i)\n",
    "                except:\n",
    "                    import sys\n",
    "                    import traceback\n",
    "                    print(e, file=sys.stderr)\n",
    "                    traceback.print_exc()\n",
    "\n",
    "                #    print('error in ',i)\n",
    "                #vs.plotWardMetric(dataset,real_events,pred_events,onlyAct=i)\n",
    "#             vs.plotJoinMyMetric(dataset,real_events2,pred_events2,calcne=0)\n",
    "            a_fig.show()\n",
    "            m_fig.tight_layout(pad=0,h_pad=-20.0, w_pad=3.0)\n",
    "            m_fig.show()\n",
    "                \n",
    "#             @interact\n",
    "#             def view2(onlyAct=[(str(i)+\" : \"+dataset.activities[i],i)for i in dataset.activities_map]):\n",
    "#                 print(onlyAct)\n",
    "#                 #vs.visualize(dataset)\n",
    "#                 # vs.my_result_analyse(evalres[i].real_events,evalres[i].pred_events)               \n",
    "#                 #vs.plotJoinAct(dataset,real_events,pred_events,onlyAct=onlyAct)\n",
    "#                 real_events2,pred_events2=vs.remove_gaps(real_events,pred_events,onlyAct)\n",
    "#                 vs.plotJoinAct(dataset,real_events2,pred_events2,onlyAct=onlyAct)\n",
    "#                 vs.plotMyMetric(dataset,real_events,pred_events,onlyAct=onlyAct)\n",
    "#                 vs.plotWardMetric(dataset,real_events,pred_events,onlyAct=onlyAct)\n",
    "\n"
   ]
  },
  {
   "cell_type": "code",
   "execution_count": 3,
   "metadata": {
    "ExecuteTime": {
     "end_time": "2020-11-03T20:52:29.616518Z",
     "start_time": "2020-11-03T20:52:29.471782Z"
    }
   },
   "outputs": [
    {
     "data": {
      "text/plain": [
       "<matplotlib.legend.Legend at 0x7f3497572390>"
      ]
     },
     "execution_count": 3,
     "metadata": {},
     "output_type": "execute_result"
    },
    {
     "data": {
      "image/png": "[encoded data removed]",
      "text/plain": [
       "<Figure size 432x288 with 1 Axes>"
      ]
     },
     "metadata": {
      "needs_background": "light"
     },
     "output_type": "display_data"
    }
   ],
   "source": [
    "p,ax=plt.subplots()\n",
    "alpha=1\n",
    "x=numpy.arange(0,1,.01)\n",
    "\n",
    "for alpha in [1, 2, 4, 8 ,16]:\n",
    "    y=1-np.exp(-alpha *x)\n",
    "    ax.plot(x,y, label='\\u03B2 ='+str(alpha))\n",
    "ax.legend()\n",
    "\n"
   ]
  },
  {
   "cell_type": "code",
   "execution_count": null,
   "metadata": {},
   "outputs": [],
   "source": []
  }
 ],
 "metadata": {
  "kernelspec": {
   "display_name": "Python 3",
   "language": "python",
   "name": "python3"
  },
  "language_info": {
   "codemirror_mode": {
    "name": "ipython",
    "version": 3
   },
   "file_extension": ".py",
   "mimetype": "text/x-python",
   "name": "python",
   "nbconvert_exporter": "python",
   "pygments_lexer": "ipython3",
   "version": "3.8.10"
  },
  "toc": {
   "base_numbering": 1,
   "nav_menu": {},
   "number_sections": true,
   "sideBar": true,
   "skip_h1_title": false,
   "title_cell": "Table of Contents",
   "title_sidebar": "Contents",
   "toc_cell": false,
   "toc_position": {
    "height": "calc(100% - 180px)",
    "left": "10px",
    "top": "150px",
    "width": "165px"
   },
   "toc_section_display": true,
   "toc_window_display": false
  },
  "varInspector": {
   "cols": {
    "lenName": 16,
    "lenType": 16,
    "lenVar": 40
   },
   "kernels_config": {
    "python": {
     "delete_cmd_postfix": "",
     "delete_cmd_prefix": "del ",
     "library": "var_list.py",
     "varRefreshCmd": "print(var_dic_list())"
    },
    "r": {
     "delete_cmd_postfix": ") ",
     "delete_cmd_prefix": "rm(",
     "library": "var_list.r",
     "varRefreshCmd": "cat(var_dic_list()) "
    }
   },
   "types_to_exclude": [
    "module",
    "function",
    "builtin_function_or_method",
    "instance",
    "_Feature"
   ],
   "window_display": false
  }
 },
 "nbformat": 4,
 "nbformat_minor": 4
}
