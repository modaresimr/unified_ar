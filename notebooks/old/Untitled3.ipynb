{
 "cells": [
  {
   "cell_type": "code",
   "execution_count": 6,
   "id": "dfd7eb4e",
   "metadata": {
    "ExecuteTime": {
     "end_time": "2022-05-19T09:26:32.004181Z",
     "start_time": "2022-05-19T09:26:31.683889Z"
    }
   },
   "outputs": [
    {
     "name": "stdout",
     "output_type": "stream",
     "text": [
      "             47         334        174        258        77         31   \\\n",
      "count  28.000000  28.000000  28.000000  28.000000  28.000000  28.000000   \n",
      "mean    2.571429   4.285714   0.035714  51.321429  51.964286  52.000000   \n",
      "std     1.596955   1.511858   0.188982   6.760745   7.146520   7.128451   \n",
      "min     0.000000   0.000000   0.000000  37.000000  37.000000  37.000000   \n",
      "25%     1.750000   4.000000   0.000000  46.000000  46.750000  46.750000   \n",
      "50%     2.000000   4.000000   0.000000  48.000000  48.000000  48.500000   \n",
      "75%     4.000000   4.000000   0.000000  58.000000  59.000000  59.000000   \n",
      "max     7.000000   8.000000   1.000000  62.000000  63.000000  63.000000   \n",
      "\n",
      "             87         233        209        226  ...        221        289  \\\n",
      "count  28.000000  28.000000  28.000000  28.000000  ...  28.000000   28.00000   \n",
      "mean    0.071429   3.428571   3.178571   3.107143  ...   8.714286  118.25000   \n",
      "std     0.262265   3.833851   1.492042   1.396803  ...   2.992053   31.71473   \n",
      "min     0.000000   0.000000   0.000000   0.000000  ...   4.000000   68.00000   \n",
      "25%     0.000000   0.000000   2.000000   2.000000  ...   6.000000   91.00000   \n",
      "50%     0.000000   2.500000   3.000000   3.000000  ...   8.000000  113.00000   \n",
      "75%     0.000000   6.000000   4.000000   3.250000  ...  11.000000  149.25000   \n",
      "max     1.000000  13.000000   8.000000   8.000000  ...  14.000000  179.00000   \n",
      "\n",
      "             319        307        320        322        324        328  \\\n",
      "count  28.000000  28.000000  28.000000  28.000000  28.000000  28.000000   \n",
      "mean    2.785714   0.071429   2.000000   0.928571   0.142857   0.142857   \n",
      "std     1.133893   0.377964   0.942809   1.015749   0.524531   0.524531   \n",
      "min     2.000000   0.000000   0.000000   0.000000   0.000000   0.000000   \n",
      "25%     2.000000   0.000000   2.000000   0.000000   0.000000   0.000000   \n",
      "50%     2.000000   0.000000   2.000000   0.000000   0.000000   0.000000   \n",
      "75%     4.000000   0.000000   2.000000   2.000000   0.000000   0.000000   \n",
      "max     6.000000   2.000000   4.000000   2.000000   2.000000   2.000000   \n",
      "\n",
      "             323        329  \n",
      "count  28.000000  28.000000  \n",
      "mean    0.785714   1.857143  \n",
      "std     0.994695   0.524531  \n",
      "min     0.000000   0.000000  \n",
      "25%     0.000000   2.000000  \n",
      "50%     0.000000   2.000000  \n",
      "75%     2.000000   2.000000  \n",
      "max     2.000000   2.000000  \n",
      "\n",
      "[8 rows x 237 columns]\n",
      "        accuracy  precision     recall         f1       size      shift\n",
      "count  28.000000  28.000000  28.000000  28.000000  28.000000  28.000000\n",
      "mean    0.953214   0.878214   0.911786   0.877500  28.392857  23.571429\n",
      "std     0.058440   0.035700   0.034108   0.037478  10.278850   7.559289\n",
      "min     0.680000   0.770000   0.820000   0.780000  15.000000  15.000000\n",
      "25%     0.940000   0.857500   0.890000   0.860000  15.000000  15.000000\n",
      "50%     0.960000   0.880000   0.910000   0.885000  30.000000  30.000000\n",
      "75%     0.990000   0.910000   0.940000   0.900000  30.000000  30.000000\n",
      "max     0.990000   0.950000   0.970000   0.930000  45.000000  30.000000\n"
     ]
    }
   ],
   "source": [
    "import general.utils\n",
    "data=general.utils.loadState('temp')\n",
    "import pandas as pd\n",
    "target=pd.DataFrame(data['meta_targets'])\n",
    "feat=pd.DataFrame(data['meta_features'])\n",
    "print(feat.describe())\n",
    "print(target.describe())"
   ]
  },
  {
   "cell_type": "code",
   "execution_count": 4,
   "id": "3ba5c4ae",
   "metadata": {},
   "outputs": [],
   "source": [
    "import pandas as pd\n",
    "a=pd.Timestamp('2009-08-09 02:06:04.875001').value\n",
    "b=pd.Timestamp('2009-08-09 02:08:04.875001').value\n",
    "from intervaltree.intervaltree import IntervalTree\n",
    "tree = IntervalTree()\n",
    "tree[a:b]='s'"
   ]
  },
  {
   "cell_type": "code",
   "execution_count": null,
   "id": "c3208848-4dc2-4eee-b1df-b6f777b5cec3",
   "metadata": {},
   "outputs": [],
   "source": []
  },
  {
   "cell_type": "code",
   "execution_count": 3,
   "id": "c1a8c46a",
   "metadata": {
    "ExecuteTime": {
     "end_time": "2022-05-17T16:07:59.189582Z",
     "start_time": "2022-05-17T16:07:55.801660Z"
    }
   },
   "outputs": [
    {
     "name": "stdout",
     "output_type": "stream",
     "text": [
      "['Enter_Home' 'Personal_Hygiene' 'Meal_Preparation' 'Taking_Medication'\n",
      " 'Eating' 'Leave_Home' 'Sleeping_Not_in_Bed' 'Bed_Toilet_Transition'\n",
      " 'Sleeping_in_Bed' 'Bathing' 'Housekeeping']\n"
     ]
    }
   ],
   "source": [
    "from constants import methods\n",
    "ds=methods.dataset[1]['method']()\n",
    "ds.load()\n",
    "se=ds.sensor_events.copy()\n",
    "# se.groupby('SID')['value'].max()"
   ]
  },
  {
   "cell_type": "code",
   "execution_count": 4,
   "id": "ceb7b282",
   "metadata": {
    "ExecuteTime": {
     "end_time": "2022-05-17T16:07:59.342431Z",
     "start_time": "2022-05-17T16:07:59.338439Z"
    }
   },
   "outputs": [
    {
     "data": {
      "text/plain": [
       "{0: 'D021',\n",
       " 1: 'D022',\n",
       " 2: 'D023',\n",
       " 3: 'D024',\n",
       " 4: 'D025',\n",
       " 5: 'D026',\n",
       " 6: 'D027',\n",
       " 7: 'D028',\n",
       " 8: 'D029',\n",
       " 9: 'D030',\n",
       " 10: 'D031',\n",
       " 11: 'D032',\n",
       " 12: 'M001',\n",
       " 13: 'M002',\n",
       " 14: 'M003',\n",
       " 15: 'M004',\n",
       " 16: 'M005',\n",
       " 17: 'M006',\n",
       " 18: 'M007',\n",
       " 19: 'M008',\n",
       " 20: 'M009',\n",
       " 21: 'M010',\n",
       " 22: 'M011',\n",
       " 23: 'M012',\n",
       " 24: 'M015',\n",
       " 25: 'M016',\n",
       " 26: 'M017',\n",
       " 27: 'M018',\n",
       " 28: 'M019',\n",
       " 29: 'M020'}"
      ]
     },
     "execution_count": 4,
     "metadata": {},
     "output_type": "execute_result"
    }
   ],
   "source": [
    "ds.sensor_id_map"
   ]
  },
  {
   "cell_type": "code",
   "execution_count": 127,
   "id": "fa7ead37",
   "metadata": {
    "ExecuteTime": {
     "end_time": "2022-05-17T08:48:18.240944Z",
     "start_time": "2022-05-17T08:48:18.196795Z"
    }
   },
   "outputs": [
    {
     "data": {
      "text/html": [
       "<div>\n",
       "<style scoped>\n",
       "    .dataframe tbody tr th:only-of-type {\n",
       "        vertical-align: middle;\n",
       "    }\n",
       "\n",
       "    .dataframe tbody tr th {\n",
       "        vertical-align: top;\n",
       "    }\n",
       "\n",
       "    .dataframe thead th {\n",
       "        text-align: right;\n",
       "    }\n",
       "</style>\n",
       "<table border=\"1\" class=\"dataframe\">\n",
       "  <thead>\n",
       "    <tr style=\"text-align: right;\">\n",
       "      <th></th>\n",
       "      <th>time</th>\n",
       "      <th>value</th>\n",
       "    </tr>\n",
       "    <tr>\n",
       "      <th>SID</th>\n",
       "      <th></th>\n",
       "      <th></th>\n",
       "    </tr>\n",
       "  </thead>\n",
       "  <tbody>\n",
       "    <tr>\n",
       "      <th>D021</th>\n",
       "      <td>NaN</td>\n",
       "      <td>NaN</td>\n",
       "    </tr>\n",
       "    <tr>\n",
       "      <th>D023</th>\n",
       "      <td>NaN</td>\n",
       "      <td>NaN</td>\n",
       "    </tr>\n",
       "    <tr>\n",
       "      <th>D024</th>\n",
       "      <td>-2.0</td>\n",
       "      <td>-2.0</td>\n",
       "    </tr>\n",
       "    <tr>\n",
       "      <th>D025</th>\n",
       "      <td>-14.0</td>\n",
       "      <td>-14.0</td>\n",
       "    </tr>\n",
       "    <tr>\n",
       "      <th>D026</th>\n",
       "      <td>-6.0</td>\n",
       "      <td>-6.0</td>\n",
       "    </tr>\n",
       "    <tr>\n",
       "      <th>D027</th>\n",
       "      <td>-6.0</td>\n",
       "      <td>-6.0</td>\n",
       "    </tr>\n",
       "    <tr>\n",
       "      <th>D028</th>\n",
       "      <td>-4.0</td>\n",
       "      <td>-4.0</td>\n",
       "    </tr>\n",
       "    <tr>\n",
       "      <th>D029</th>\n",
       "      <td>-4.0</td>\n",
       "      <td>-4.0</td>\n",
       "    </tr>\n",
       "    <tr>\n",
       "      <th>D031</th>\n",
       "      <td>-12.0</td>\n",
       "      <td>-12.0</td>\n",
       "    </tr>\n",
       "    <tr>\n",
       "      <th>D032</th>\n",
       "      <td>-8.0</td>\n",
       "      <td>-8.0</td>\n",
       "    </tr>\n",
       "    <tr>\n",
       "      <th>M001</th>\n",
       "      <td>-344.0</td>\n",
       "      <td>-344.0</td>\n",
       "    </tr>\n",
       "    <tr>\n",
       "      <th>M002</th>\n",
       "      <td>-300.0</td>\n",
       "      <td>-300.0</td>\n",
       "    </tr>\n",
       "    <tr>\n",
       "      <th>M003</th>\n",
       "      <td>-108.0</td>\n",
       "      <td>-108.0</td>\n",
       "    </tr>\n",
       "    <tr>\n",
       "      <th>M004</th>\n",
       "      <td>-218.0</td>\n",
       "      <td>-218.0</td>\n",
       "    </tr>\n",
       "    <tr>\n",
       "      <th>M005</th>\n",
       "      <td>NaN</td>\n",
       "      <td>NaN</td>\n",
       "    </tr>\n",
       "    <tr>\n",
       "      <th>M006</th>\n",
       "      <td>-34.0</td>\n",
       "      <td>-34.0</td>\n",
       "    </tr>\n",
       "    <tr>\n",
       "      <th>M007</th>\n",
       "      <td>-78.0</td>\n",
       "      <td>-78.0</td>\n",
       "    </tr>\n",
       "    <tr>\n",
       "      <th>M008</th>\n",
       "      <td>-106.0</td>\n",
       "      <td>-106.0</td>\n",
       "    </tr>\n",
       "    <tr>\n",
       "      <th>M009</th>\n",
       "      <td>-150.0</td>\n",
       "      <td>-150.0</td>\n",
       "    </tr>\n",
       "    <tr>\n",
       "      <th>M010</th>\n",
       "      <td>NaN</td>\n",
       "      <td>NaN</td>\n",
       "    </tr>\n",
       "    <tr>\n",
       "      <th>M011</th>\n",
       "      <td>-206.0</td>\n",
       "      <td>-206.0</td>\n",
       "    </tr>\n",
       "    <tr>\n",
       "      <th>M012</th>\n",
       "      <td>-60.0</td>\n",
       "      <td>-60.0</td>\n",
       "    </tr>\n",
       "    <tr>\n",
       "      <th>M015</th>\n",
       "      <td>-240.0</td>\n",
       "      <td>-240.0</td>\n",
       "    </tr>\n",
       "    <tr>\n",
       "      <th>M016</th>\n",
       "      <td>NaN</td>\n",
       "      <td>NaN</td>\n",
       "    </tr>\n",
       "    <tr>\n",
       "      <th>M017</th>\n",
       "      <td>-26.0</td>\n",
       "      <td>-26.0</td>\n",
       "    </tr>\n",
       "    <tr>\n",
       "      <th>M018</th>\n",
       "      <td>-54.0</td>\n",
       "      <td>-54.0</td>\n",
       "    </tr>\n",
       "    <tr>\n",
       "      <th>M019</th>\n",
       "      <td>-86.0</td>\n",
       "      <td>-86.0</td>\n",
       "    </tr>\n",
       "  </tbody>\n",
       "</table>\n",
       "</div>"
      ],
      "text/plain": [
       "       time  value\n",
       "SID               \n",
       "D021    NaN    NaN\n",
       "D023    NaN    NaN\n",
       "D024   -2.0   -2.0\n",
       "D025  -14.0  -14.0\n",
       "D026   -6.0   -6.0\n",
       "D027   -6.0   -6.0\n",
       "D028   -4.0   -4.0\n",
       "D029   -4.0   -4.0\n",
       "D031  -12.0  -12.0\n",
       "D032   -8.0   -8.0\n",
       "M001 -344.0 -344.0\n",
       "M002 -300.0 -300.0\n",
       "M003 -108.0 -108.0\n",
       "M004 -218.0 -218.0\n",
       "M005    NaN    NaN\n",
       "M006  -34.0  -34.0\n",
       "M007  -78.0  -78.0\n",
       "M008 -106.0 -106.0\n",
       "M009 -150.0 -150.0\n",
       "M010    NaN    NaN\n",
       "M011 -206.0 -206.0\n",
       "M012  -60.0  -60.0\n",
       "M015 -240.0 -240.0\n",
       "M016    NaN    NaN\n",
       "M017  -26.0  -26.0\n",
       "M018  -54.0  -54.0\n",
       "M019  -86.0  -86.0"
      ]
     },
     "execution_count": 127,
     "metadata": {},
     "output_type": "execute_result"
    }
   ],
   "source": [
    "se.groupby(se['time'].dt.floor('d')).count()\n",
    "g=se.groupby([se['time'].dt.floor('d'),se['SID']]).count()\n",
    "g.loc['2009-06-15'].droplevel(0)-g.loc['2009-06-16'].droplevel(0)"
   ]
  },
  {
   "cell_type": "code",
   "execution_count": 157,
   "id": "d0a29d32",
   "metadata": {
    "ExecuteTime": {
     "end_time": "2022-05-17T11:05:55.193194Z",
     "start_time": "2022-05-17T11:05:55.167004Z"
    }
   },
   "outputs": [
    {
     "data": {
      "text/html": [
       "<div>\n",
       "<style scoped>\n",
       "    .dataframe tbody tr th:only-of-type {\n",
       "        vertical-align: middle;\n",
       "    }\n",
       "\n",
       "    .dataframe tbody tr th {\n",
       "        vertical-align: top;\n",
       "    }\n",
       "\n",
       "    .dataframe thead th {\n",
       "        text-align: right;\n",
       "    }\n",
       "</style>\n",
       "<table border=\"1\" class=\"dataframe\">\n",
       "  <thead>\n",
       "    <tr style=\"text-align: right;\">\n",
       "      <th></th>\n",
       "      <th>time</th>\n",
       "      <th>value</th>\n",
       "    </tr>\n",
       "    <tr>\n",
       "      <th>SID</th>\n",
       "      <th></th>\n",
       "      <th></th>\n",
       "    </tr>\n",
       "  </thead>\n",
       "  <tbody>\n",
       "    <tr>\n",
       "      <th>D021</th>\n",
       "      <td>50</td>\n",
       "      <td>50</td>\n",
       "    </tr>\n",
       "    <tr>\n",
       "      <th>D022</th>\n",
       "      <td>42</td>\n",
       "      <td>42</td>\n",
       "    </tr>\n",
       "    <tr>\n",
       "      <th>D023</th>\n",
       "      <td>350</td>\n",
       "      <td>350</td>\n",
       "    </tr>\n",
       "    <tr>\n",
       "      <th>D024</th>\n",
       "      <td>394</td>\n",
       "      <td>394</td>\n",
       "    </tr>\n",
       "    <tr>\n",
       "      <th>D025</th>\n",
       "      <td>918</td>\n",
       "      <td>918</td>\n",
       "    </tr>\n",
       "    <tr>\n",
       "      <th>D026</th>\n",
       "      <td>86</td>\n",
       "      <td>86</td>\n",
       "    </tr>\n",
       "    <tr>\n",
       "      <th>D027</th>\n",
       "      <td>328</td>\n",
       "      <td>328</td>\n",
       "    </tr>\n",
       "    <tr>\n",
       "      <th>D028</th>\n",
       "      <td>1579</td>\n",
       "      <td>1579</td>\n",
       "    </tr>\n",
       "    <tr>\n",
       "      <th>D029</th>\n",
       "      <td>250</td>\n",
       "      <td>250</td>\n",
       "    </tr>\n",
       "    <tr>\n",
       "      <th>D030</th>\n",
       "      <td>358</td>\n",
       "      <td>358</td>\n",
       "    </tr>\n",
       "    <tr>\n",
       "      <th>D031</th>\n",
       "      <td>1504</td>\n",
       "      <td>1504</td>\n",
       "    </tr>\n",
       "    <tr>\n",
       "      <th>D032</th>\n",
       "      <td>626</td>\n",
       "      <td>626</td>\n",
       "    </tr>\n",
       "    <tr>\n",
       "      <th>M001</th>\n",
       "      <td>14595</td>\n",
       "      <td>14595</td>\n",
       "    </tr>\n",
       "    <tr>\n",
       "      <th>M002</th>\n",
       "      <td>27647</td>\n",
       "      <td>27647</td>\n",
       "    </tr>\n",
       "    <tr>\n",
       "      <th>M003</th>\n",
       "      <td>16406</td>\n",
       "      <td>16406</td>\n",
       "    </tr>\n",
       "    <tr>\n",
       "      <th>M004</th>\n",
       "      <td>23608</td>\n",
       "      <td>23608</td>\n",
       "    </tr>\n",
       "    <tr>\n",
       "      <th>M005</th>\n",
       "      <td>7227</td>\n",
       "      <td>7227</td>\n",
       "    </tr>\n",
       "    <tr>\n",
       "      <th>M006</th>\n",
       "      <td>4161</td>\n",
       "      <td>4161</td>\n",
       "    </tr>\n",
       "    <tr>\n",
       "      <th>M007</th>\n",
       "      <td>6627</td>\n",
       "      <td>6627</td>\n",
       "    </tr>\n",
       "    <tr>\n",
       "      <th>M008</th>\n",
       "      <td>13605</td>\n",
       "      <td>13605</td>\n",
       "    </tr>\n",
       "    <tr>\n",
       "      <th>M009</th>\n",
       "      <td>15736</td>\n",
       "      <td>15736</td>\n",
       "    </tr>\n",
       "    <tr>\n",
       "      <th>M010</th>\n",
       "      <td>4331</td>\n",
       "      <td>4331</td>\n",
       "    </tr>\n",
       "    <tr>\n",
       "      <th>M011</th>\n",
       "      <td>34867</td>\n",
       "      <td>34867</td>\n",
       "    </tr>\n",
       "    <tr>\n",
       "      <th>M012</th>\n",
       "      <td>9375</td>\n",
       "      <td>9375</td>\n",
       "    </tr>\n",
       "    <tr>\n",
       "      <th>M015</th>\n",
       "      <td>22083</td>\n",
       "      <td>22083</td>\n",
       "    </tr>\n",
       "    <tr>\n",
       "      <th>M016</th>\n",
       "      <td>9685</td>\n",
       "      <td>9685</td>\n",
       "    </tr>\n",
       "    <tr>\n",
       "      <th>M017</th>\n",
       "      <td>7217</td>\n",
       "      <td>7217</td>\n",
       "    </tr>\n",
       "    <tr>\n",
       "      <th>M018</th>\n",
       "      <td>10447</td>\n",
       "      <td>10447</td>\n",
       "    </tr>\n",
       "    <tr>\n",
       "      <th>M019</th>\n",
       "      <td>13819</td>\n",
       "      <td>13819</td>\n",
       "    </tr>\n",
       "    <tr>\n",
       "      <th>M020</th>\n",
       "      <td>6999</td>\n",
       "      <td>6999</td>\n",
       "    </tr>\n",
       "  </tbody>\n",
       "</table>\n",
       "</div>"
      ],
      "text/plain": [
       "       time  value\n",
       "SID               \n",
       "D021     50     50\n",
       "D022     42     42\n",
       "D023    350    350\n",
       "D024    394    394\n",
       "D025    918    918\n",
       "D026     86     86\n",
       "D027    328    328\n",
       "D028   1579   1579\n",
       "D029    250    250\n",
       "D030    358    358\n",
       "D031   1504   1504\n",
       "D032    626    626\n",
       "M001  14595  14595\n",
       "M002  27647  27647\n",
       "M003  16406  16406\n",
       "M004  23608  23608\n",
       "M005   7227   7227\n",
       "M006   4161   4161\n",
       "M007   6627   6627\n",
       "M008  13605  13605\n",
       "M009  15736  15736\n",
       "M010   4331   4331\n",
       "M011  34867  34867\n",
       "M012   9375   9375\n",
       "M015  22083  22083\n",
       "M016   9685   9685\n",
       "M017   7217   7217\n",
       "M018  10447  10447\n",
       "M019  13819  13819\n",
       "M020   6999   6999"
      ]
     },
     "execution_count": 157,
     "metadata": {},
     "output_type": "execute_result"
    }
   ],
   "source": [
    "ssize=pd.to_timedelta('1d')\n",
    "overlap=pd.to_timedelta('1d')*.5\n",
    "se['time'].dt.floor(pd.to_timedelta('1h')).unique()\n",
    "starts=se['time'].dt.floor(overlap).unique()\n",
    "ends=starts+ssize\n",
    "# for s,d in zip(starts,ends):\n",
    "#     print(s,d)\n",
    "    \n",
    "se.groupby('SID').count()"
   ]
  },
  {
   "cell_type": "code",
   "execution_count": 14,
   "id": "c59a56c9",
   "metadata": {
    "ExecuteTime": {
     "end_time": "2022-05-15T18:27:20.687653Z",
     "start_time": "2022-05-15T18:27:20.683233Z"
    }
   },
   "outputs": [
    {
     "data": {
      "text/plain": [
       "OneHotEncoder(handle_unknown='ignore')"
      ]
     },
     "execution_count": 14,
     "metadata": {},
     "output_type": "execute_result"
    }
   ],
   "source": [
    "from sklearn.preprocessing import OneHotEncoder\n",
    "enc = OneHotEncoder(handle_unknown='ignore')\n",
    "rng=ds.sensor_desc.loc[329]['ItemRange']['range']\n",
    "enc.fit(np.asarray(rng).reshape(-1,1))"
   ]
  },
  {
   "cell_type": "code",
   "execution_count": null,
   "id": "00aa867c",
   "metadata": {
    "ExecuteTime": {
     "end_time": "2022-05-15T19:15:50.133628Z",
     "start_time": "2022-05-15T19:15:50.126191Z"
    }
   },
   "outputs": [],
   "source": [
    "\n"
   ]
  },
  {
   "cell_type": "code",
   "execution_count": 28,
   "id": "83662617",
   "metadata": {
    "ExecuteTime": {
     "end_time": "2022-05-15T18:43:09.856713Z",
     "start_time": "2022-05-15T18:43:09.852834Z"
    }
   },
   "outputs": [
    {
     "data": {
      "text/plain": [
       "array([334, 174,  77,  31, 209, 226,  49, 352, 331, 332, 330, 333,  35,\n",
       "       339, 340, 357, 358, 242, 131, 162, 244, 171,  89, 207, 208, 214,\n",
       "       220, 262, 310, 312, 337, 338, 356, 360, 335, 336, 305,  40, 124,\n",
       "       109, 210, 306,  62,  57,  52, 240,  51,  37,  61, 300, 315, 316,\n",
       "       317, 355, 314, 223, 230, 269, 346, 302, 345, 304, 400, 168,  43,\n",
       "        46, 118, 111,  72, 185, 212, 218,  45,  28, 299, 292, 293, 294,\n",
       "       295, 291, 353, 297, 351, 298, 282, 361, 273, 180, 343, 216, 177,\n",
       "       182, 222,  94, 311, 341, 354, 342, 283, 363, 213, 318, 344, 215,\n",
       "       347, 348, 221, 319, 307, 320, 322, 324, 328, 323, 329])"
      ]
     },
     "execution_count": 28,
     "metadata": {},
     "output_type": "execute_result"
    }
   ],
   "source": [
    "ds.sensor_desc[ds.sensor_desc['Nominal']==1].index.values"
   ]
  },
  {
   "cell_type": "code",
   "execution_count": 70,
   "id": "156f9063",
   "metadata": {
    "ExecuteTime": {
     "end_time": "2022-05-15T20:38:53.345897Z",
     "start_time": "2022-05-15T20:38:53.321670Z"
    }
   },
   "outputs": [],
   "source": [
    "from sklearn.preprocessing import MinMaxScaler\n",
    "\n",
    "nominal=[ds.sensor_id_map_inverse[x] for x in ds.sensor_desc[ds.sensor_desc['Nominal']==1].index]\n",
    "numeric_data=pd.DataFrame({ds.sensor_id_map_inverse[x]:ds.sensor_desc.loc[x]['ItemRange'] for x in ds.sensor_desc[ds.sensor_desc['Nominal']==0&(ds.sensor_desc['Cumulative']==0)].index})\n",
    "numeric_data=numeric_data.sort_index()\n",
    "minmaxscaler=MinMaxScaler()\n",
    "# minmaxscaler.fit([numeric_data.loc['min'].values,numeric_data.loc['max'].values])                          \n",
    "\n",
    "nominal_categories={ds.sensor_id_map_inverse[k]:ds.sensor_desc_map[k].keys() for k in ds.sensor_desc_map}\n",
    "nominal_categories=[list(nominal_categories[k]) for k in sorted(nominal_categories.keys())]\n",
    "\n",
    "numeric_transformer = Pipeline(\n",
    "    steps=[(\"imputer\", SimpleImputer(strategy=\"median\")), (\"scaler\", MinMaxScaler())]\n",
    ")\n",
    "\n",
    "categorical_transformer = OneHotEncoder(categories=nominal_categories,handle_unknown=\"ignore\")\n",
    "\n",
    "preprocessor = ColumnTransformer(\n",
    "    transformers=[\n",
    "        (\"num\", minmaxscaler, numeric_data.columns),\n",
    "        (\"cat\", categorical_transformer, nominal),\n",
    "    ]\n",
    ")\n",
    "z=np.zeros((2,len(ds.sensor_id_map)))\n",
    "# z[]\n",
    "for i in numeric_data.columns:\n",
    "    z[0][i]=numeric_data.loc['min'][i]\n",
    "    z[1][i]=numeric_data.loc['max'][i]\n"
   ]
  },
  {
   "cell_type": "code",
   "execution_count": 39,
   "id": "874d1786",
   "metadata": {
    "ExecuteTime": {
     "end_time": "2022-05-15T20:08:36.947703Z",
     "start_time": "2022-05-15T20:08:36.945493Z"
    }
   },
   "outputs": [],
   "source": [
    "X=[list(range(len(ds.sensor_desc)))]\n"
   ]
  },
  {
   "cell_type": "code",
   "execution_count": 113,
   "id": "ef37e86c",
   "metadata": {
    "ExecuteTime": {
     "end_time": "2022-05-15T22:06:18.569310Z",
     "start_time": "2022-05-15T22:06:18.566038Z"
    }
   },
   "outputs": [
    {
     "data": {
      "text/plain": [
       "array([0., 0., 0., 0., 0., 0., 0., 0., 0., 0.])"
      ]
     },
     "execution_count": 113,
     "metadata": {},
     "output_type": "execute_result"
    }
   ],
   "source": [
    "np.zeros(10)"
   ]
  },
  {
   "cell_type": "code",
   "execution_count": 56,
   "id": "5f3cc3d3",
   "metadata": {
    "ExecuteTime": {
     "end_time": "2022-05-15T19:09:00.287461Z",
     "start_time": "2022-05-15T19:09:00.274939Z"
    }
   },
   "outputs": [
    {
     "ename": "ValueError",
     "evalue": "Shape mismatch: if categories is an array, it has to be of shape (n_features,).",
     "output_type": "error",
     "traceback": [
      "\u001b[0;31m---------------------------------------------------------------------------\u001b[0m",
      "\u001b[0;31mValueError\u001b[0m                                Traceback (most recent call last)",
      "\u001b[0;32m<ipython-input-56-eb980ba90bfc>\u001b[0m in \u001b[0;36m<module>\u001b[0;34m\u001b[0m\n\u001b[1;32m      1\u001b[0m \u001b[0menc\u001b[0m \u001b[0;34m=\u001b[0m \u001b[0mOneHotEncoder\u001b[0m\u001b[0;34m(\u001b[0m\u001b[0mcategories\u001b[0m\u001b[0;34m=\u001b[0m\u001b[0;34m[\u001b[0m\u001b[0;34m[\u001b[0m\u001b[0;34m'Female'\u001b[0m\u001b[0;34m,\u001b[0m\u001b[0;34m'Male'\u001b[0m\u001b[0;34m]\u001b[0m\u001b[0;34m,\u001b[0m\u001b[0;34m[\u001b[0m\u001b[0;36m1\u001b[0m\u001b[0;34m,\u001b[0m\u001b[0;36m2\u001b[0m\u001b[0;34m,\u001b[0m\u001b[0;36m3\u001b[0m\u001b[0;34m]\u001b[0m\u001b[0;34m]\u001b[0m\u001b[0;34m,\u001b[0m\u001b[0mhandle_unknown\u001b[0m\u001b[0;34m=\u001b[0m\u001b[0;34m'ignore'\u001b[0m\u001b[0;34m)\u001b[0m\u001b[0;34m\u001b[0m\u001b[0;34m\u001b[0m\u001b[0m\n\u001b[1;32m      2\u001b[0m \u001b[0;31m# enc = OneHotEncoder()\u001b[0m\u001b[0;34m\u001b[0m\u001b[0;34m\u001b[0m\u001b[0;34m\u001b[0m\u001b[0m\n\u001b[0;32m----> 3\u001b[0;31m \u001b[0menc\u001b[0m\u001b[0;34m.\u001b[0m\u001b[0mfit\u001b[0m\u001b[0;34m(\u001b[0m\u001b[0;34m[\u001b[0m\u001b[0;34m[\u001b[0m\u001b[0;34m'0'\u001b[0m\u001b[0;34m]\u001b[0m\u001b[0;34m]\u001b[0m\u001b[0;34m)\u001b[0m\u001b[0;34m\u001b[0m\u001b[0;34m\u001b[0m\u001b[0m\n\u001b[0m\u001b[1;32m      4\u001b[0m \u001b[0mX\u001b[0m \u001b[0;34m=\u001b[0m \u001b[0;34m[\u001b[0m\u001b[0;34m[\u001b[0m\u001b[0;34m'Female'\u001b[0m\u001b[0;34m,\u001b[0m \u001b[0;36m1\u001b[0m\u001b[0;34m]\u001b[0m\u001b[0;34m,\u001b[0m \u001b[0;34m[\u001b[0m\u001b[0;34m'Female'\u001b[0m\u001b[0;34m,\u001b[0m \u001b[0;36m3\u001b[0m\u001b[0;34m]\u001b[0m\u001b[0;34m,\u001b[0m \u001b[0;34m[\u001b[0m\u001b[0;34m'Female'\u001b[0m\u001b[0;34m,\u001b[0m \u001b[0;36m2\u001b[0m\u001b[0;34m]\u001b[0m\u001b[0;34m]\u001b[0m\u001b[0;34m\u001b[0m\u001b[0;34m\u001b[0m\u001b[0m\n\u001b[1;32m      5\u001b[0m \u001b[0;31m# enc.fit(X)\u001b[0m\u001b[0;34m\u001b[0m\u001b[0;34m\u001b[0m\u001b[0;34m\u001b[0m\u001b[0m\n",
      "\u001b[0;32m/opt/conda/lib/python3.8/site-packages/sklearn/preprocessing/_encoders.py\u001b[0m in \u001b[0;36mfit\u001b[0;34m(self, X, y)\u001b[0m\n\u001b[1;32m    459\u001b[0m         \"\"\"\n\u001b[1;32m    460\u001b[0m         \u001b[0mself\u001b[0m\u001b[0;34m.\u001b[0m\u001b[0m_validate_keywords\u001b[0m\u001b[0;34m(\u001b[0m\u001b[0;34m)\u001b[0m\u001b[0;34m\u001b[0m\u001b[0;34m\u001b[0m\u001b[0m\n\u001b[0;32m--> 461\u001b[0;31m         \u001b[0mself\u001b[0m\u001b[0;34m.\u001b[0m\u001b[0m_fit\u001b[0m\u001b[0;34m(\u001b[0m\u001b[0mX\u001b[0m\u001b[0;34m,\u001b[0m \u001b[0mhandle_unknown\u001b[0m\u001b[0;34m=\u001b[0m\u001b[0mself\u001b[0m\u001b[0;34m.\u001b[0m\u001b[0mhandle_unknown\u001b[0m\u001b[0;34m,\u001b[0m \u001b[0mforce_all_finite\u001b[0m\u001b[0;34m=\u001b[0m\u001b[0;34m\"allow-nan\"\u001b[0m\u001b[0;34m)\u001b[0m\u001b[0;34m\u001b[0m\u001b[0;34m\u001b[0m\u001b[0m\n\u001b[0m\u001b[1;32m    462\u001b[0m         \u001b[0mself\u001b[0m\u001b[0;34m.\u001b[0m\u001b[0mdrop_idx_\u001b[0m \u001b[0;34m=\u001b[0m \u001b[0mself\u001b[0m\u001b[0;34m.\u001b[0m\u001b[0m_compute_drop_idx\u001b[0m\u001b[0;34m(\u001b[0m\u001b[0;34m)\u001b[0m\u001b[0;34m\u001b[0m\u001b[0;34m\u001b[0m\u001b[0m\n\u001b[1;32m    463\u001b[0m         \u001b[0;32mreturn\u001b[0m \u001b[0mself\u001b[0m\u001b[0;34m\u001b[0m\u001b[0;34m\u001b[0m\u001b[0m\n",
      "\u001b[0;32m/opt/conda/lib/python3.8/site-packages/sklearn/preprocessing/_encoders.py\u001b[0m in \u001b[0;36m_fit\u001b[0;34m(self, X, handle_unknown, force_all_finite)\u001b[0m\n\u001b[1;32m     82\u001b[0m         \u001b[0;32mif\u001b[0m \u001b[0mself\u001b[0m\u001b[0;34m.\u001b[0m\u001b[0mcategories\u001b[0m \u001b[0;34m!=\u001b[0m \u001b[0;34m\"auto\"\u001b[0m\u001b[0;34m:\u001b[0m\u001b[0;34m\u001b[0m\u001b[0;34m\u001b[0m\u001b[0m\n\u001b[1;32m     83\u001b[0m             \u001b[0;32mif\u001b[0m \u001b[0mlen\u001b[0m\u001b[0;34m(\u001b[0m\u001b[0mself\u001b[0m\u001b[0;34m.\u001b[0m\u001b[0mcategories\u001b[0m\u001b[0;34m)\u001b[0m \u001b[0;34m!=\u001b[0m \u001b[0mn_features\u001b[0m\u001b[0;34m:\u001b[0m\u001b[0;34m\u001b[0m\u001b[0;34m\u001b[0m\u001b[0m\n\u001b[0;32m---> 84\u001b[0;31m                 raise ValueError(\n\u001b[0m\u001b[1;32m     85\u001b[0m                     \u001b[0;34m\"Shape mismatch: if categories is an array,\"\u001b[0m\u001b[0;34m\u001b[0m\u001b[0;34m\u001b[0m\u001b[0m\n\u001b[1;32m     86\u001b[0m                     \u001b[0;34m\" it has to be of shape (n_features,).\"\u001b[0m\u001b[0;34m\u001b[0m\u001b[0;34m\u001b[0m\u001b[0m\n",
      "\u001b[0;31mValueError\u001b[0m: Shape mismatch: if categories is an array, it has to be of shape (n_features,)."
     ]
    }
   ],
   "source": [
    "enc = OneHotEncoder(categories=[],handle_unknown='ignore')\n",
    "# enc = OneHotEncoder()\n",
    "enc.fit([['0',0]])\n",
    "X = [['Female', 1], ['Female', 3], ['Female', 2]]\n",
    "# enc.fit(X)\n",
    "enc.transform(X).toarray()"
   ]
  },
  {
   "cell_type": "code",
   "execution_count": 1,
   "id": "dfb846fe",
   "metadata": {
    "ExecuteTime": {
     "end_time": "2022-05-15T19:37:10.651485Z",
     "start_time": "2022-05-15T19:37:10.404318Z"
    }
   },
   "outputs": [],
   "source": [
    "import numpy as np\n",
    "\n",
    "from sklearn.compose import ColumnTransformer\n",
    "from sklearn.datasets import fetch_openml\n",
    "from sklearn.pipeline import Pipeline\n",
    "from sklearn.impute import SimpleImputer\n",
    "from sklearn.preprocessing import StandardScaler, OneHotEncoder\n",
    "from sklearn.linear_model import LogisticRegression\n",
    "from sklearn.model_selection import train_test_split, GridSearchCV\n",
    "ss=StandardScaler()"
   ]
  },
  {
   "cell_type": "code",
   "execution_count": 104,
   "id": "ec60af1d",
   "metadata": {
    "ExecuteTime": {
     "end_time": "2022-05-15T20:50:54.602587Z",
     "start_time": "2022-05-15T20:50:54.580954Z"
    }
   },
   "outputs": [],
   "source": [
    "\n",
    "\n",
    "z=np.zeros((2,len(ds.sensor_id_map)))\n",
    "# z[]\n",
    "for i in numeric_data.columns:\n",
    "    z[0][i]=numeric_data.loc['min'][i]\n",
    "    z[1][i]=numeric_data.loc['max'][i]\n"
   ]
  },
  {
   "cell_type": "code",
   "execution_count": 21,
   "id": "30a14a32",
   "metadata": {
    "ExecuteTime": {
     "end_time": "2022-05-15T19:44:16.360556Z",
     "start_time": "2022-05-15T19:44:16.358083Z"
    }
   },
   "outputs": [],
   "source": [
    "ss.mean_[0]=10\n",
    "ss.var_[0]=9\n",
    "ss.scale_[0]=np.sqrt(ss.var_[0])"
   ]
  },
  {
   "cell_type": "code",
   "execution_count": 108,
   "id": "8df478b8",
   "metadata": {
    "ExecuteTime": {
     "end_time": "2022-05-15T21:02:29.062403Z",
     "start_time": "2022-05-15T21:02:29.041656Z"
    }
   },
   "outputs": [
    {
     "data": {
      "text/plain": [
       "ColumnTransformer(transformers=[('num', MinMaxScaler(),\n",
       "                                 Int64Index([  0,   3,   6,   7,  10,  12,  13,  15,  16,  17,\n",
       "            ...\n",
       "            196, 201, 204, 207, 209, 210, 216, 222, 223, 228],\n",
       "           dtype='int64', length=122)),\n",
       "                                ('cat',\n",
       "                                 OneHotEncoder(categories=[[0, 1], [0, 1],\n",
       "                                                           [0, 1], [0, 1, 2, 3],\n",
       "                                                           [0, 1], [0, 1],\n",
       "                                                           [0, 1], [0, 1],\n",
       "                                                           [0, 1], [0, 1],\n",
       "                                                           [0, 1], [0, 1],\n",
       "                                                           [0, 1], [0, 1],\n",
       "                                                           [0, 1], [0, 1],\n",
       "                                                           [0, 1], [0, 1],\n",
       "                                                           [0, 1], [0, 1, 2, 3],\n",
       "                                                           [0, 1], [0, 1],\n",
       "                                                           [0, 1, 2, 3], [0, 1],\n",
       "                                                           [0, 1], [0, 1],\n",
       "                                                           [0, 1], [0, 1],\n",
       "                                                           [0, 1], [0, 1], ...],\n",
       "                                               handle_unknown='ignore'),\n",
       "                                 [1, 2, 4, 5, 8, 9, 11, 14, 21, 22, 23, 24, 26,\n",
       "                                  29, 30, 31, 32, 33, 35, 36, 38, 40, 41, 44,\n",
       "                                  45, 46, 47, 50, 51, 52, ...])])"
      ]
     },
     "execution_count": 108,
     "metadata": {},
     "output_type": "execute_result"
    }
   ],
   "source": [
    "preprocessor.fit(z)"
   ]
  },
  {
   "cell_type": "code",
   "execution_count": 112,
   "id": "2ae5424d",
   "metadata": {
    "ExecuteTime": {
     "end_time": "2022-05-15T21:31:00.295078Z",
     "start_time": "2022-05-15T21:31:00.287001Z"
    }
   },
   "outputs": [
    {
     "data": {
      "text/html": [
       "<div>\n",
       "<style scoped>\n",
       "    .dataframe tbody tr th:only-of-type {\n",
       "        vertical-align: middle;\n",
       "    }\n",
       "\n",
       "    .dataframe tbody tr th {\n",
       "        vertical-align: top;\n",
       "    }\n",
       "\n",
       "    .dataframe thead th {\n",
       "        text-align: right;\n",
       "    }\n",
       "</style>\n",
       "<table border=\"1\" class=\"dataframe\">\n",
       "  <thead>\n",
       "    <tr style=\"text-align: right;\">\n",
       "      <th></th>\n",
       "      <th>SID</th>\n",
       "      <th>time</th>\n",
       "      <th>value</th>\n",
       "    </tr>\n",
       "  </thead>\n",
       "  <tbody>\n",
       "    <tr>\n",
       "      <th>0</th>\n",
       "      <td>85</td>\n",
       "      <td>2017-01-30 07:58:30</td>\n",
       "      <td>50.015659</td>\n",
       "    </tr>\n",
       "    <tr>\n",
       "      <th>12</th>\n",
       "      <td>113</td>\n",
       "      <td>2017-01-30 07:58:30</td>\n",
       "      <td>0.000000</td>\n",
       "    </tr>\n",
       "    <tr>\n",
       "      <th>11</th>\n",
       "      <td>81</td>\n",
       "      <td>2017-01-30 07:58:30</td>\n",
       "      <td>238.822281</td>\n",
       "    </tr>\n",
       "    <tr>\n",
       "      <th>10</th>\n",
       "      <td>80</td>\n",
       "      <td>2017-01-30 07:58:30</td>\n",
       "      <td>1.048577</td>\n",
       "    </tr>\n",
       "    <tr>\n",
       "      <th>8</th>\n",
       "      <td>79</td>\n",
       "      <td>2017-01-30 07:58:30</td>\n",
       "      <td>4.973270</td>\n",
       "    </tr>\n",
       "    <tr>\n",
       "      <th>...</th>\n",
       "      <td>...</td>\n",
       "      <td>...</td>\n",
       "      <td>...</td>\n",
       "    </tr>\n",
       "    <tr>\n",
       "      <th>746761</th>\n",
       "      <td>290</td>\n",
       "      <td>2017-02-24 16:41:15</td>\n",
       "      <td>0.563390</td>\n",
       "    </tr>\n",
       "    <tr>\n",
       "      <th>746763</th>\n",
       "      <td>286</td>\n",
       "      <td>2017-02-24 16:41:15</td>\n",
       "      <td>0.816694</td>\n",
       "    </tr>\n",
       "    <tr>\n",
       "      <th>746765</th>\n",
       "      <td>289</td>\n",
       "      <td>2017-02-24 16:41:16</td>\n",
       "      <td>0.675130</td>\n",
       "    </tr>\n",
       "    <tr>\n",
       "      <th>746764</th>\n",
       "      <td>132</td>\n",
       "      <td>2017-02-24 16:41:16</td>\n",
       "      <td>0.000000</td>\n",
       "    </tr>\n",
       "    <tr>\n",
       "      <th>746766</th>\n",
       "      <td>400</td>\n",
       "      <td>2017-02-24 16:41:16</td>\n",
       "      <td>40.000000</td>\n",
       "    </tr>\n",
       "  </tbody>\n",
       "</table>\n",
       "<p>746767 rows × 3 columns</p>\n",
       "</div>"
      ],
      "text/plain": [
       "        SID                time       value\n",
       "0        85 2017-01-30 07:58:30   50.015659\n",
       "12      113 2017-01-30 07:58:30    0.000000\n",
       "11       81 2017-01-30 07:58:30  238.822281\n",
       "10       80 2017-01-30 07:58:30    1.048577\n",
       "8        79 2017-01-30 07:58:30    4.973270\n",
       "...     ...                 ...         ...\n",
       "746761  290 2017-02-24 16:41:15    0.563390\n",
       "746763  286 2017-02-24 16:41:15    0.816694\n",
       "746765  289 2017-02-24 16:41:16    0.675130\n",
       "746764  132 2017-02-24 16:41:16    0.000000\n",
       "746766  400 2017-02-24 16:41:16   40.000000\n",
       "\n",
       "[746767 rows x 3 columns]"
      ]
     },
     "execution_count": 112,
     "metadata": {},
     "output_type": "execute_result"
    }
   ],
   "source": [
    "ds.sensor_events"
   ]
  }
 ],
 "metadata": {
  "kernelspec": {
   "display_name": "Python 3.8.10 64-bit",
   "language": "python",
   "name": "python3"
  },
  "language_info": {
   "codemirror_mode": {
    "name": "ipython",
    "version": 3
   },
   "file_extension": ".py",
   "mimetype": "text/x-python",
   "name": "python",
   "nbconvert_exporter": "python",
   "pygments_lexer": "ipython3",
   "version": "3.8.10"
  },
  "toc": {
   "base_numbering": 1,
   "nav_menu": {},
   "number_sections": false,
   "sideBar": true,
   "skip_h1_title": false,
   "title_cell": "Table of Contents",
   "title_sidebar": "Contents",
   "toc_cell": false,
   "toc_position": {},
   "toc_section_display": true,
   "toc_window_display": false
  },
  "varInspector": {
   "cols": {
    "lenName": 16,
    "lenType": 16,
    "lenVar": 40
   },
   "kernels_config": {
    "python": {
     "delete_cmd_postfix": "",
     "delete_cmd_prefix": "del ",
     "library": "var_list.py",
     "varRefreshCmd": "print(var_dic_list())"
    },
    "r": {
     "delete_cmd_postfix": ") ",
     "delete_cmd_prefix": "rm(",
     "library": "var_list.r",
     "varRefreshCmd": "cat(var_dic_list()) "
    }
   },
   "types_to_exclude": [
    "module",
    "function",
    "builtin_function_or_method",
    "instance",
    "_Feature"
   ],
   "window_display": false
  },
  "vscode": {
   "interpreter": {
    "hash": "767d51c1340bd893661ea55ea3124f6de3c7a262a8b4abca0554b478b1e2ff90"
   }
  }
 },
 "nbformat": 4,
 "nbformat_minor": 5
}
