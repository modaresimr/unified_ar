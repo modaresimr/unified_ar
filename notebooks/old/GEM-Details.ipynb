{
 "cells": [
  {
   "cell_type": "markdown",
   "metadata": {},
   "source": [
    "You can select a specific run and it will show the evaluation information and display charts for precision, recall and f1 measure."
   ]
  },
  {
   "cell_type": "code",
   "execution_count": 3,
   "metadata": {
    "ExecuteTime": {
     "end_time": "2022-05-19T09:52:07.354579Z",
     "start_time": "2022-05-19T09:52:05.514353Z"
    },
    "scrolled": false
   },
   "outputs": [
    {
     "name": "stdout",
     "output_type": "stream",
     "text": [
      "Please install GPU version of TF\n",
      "%pylab is deprecated, use %matplotlib inline and import the required libraries.\n",
      "Populating the interactive namespace from numpy and matplotlib\n"
     ]
    },
    {
     "ename": "NameError",
     "evalue": "name 'result_analyse' is not defined",
     "output_type": "error",
     "traceback": [
      "\u001b[1;31m---------------------------------------------------------------------------\u001b[0m",
      "\u001b[1;31mNameError\u001b[0m                                 Traceback (most recent call last)",
      "\u001b[1;32mc:\\D\\Projects\\unified_ar\\notebooks\\old\\GEM-Details.ipynb Cell 2\u001b[0m line \u001b[0;36m<cell line: 9>\u001b[1;34m()\u001b[0m\n\u001b[0;32m      <a href='vscode-notebook-cell:/c%3A/D/Projects/unified_ar/notebooks/old/GEM-Details.ipynb#W1sZmlsZQ%3D%3D?line=6'>7</a>\u001b[0m     os\u001b[39m.\u001b[39mchdir(\u001b[39m\"\u001b[39m\u001b[39m..\u001b[39m\u001b[39m\"\u001b[39m)\n\u001b[0;32m      <a href='vscode-notebook-cell:/c%3A/D/Projects/unified_ar/notebooks/old/GEM-Details.ipynb#W1sZmlsZQ%3D%3D?line=7'>8</a>\u001b[0m get_ipython()\u001b[39m.\u001b[39mrun_line_magic(\u001b[39m'\u001b[39m\u001b[39mpylab\u001b[39m\u001b[39m'\u001b[39m, \u001b[39m'\u001b[39m\u001b[39minline\u001b[39m\u001b[39m'\u001b[39m)\n\u001b[1;32m----> <a href='vscode-notebook-cell:/c%3A/D/Projects/unified_ar/notebooks/old/GEM-Details.ipynb#W1sZmlsZQ%3D%3D?line=8'>9</a>\u001b[0m ar\u001b[39m.\u001b[39;49mgeneral\u001b[39m.\u001b[39;49muiutils\u001b[39m.\u001b[39;49mloadGemMetricUI()\n",
      "File \u001b[1;32mc:\\d\\projects\\unified_ar\\unified_ar\\general\\uiutils.py:51\u001b[0m, in \u001b[0;36mloadGemMetricUI\u001b[1;34m()\u001b[0m\n\u001b[0;32m     47\u001b[0m \u001b[39mimport\u001b[39;00m \u001b[39mnumpy\u001b[39;00m \u001b[39mas\u001b[39;00m \u001b[39mnp\u001b[39;00m\n\u001b[0;32m     48\u001b[0m \u001b[39mimport\u001b[39;00m \u001b[39mpandas\u001b[39;00m \u001b[39mas\u001b[39;00m \u001b[39mpd\u001b[39;00m\n\u001b[0;32m     50\u001b[0m \u001b[39m@interact\u001b[39m\n\u001b[1;32m---> 51\u001b[0m \u001b[39mdef\u001b[39;00m \u001b[39mresult_selector\u001b[39m(file\u001b[39m=\u001b[39mresult_analyse\u001b[39m.\u001b[39mresultloader\u001b[39m.\u001b[39mget_runs()):\n\u001b[0;32m     52\u001b[0m     \u001b[39mif\u001b[39;00m (file \u001b[39m==\u001b[39m \u001b[39mNone\u001b[39;00m):\n\u001b[0;32m     53\u001b[0m         \u001b[39mreturn\u001b[39;00m\n",
      "\u001b[1;31mNameError\u001b[0m: name 'result_analyse' is not defined"
     ]
    }
   ],
   "source": [
    "# import unified_ar.general.libinstall\n",
    "import unified_ar.general.uiutils\n",
    "import unified_ar as ar\n",
    "ar.reload()\n",
    "import os\n",
    "while \"datasets\" not in os.listdir():\n",
    "    os.chdir(\"..\")\n",
    "%pylab inline\n",
    "ar.general.uiutils.loadGemMetricUI()"
   ]
  },
  {
   "cell_type": "markdown",
   "metadata": {},
   "source": [
    "[Click here to compare multiple run](Gem-Compare-Multi-Run.ipynb)"
   ]
  },
  {
   "cell_type": "code",
   "execution_count": null,
   "metadata": {
    "scrolled": false
   },
   "outputs": [],
   "source": []
  }
 ],
 "metadata": {
  "kernelspec": {
   "display_name": "Python 3.8.13 (conda)",
   "language": "python",
   "name": "python3"
  },
  "language_info": {
   "codemirror_mode": {
    "name": "ipython",
    "version": 3
   },
   "file_extension": ".py",
   "mimetype": "text/x-python",
   "name": "python",
   "nbconvert_exporter": "python",
   "pygments_lexer": "ipython3",
   "version": "3.10.4"
  },
  "toc": {
   "base_numbering": 1,
   "nav_menu": {},
   "number_sections": true,
   "sideBar": true,
   "skip_h1_title": false,
   "title_cell": "Table of Contents",
   "title_sidebar": "Contents",
   "toc_cell": false,
   "toc_position": {},
   "toc_section_display": true,
   "toc_window_display": false
  },
  "varInspector": {
   "cols": {
    "lenName": 16,
    "lenType": 16,
    "lenVar": 40
   },
   "kernels_config": {
    "python": {
     "delete_cmd_postfix": "",
     "delete_cmd_prefix": "del ",
     "library": "var_list.py",
     "varRefreshCmd": "print(var_dic_list())"
    },
    "r": {
     "delete_cmd_postfix": ") ",
     "delete_cmd_prefix": "rm(",
     "library": "var_list.r",
     "varRefreshCmd": "cat(var_dic_list()) "
    }
   },
   "types_to_exclude": [
    "module",
    "function",
    "builtin_function_or_method",
    "instance",
    "_Feature"
   ],
   "window_display": false
  },
  "vscode": {
   "interpreter": {
    "hash": "0f91b223a9be7f82bfd164eb4b10e5e1c532d3ceac636b749a2ce370dda12911"
   }
  }
 },
 "nbformat": 4,
 "nbformat_minor": 2
}
