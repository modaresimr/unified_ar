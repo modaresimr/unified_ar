{
 "cells": [
  {
   "cell_type": "code",
   "execution_count": null,
   "metadata": {
    "ExecuteTime": {
     "end_time": "2021-03-01T08:59:32.459936Z",
     "start_time": "2021-03-01T08:59:31.120026Z"
    }
   },
   "outputs": [],
   "source": [
    "import unified_ar.general.utils \n",
    "import pandas as pd\n",
    "import unified_ar.datatool.seddata\n",
    "    \n",
    "def convertSED(name,dataset,pe):\n",
    "    \n",
    "    \n",
    "    ######\n",
    "    from datetime import datetime\n",
    "    run_date=datetime.now().strftime('%y%m%d_%H-%M-%S')\n",
    "    run_info={'dataset':'SED2020','run_date':run_date,'dataset_path':'', 'strategy':'EIN','evalution':'-'}\n",
    "    ######\n",
    "    pred=datatool.seddata.SED(pe,name,dataset)\n",
    "    pred.load()\n",
    "    \n",
    "    ########\n",
    "    evalres={0:{'test':general.utils.Data('SED')}}\n",
    "    \n",
    "    evalres[0]['test'].real_events=dataset.activity_events\n",
    "    evalres[0]['test'].Sdata=None\n",
    "    evalres[0]['test'].predicted=None\n",
    "    evalres[0]['test'].shortrunname=name\n",
    "    evalres[0]['test'].predicted_classes=None\n",
    "    evalres[0]['test'].event_cm=None\n",
    "    evalres[0]['test'].quality={'accuracy': 0, 'precision': 0, 'recall': 0, 'f1': 0}\n",
    "    evalres[0]['test'].pred_events=pred.activity_events\n",
    "\n",
    "    #######\n",
    "    general.utils.saveState([run_info,dataset,{0:evalres[0]}],name)\n",
    "    return pred\n",
    "    \n",
    "typ='one_event_eval_gen'\n",
    "dataset=datatool.seddata.SED(f'/workspace/sed2020/metadata/{typ}.tsv',typ,None)\n",
    "dataset.load()\n",
    "print('dataset loaded')\n",
    "#"
   ]
  },
  {
   "cell_type": "code",
   "execution_count": null,
   "metadata": {
    "ExecuteTime": {
     "end_time": "2021-03-01T09:00:41.900507Z",
     "start_time": "2021-03-01T08:59:39.279493Z"
    }
   },
   "outputs": [],
   "source": [
    "lines=!find '/workspace/sed2020/' -regex '.*/.*/one_event_eval_gen/[^/]*\\.output\\.tsv'\n",
    "for x in lines:\n",
    "    name=x.split('/')[-1][:-11]\n",
    "    name=f'{typ}_{name}'\n",
    "    print(name)\n",
    "    d2=convertSED(name,dataset,x)\n",
    "    \n"
   ]
  },
  {
   "cell_type": "code",
   "execution_count": null,
   "metadata": {
    "ExecuteTime": {
     "end_time": "2021-02-28T21:58:43.023358Z",
     "start_time": "2021-02-28T21:58:43.017360Z"
    }
   },
   "outputs": [],
   "source": [
    "a=pd.read_csv('/workspace/sed2020/submissions/Rykaczewski_Samsung/Rykaczewski_Samsung_taks4_SED_2/one_event_eval_gen/Rykaczewski_Samsung_taks4_SED_2.output.tsv', delimiter='\\t')\n",
    "\n",
    "#for x in a.iterrows():\n",
    "print(np.isnan(a.iloc[7]['event_label']))"
   ]
  },
  {
   "cell_type": "code",
   "execution_count": null,
   "metadata": {
    "ExecuteTime": {
     "end_time": "2021-02-28T23:43:31.571488Z",
     "start_time": "2021-02-28T23:43:31.550158Z"
    }
   },
   "outputs": [],
   "source": [
    "print(dataset)\n",
    "print('=======')\n",
    "print(d2)"
   ]
  },
  {
   "cell_type": "code",
   "execution_count": null,
   "metadata": {},
   "outputs": [],
   "source": []
  }
 ],
 "metadata": {
  "kernelspec": {
   "display_name": "Python 3",
   "language": "python",
   "name": "python3"
  },
  "language_info": {
   "codemirror_mode": {
    "name": "ipython",
    "version": 3
   },
   "file_extension": ".py",
   "mimetype": "text/x-python",
   "name": "python",
   "nbconvert_exporter": "python",
   "pygments_lexer": "ipython3",
   "version": "3.8.5"
  },
  "toc": {
   "base_numbering": 1,
   "nav_menu": {},
   "number_sections": true,
   "sideBar": true,
   "skip_h1_title": false,
   "title_cell": "Table of Contents",
   "title_sidebar": "Contents",
   "toc_cell": false,
   "toc_position": {},
   "toc_section_display": true,
   "toc_window_display": false
  },
  "varInspector": {
   "cols": {
    "lenName": 16,
    "lenType": 16,
    "lenVar": 40
   },
   "kernels_config": {
    "python": {
     "delete_cmd_postfix": "",
     "delete_cmd_prefix": "del ",
     "library": "var_list.py",
     "varRefreshCmd": "print(var_dic_list())"
    },
    "r": {
     "delete_cmd_postfix": ") ",
     "delete_cmd_prefix": "rm(",
     "library": "var_list.r",
     "varRefreshCmd": "cat(var_dic_list()) "
    }
   },
   "types_to_exclude": [
    "module",
    "function",
    "builtin_function_or_method",
    "instance",
    "_Feature"
   ],
   "window_display": false
  }
 },
 "nbformat": 4,
 "nbformat_minor": 2
}
