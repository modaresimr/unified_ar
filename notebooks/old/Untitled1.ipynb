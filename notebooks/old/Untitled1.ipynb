{
 "cells": [
  {
   "cell_type": "code",
   "execution_count": 1,
   "metadata": {
    "ExecuteTime": {
     "end_time": "2020-05-14T08:36:35.141010Z",
     "start_time": "2020-05-14T08:36:33.634638Z"
    }
   },
   "outputs": [
    {
     "name": "stdout",
     "output_type": "stream",
     "text": [
      "Utils loaded successfully!!\n"
     ]
    }
   ],
   "source": [
    "import unified_ar.general.utils as utils\n",
    "ga=utils.loadState('groupact','all')"
   ]
  },
  {
   "cell_type": "code",
   "execution_count": 5,
   "metadata": {
    "ExecuteTime": {
     "end_time": "2020-05-14T08:37:25.546303Z",
     "start_time": "2020-05-14T08:37:24.726022Z"
    }
   },
   "outputs": [
    {
     "data": {
      "text/plain": [
       "[('FixedEventWindow', {'size': 15, 'shift': 10}),\n",
       " ('FixedEventWindow', {'size': 15, 'shift': 10}),\n",
       " ('FixedSlidingWindow', {'size': 30, 'shift': 15}),\n",
       " ('FixedSlidingWindow', {'size': 30, 'shift': 15}),\n",
       " ('FixedSlidingWindow', {'size': 30, 'shift': 30}),\n",
       " ('FixedSlidingWindow', {'size': 30, 'shift': 15}),\n",
       " ('FixedSlidingWindow', {'size': 30, 'shift': 30}),\n",
       " ('FixedSlidingWindow', {'size': 30, 'shift': 15}),\n",
       " ('FixedEventWindow', {'size': 15, 'shift': 10}),\n",
       " ('FixedEventWindow', {'size': 15, 'shift': 10}),\n",
       " ('FixedSlidingWindow', {'size': 15, 'shift': 15}),\n",
       " ('FixedEventWindow', {'size': 15, 'shift': 10})]"
      ]
     },
     "execution_count": 5,
     "metadata": {},
     "output_type": "execute_result"
    }
   ],
   "source": [
    "\n",
    "ga= utils.loadState('wgroupact','n-all')\n",
    "[g.functions['segmentor'] for g in ga]"
   ]
  },
  {
   "cell_type": "code",
   "execution_count": 18,
   "metadata": {
    "ExecuteTime": {
     "end_time": "2020-05-09T08:55:36.915124Z",
     "start_time": "2020-05-09T08:55:36.031951Z"
    }
   },
   "outputs": [
    {
     "data": {
      "text/plain": [
       "[('FixedEventWindow', {'size': 15, 'shift': 10}),\n",
       " ('FixedEventWindow', {'size': 20, 'shift': 10}),\n",
       " ('FixedSlidingWindow', {'size': 30, 'shift': 30}),\n",
       " ('FixedSlidingWindow', {'size': 30, 'shift': 30}),\n",
       " ('FixedSlidingWindow', {'size': 30, 'shift': 30}),\n",
       " ('FixedSlidingWindow', {'size': 30, 'shift': 30}),\n",
       " ('FixedSlidingWindow', {'size': 30, 'shift': 30}),\n",
       " ('FixedEventWindow', {'size': 25, 'shift': 15}),\n",
       " ('FixedSlidingWindow', {'size': 30, 'shift': 30}),\n",
       " ('FixedSlidingWindow', {'size': 30, 'shift': 30}),\n",
       " ('FixedEventWindow', {'size': 10, 'shift': 10}),\n",
       " ('FixedEventWindow', {'size': 10, 'shift': 10})]"
      ]
     },
     "execution_count": 18,
     "metadata": {},
     "output_type": "execute_result"
    }
   ],
   "source": [
    "ga= utils.loadState('wgroupact','all')\n",
    "[g.functions['segmentor'] for g in ga]"
   ]
  },
  {
   "cell_type": "code",
   "execution_count": 13,
   "metadata": {
    "ExecuteTime": {
     "end_time": "2020-05-08T18:14:26.745222Z",
     "start_time": "2020-05-08T18:14:25.979906Z"
    }
   },
   "outputs": [
    {
     "data": {
      "text/plain": [
       "[('FixedEventWindow', {'size': 15, 'shift': 15}),\n",
       " ('FixedSlidingWindow', {'size': 90, 'shift': 30}),\n",
       " ('FixedSlidingWindow', {'size': 30, 'shift': 30}),\n",
       " ('FixedSlidingWindow', {'size': 90, 'shift': 30}),\n",
       " ('FixedEventWindow', {'size': 15, 'shift': 15}),\n",
       " ('FixedEventWindow', {'size': 15, 'shift': 10}),\n",
       " ('FixedSlidingWindow', {'size': 30, 'shift': 30}),\n",
       " ('FixedEventWindow', {'size': 19, 'shift': 10}),\n",
       " ('FixedSlidingWindow', {'size': 30, 'shift': 30}),\n",
       " ('FixedSlidingWindow', {'size': 30, 'shift': 30}),\n",
       " ('FixedEventWindow', {'size': 15, 'shift': 15}),\n",
       " ('FixedEventWindow', {'size': 15, 'shift': 15})]"
      ]
     },
     "execution_count": 13,
     "metadata": {},
     "output_type": "execute_result"
    }
   ],
   "source": [
    "ga= utils.loadState('wgroupact','all')\n",
    "[g.functions['segmentor'] for g in ga]"
   ]
  },
  {
   "cell_type": "code",
   "execution_count": 12,
   "metadata": {
    "ExecuteTime": {
     "end_time": "2020-05-08T14:19:18.912302Z",
     "start_time": "2020-05-08T14:19:18.062903Z"
    }
   },
   "outputs": [
    {
     "data": {
      "text/plain": [
       "[('FixedSlidingWindow', {'size': 150, 'shift': 30}),\n",
       " ('FixedSlidingWindow', {'size': 150, 'shift': 150}),\n",
       " ('FixedSlidingWindow', {'size': 30, 'shift': 30}),\n",
       " ('FixedSlidingWindow', {'size': 30, 'shift': 30}),\n",
       " ('FixedSlidingWindow', {'size': 30, 'shift': 30}),\n",
       " ('FixedSlidingWindow', {'size': 30, 'shift': 30}),\n",
       " ('FixedSlidingWindow', {'size': 30, 'shift': 30}),\n",
       " ('FixedSlidingWindow', {'size': 150, 'shift': 90}),\n",
       " ('FixedSlidingWindow', {'size': 30, 'shift': 30}),\n",
       " ('FixedSlidingWindow', {'size': 30, 'shift': 30}),\n",
       " ('FixedEventWindow', {'size': 15, 'shift': 15}),\n",
       " ('FixedSlidingWindow', {'size': 30, 'shift': 30})]"
      ]
     },
     "execution_count": 12,
     "metadata": {},
     "output_type": "execute_result"
    }
   ],
   "source": [
    "ga= utils.loadState('wgroupact','all')\n",
    "[g.functions['segmentor'] for g in ga]"
   ]
  },
  {
   "cell_type": "code",
   "execution_count": 11,
   "metadata": {
    "ExecuteTime": {
     "end_time": "2020-05-08T07:52:15.482478Z",
     "start_time": "2020-05-08T07:52:15.478245Z"
    }
   },
   "outputs": [
    {
     "data": {
      "text/plain": [
       "[('FixedSlidingWindow', {'size': 90, 'shift': 90}),\n",
       " ('FixedSlidingWindow', {'size': 30, 'shift': 30}),\n",
       " ('FixedEventWindow', {'size': 15, 'shift': 10}),\n",
       " ('FixedEventWindow', {'size': 15, 'shift': 15}),\n",
       " ('FixedEventWindow', {'size': 15, 'shift': 15}),\n",
       " ('FixedSlidingWindow', {'size': 90, 'shift': 90}),\n",
       " ('FixedEventWindow', {'size': 15, 'shift': 15}),\n",
       " ('FixedSlidingWindow', {'size': 150, 'shift': 30}),\n",
       " ('FixedEventWindow', {'size': 15, 'shift': 10}),\n",
       " ('FixedEventWindow', {'size': 15, 'shift': 15}),\n",
       " ('FixedSlidingWindow', {'size': 150, 'shift': 30}),\n",
       " ('FixedEventWindow', {'size': 15, 'shift': 15})]"
      ]
     },
     "execution_count": 11,
     "metadata": {},
     "output_type": "execute_result"
    }
   ],
   "source": [
    "[g.functions['segmentor'] for g in ga]"
   ]
  },
  {
   "cell_type": "code",
   "execution_count": 9,
   "metadata": {
    "ExecuteTime": {
     "end_time": "2020-05-06T12:47:24.593590Z",
     "start_time": "2020-05-06T12:47:24.589113Z"
    }
   },
   "outputs": [
    {
     "data": {
      "text/plain": [
       "[('FixedEventWindow', {'size': 19, 'shift': 15}),\n",
       " ('FixedSlidingWindow', {'size': 90, 'shift': 30}),\n",
       " ('FixedEventWindow', {'size': 15, 'shift': 15}),\n",
       " ('FixedSlidingWindow', {'size': 30, 'shift': 30}),\n",
       " ('FixedEventWindow', {'size': 15, 'shift': 10}),\n",
       " ('FixedSlidingWindow', {'size': 30, 'shift': 30}),\n",
       " ('FixedEventWindow', {'size': 15, 'shift': 15}),\n",
       " ('FixedEventWindow', {'size': 15, 'shift': 10}),\n",
       " ('FixedEventWindow', {'size': 19, 'shift': 15}),\n",
       " ('FixedEventWindow', {'size': 19, 'shift': 10}),\n",
       " ('FixedSlidingWindow', {'size': 90, 'shift': 90}),\n",
       " ('FixedEventWindow', {'size': 19, 'shift': 10})]"
      ]
     },
     "execution_count": 9,
     "metadata": {},
     "output_type": "execute_result"
    }
   ],
   "source": [
    "[g.functions['segmentor'] for g in ga]"
   ]
  },
  {
   "cell_type": "code",
   "execution_count": null,
   "metadata": {},
   "outputs": [],
   "source": []
  }
 ],
 "metadata": {
  "kernelspec": {
   "display_name": "Python 3",
   "language": "python",
   "name": "python3"
  },
  "language_info": {
   "codemirror_mode": {
    "name": "ipython",
    "version": 3
   },
   "file_extension": ".py",
   "mimetype": "text/x-python",
   "name": "python",
   "nbconvert_exporter": "python",
   "pygments_lexer": "ipython3",
   "version": "3.6.9"
  },
  "toc": {
   "base_numbering": 1,
   "nav_menu": {},
   "number_sections": true,
   "sideBar": true,
   "skip_h1_title": false,
   "title_cell": "Table of Contents",
   "title_sidebar": "Contents",
   "toc_cell": false,
   "toc_position": {},
   "toc_section_display": true,
   "toc_window_display": false
  },
  "varInspector": {
   "cols": {
    "lenName": 16,
    "lenType": 16,
    "lenVar": 40
   },
   "kernels_config": {
    "python": {
     "delete_cmd_postfix": "",
     "delete_cmd_prefix": "del ",
     "library": "var_list.py",
     "varRefreshCmd": "print(var_dic_list())"
    },
    "r": {
     "delete_cmd_postfix": ") ",
     "delete_cmd_prefix": "rm(",
     "library": "var_list.r",
     "varRefreshCmd": "cat(var_dic_list()) "
    }
   },
   "types_to_exclude": [
    "module",
    "function",
    "builtin_function_or_method",
    "instance",
    "_Feature"
   ],
   "window_display": false
  }
 },
 "nbformat": 4,
 "nbformat_minor": 2
}
