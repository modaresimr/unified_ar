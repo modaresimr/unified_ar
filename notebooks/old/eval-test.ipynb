{
 "cells": [
  {
   "cell_type": "code",
   "execution_count": 30,
   "metadata": {
    "ExecuteTime": {
     "end_time": "2020-09-05T15:16:22.295462Z",
     "start_time": "2020-09-05T15:16:22.239358Z"
    }
   },
   "outputs": [
    {
     "name": "stdout",
     "output_type": "stream",
     "text": [
      "Populating the interactive namespace from numpy and matplotlib\n",
      "[(30.0, 30.2), (30.6, 30.8), (31.2, 31.4), (31.8, 32.0), (32.4, 32.6), (33.0, 33.2), (33.6, 33.800000000000004), (34.2, 34.400000000000006), (34.8, 35.0)]\n"
     ]
    },
    {
     "data": {
      "image/png": "[encoded data removed]",
      "text/plain": [
       "<Figure size 432x108 with 1 Axes>"
      ]
     },
     "metadata": {
      "needs_background": "light"
     },
     "output_type": "display_data"
    }
   ],
   "source": [
    "# %pylab widget\n",
    "%pylab inline\n",
    "import matplotlib.pyplot as plt\n",
    "\n",
    "\n",
    "import unified_ar.result_analyse.visualisation as vs\n",
    "from unified_ar.general.utils import Data\n",
    "import unified_ar.general.utils as utils\n",
    "import pandas as pd\n",
    "real=[\n",
    "#     (-8,-6),(-5,-4),(-3,-2),\n",
    "#     (0,5),(6,7),\n",
    "#       (1.7,3),(3.5,5.5), (6.5,7)\n",
    "#     (8,9.8),(10,11.8),(12,13),(14,14.25),\n",
    "    (16,16.5),(18,20),\n",
    "#     (21,25.5),(26.5,27.5),\n",
    "#     (30,35), (36,37),\n",
    "#     (40,45), (46,47)\n",
    "]\n",
    "print([(round(i,1),round(i,1)+0.2) for i in numpy.arange(30,35,0.6)])\n",
    "pred=[\n",
    "#       (-8,-7.5),(-5.5,-4.5),(-3,-1),\n",
    "#       (0,1.8),(2,3.8),(4,5),(6,6.25),\n",
    "#        (0,2.5),(5,6)\n",
    "      #(8,13),(14,15),\n",
    "      (16,16.25),(17,19),\n",
    "#       (21,22),(23,23.3),(24,24.3),(24.7,25.5),(26,27),\n",
    "#       (30.0, 30.2), (30.6, 30.8), (31.2, 31.4), (31.8, 32.0), (32.4, 32.6), (33.0, 33.2), (33.6, 33.80), (34.2, 34.40), (34.8, 35.0),(35.5,36.5),\n",
    "#       (40,45),(45.5,46.5)\n",
    "     \n",
    "     ]\n",
    "evalres=[Data('result')]\n",
    "evalres[0].real_events=vs.convert2event(real)\n",
    "evalres[0].pred_events=vs.convert2event(pred)\n",
    "evalres[0].quality={}\n",
    "dataset=Data('MyDataset')\n",
    "activities = ['None','Act']\n",
    "dataset.activity_events=evalres[0].real_events\n",
    "dataset.activities_map_inverse = {k: v for v, k in enumerate(activities)}\n",
    "dataset.activities_map = {v: k for v, k in enumerate(activities)}\n",
    "dataset.sensor_events=pd.DataFrame()\n",
    "runinfo=\"test\"\n",
    "\n",
    "#utils.saveState([runinfo,dataset,evalres],'testdata')\n",
    "fig, ax = plt.subplots(figsize=(6, 1.5))\n",
    "\n",
    "vs.plotJoinAct(dataset,evalres[0].real_events,evalres[0].pred_events,onlyAct=1,ax=ax)\n"
   ]
  },
  {
   "cell_type": "code",
   "execution_count": 1,
   "metadata": {},
   "outputs": [
    {
     "name": "stderr",
     "output_type": "stream",
     "text": [
      "/opt/conda/lib/python3.6/site-packages/ipykernel_launcher.py:2: FutureWarning: The pandas.datetime class is deprecated and will be removed from pandas in a future version. Import from datetime instead.\n",
      "  \n"
     ]
    },
    {
     "data": {
      "text/plain": [
       "datetime.datetime(1, 1, 1, 0, 0, 1)"
      ]
     },
     "execution_count": 1,
     "metadata": {},
     "output_type": "execute_result"
    }
   ],
   "source": [
    "import pandas as pd\n",
    "pd.datetime(1,1,1)+pd.to_timedelta('1s')"
   ]
  },
  {
   "cell_type": "code",
   "execution_count": null,
   "metadata": {},
   "outputs": [],
   "source": []
  }
 ],
 "metadata": {
  "kernelspec": {
   "display_name": "Python 3",
   "language": "python",
   "name": "python3"
  },
  "language_info": {
   "codemirror_mode": {
    "name": "ipython",
    "version": 3
   },
   "file_extension": ".py",
   "mimetype": "text/x-python",
   "name": "python",
   "nbconvert_exporter": "python",
   "pygments_lexer": "ipython3",
   "version": "3.6.9"
  },
  "toc": {
   "base_numbering": 1,
   "nav_menu": {},
   "number_sections": true,
   "sideBar": true,
   "skip_h1_title": false,
   "title_cell": "Table of Contents",
   "title_sidebar": "Contents",
   "toc_cell": false,
   "toc_position": {},
   "toc_section_display": true,
   "toc_window_display": false
  },
  "varInspector": {
   "cols": {
    "lenName": 16,
    "lenType": 16,
    "lenVar": 40
   },
   "kernels_config": {
    "python": {
     "delete_cmd_postfix": "",
     "delete_cmd_prefix": "del ",
     "library": "var_list.py",
     "varRefreshCmd": "print(var_dic_list())"
    },
    "r": {
     "delete_cmd_postfix": ") ",
     "delete_cmd_prefix": "rm(",
     "library": "var_list.r",
     "varRefreshCmd": "cat(var_dic_list()) "
    }
   },
   "types_to_exclude": [
    "module",
    "function",
    "builtin_function_or_method",
    "instance",
    "_Feature"
   ],
   "window_display": false
  }
 },
 "nbformat": 4,
 "nbformat_minor": 4
}
