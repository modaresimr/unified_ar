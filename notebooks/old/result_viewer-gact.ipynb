{
 "cells": [
  {
   "cell_type": "code",
   "execution_count": 1,
   "metadata": {
    "ExecuteTime": {
     "end_time": "2022-05-19T09:59:29.901105Z",
     "start_time": "2022-05-19T09:59:29.220565Z"
    }
   },
   "outputs": [
    {
     "name": "stdout",
     "output_type": "stream",
     "text": [
      "Populating the interactive namespace from numpy and matplotlib\n"
     ]
    },
    {
     "data": {
      "application/vnd.jupyter.widget-view+json": {
       "model_id": "10c45e8c337a4f1eb6d57de171e69fc0",
       "version_major": 2,
       "version_minor": 0
      },
      "text/plain": [
       "interactive(children=(Dropdown(description='file', options=(('210225_18-47-34-Home1', '210225_18-47-34-Home1')…"
      ]
     },
     "metadata": {},
     "output_type": "display_data"
    }
   ],
   "source": [
    "#%matplotlib widget\n",
    "%pylab inline\n",
    "# pylab.rcParams['figure.figsize'] = (8, 6)\n",
    "import  general.utils as utils\n",
    "import  datatool.testdata as testdata\n",
    "import unified_ar.result_analyse.visualisation as vs\n",
    "from sklearn.metrics import confusion_matrix\n",
    "import  general.utils as utils\n",
    "import unified_ar.result_analyse.resultloader\n",
    "import unified_ar.result_analyse.visualisation as vs\n",
    "import pandas as pd\n",
    "from ipywidgets import interact, interactive, fixed, interact_manual\n",
    "from unified_ar.metric.CMbasedMetric import CMbasedMetric\n",
    "from unified_ar.metric.event_confusion_matrix import event_confusion_matrix\n",
    "\n",
    "import unified_ar.combiner.SimpleCombiner\n",
    "comb=combiner.SimpleCombiner.EmptyCombiner()\n",
    "\n",
    "def showres(dataset,real_events,pred_events,acts,weight,duration=None):\n",
    "    real_events=vs.filterTime(real_events,duration)\n",
    "    pred_events=vs.filterTime(pred_events,duration)\n",
    "#     print(real_events)\n",
    "#     print(pred_events)\n",
    "#     utils.saveState((real_events,pred_events),'ali')\n",
    "    event_cm     =event_confusion_matrix(real_events,pred_events,acts)\n",
    "    quality      =CMbasedMetric(event_cm,'macro',None)\n",
    "    quality_w    =CMbasedMetric(event_cm,'macro',weight)\n",
    "    quality2     =CMbasedMetric(event_cm)\n",
    "    print(f'quality={quality[\"f1\"]} wq={quality_w[\"f1\"]}')\n",
    "    \n",
    "#     print([f'{acts[i]}=>f={quality2[\"f1\"][i]} p={quality2[\"precision\"][i]} r={quality2[\"recall\"][i]}' for i in range(len(acts))])\n",
    "    \n",
    "    # visualize(dataset)\n",
    "    #vs.remove_gaps(real_events,pred_events)\n",
    "    print('visualizing real and pred')\n",
    "    vs.plotJoinAct(dataset,real_events,pred_events)\n",
    "    from matplotlib.pylab import plt\n",
    "    plt.show()\n",
    "    \n",
    "\n",
    "def groupize(datasetdscr,acts):\n",
    "    #gacts=[[a] for a in datasetdscr.activities_map]\n",
    "    #gacts.append([a for a in datasetdscr.activities_map])\n",
    "    gacts=[[a] for a in acts[1:]]\n",
    "    gacts.append([a for a in acts])\n",
    "    return gacts\n",
    "\n",
    "@interact\n",
    "def result_selector(file=result_analyse.resultloader.get_runs()):\n",
    "    if(file==None):return\n",
    "    print('Analysing ',file)\n",
    "#     info=utils.loadState(file,'info')\n",
    "#     for i in info:\n",
    "#         print(i,info[i])\n",
    "    @interact_manual\n",
    "    def continue_select():\n",
    "        savedfile=file\n",
    "        #result='A4Hr1'\n",
    "        run_info,dataset,evalres=utils.loadState(savedfile)\n",
    "        global a\n",
    "        a=run_info,dataset,evalres\n",
    "        print(run_info)\n",
    "        #print(dataset)\n",
    "        acts=[a for a in dataset.activities_map]\n",
    "        gacts=groupize(dataset,acts)\n",
    "        for fold in range(len(evalres)):\n",
    "                global foldres\n",
    "                foldres=evalres[fold]['test']\n",
    "                print(f'fold----------{fold}')\n",
    "         #       print(foldres)\n",
    "                \n",
    "                real_events=foldres.real_events\n",
    "                pred_events=foldres.pred_events\n",
    "                quality=foldres.quality\n",
    "                s=real_events.iloc[0]['StartTime']\n",
    "                e=s+pd.Timedelta('2 day')\n",
    "\n",
    "    #             pred_events2=comb.combine2(foldres.times, foldres.predicted)\n",
    "                showres(dataset,real_events,pred_events,acts,None,duration=[s,e])\n",
    "    #             showres(dataset,real_events,pred_events2,acts,None,duration=[s,e])\n",
    "                print('Evalution quality fold=%d is %s' % (fold, quality))\n",
    "\n",
    "\n",
    "                for gindx,tacts in enumerate(gacts):\n",
    "                #for gindx in foldres.functions:\n",
    "                    weight=np.ones(len(acts))\n",
    "                    for a in tacts:weight[a]=20\n",
    "                    print('gindx %d - %s'% (gindx,foldres.functions[gindx]['segmentor']))\n",
    "\n",
    "                    print(foldres.results[gindx].quality)\n",
    "        #             print(foldres.results[gindx].event_cm)\n",
    "        #             print(foldres.results[gindx].predicted_classes)\n",
    "        #             print(foldres.results[gindx].Sdata.label)\n",
    "                    if(gindx+1 in dataset.activities_map):\n",
    "                        print(f'--------------{dataset.activities_map[gindx+1]}----------------')\n",
    "\n",
    "                    real_events=foldres.results[gindx].real_events\n",
    "                    pred_events=foldres.results[gindx].pred_events\n",
    "\n",
    "                    times=[]\n",
    "                    act_data=np.zeros((len(pred_events),12))\n",
    "                    for i in range(len(pred_events)):\n",
    "                        p=pred_events.iloc[i]\n",
    "                        times.append({'begin':p['StartTime'],'end':p['EndTime']})\n",
    "                        act_data[i,p['Activity']]=1\n",
    "                    pred_events2=comb.combine2(times,act_data)\n",
    "    #                 if hasattr(foldres.results[gindx],'Sdata'):\n",
    "    #                     Sdata=foldres.results[gindx].Sdata\n",
    "    #                     pred_events2=comb.combine(Sdata.s_event_list,Sdata.set_window, foldres.results[gindx].predicted)\n",
    "                    showres(dataset,real_events,pred_events,acts,weight,duration=[s,e])            \n",
    "                    showres(dataset,real_events,pred_events2,acts,weight,duration=[s,e])\n",
    "\n",
    "\n",
    "\n",
    "        #             print(confusion_matrix(evalres[i].results[f].Sdata.label,evalres[i].results[f].predicted_classes))\n",
    "\n",
    "            \n",
    "\n",
    "\n",
    "\n"
   ]
  },
  {
   "cell_type": "code",
   "execution_count": 22,
   "metadata": {
    "ExecuteTime": {
     "end_time": "2020-08-27T09:08:34.056840Z",
     "start_time": "2020-08-27T09:08:34.045235Z"
    }
   },
   "outputs": [
    {
     "data": {
      "text/plain": [
       "{'name': 'Result',\n",
       " 'shortrunname': 'SimplePreprocessing_Probabilistic_MaxActivityFetcher_KHistory_LSTMTest_EmptyCombiner_Accuracy_Accuracy_',\n",
       " 'Sdata': <general.utils.Data at 0x7f284f3143c8>,\n",
       " 'functions': {'preprocessor': ('SimplePreprocessing', {}),\n",
       "  'segmentor': ('Probabilistic', {}),\n",
       "  'activityFetcher': ('MaxActivityFetcher', {}),\n",
       "  'featureExtractor': ('KHistory',\n",
       "   {'k': 2, 'method': <feature_extraction.Simple.Simple at 0x7f284f314860>}),\n",
       "  'classifier': ('LSTMTest', {'epochs': 10}),\n",
       "  'combiner': ('EmptyCombiner', {}),\n",
       "  'classifier_metric': ('Accuracy', {}),\n",
       "  'event_metric': ('Accuracy', {})},\n",
       " 'predicted': array([[5.1271945e-01, 1.0065294e-04, 1.4372031e-02, ..., 2.3738747e-02,\n",
       "         1.8461103e-03, 2.6338008e-01],\n",
       "        [5.1271945e-01, 1.0065294e-04, 1.4372031e-02, ..., 2.3738747e-02,\n",
       "         1.8461103e-03, 2.6338008e-01],\n",
       "        [5.1271945e-01, 1.0065294e-04, 1.4372031e-02, ..., 2.3738747e-02,\n",
       "         1.8461103e-03, 2.6338008e-01],\n",
       "        ...,\n",
       "        [2.0722493e-05, 3.5810054e-08, 6.3307081e-05, ..., 1.0372404e-02,\n",
       "         7.2973487e-03, 1.9881954e-02],\n",
       "        [4.0413055e-01, 7.1321621e-05, 2.1747245e-02, ..., 3.4185488e-02,\n",
       "         1.4348958e-03, 4.9145434e-02],\n",
       "        [4.0413055e-01, 7.1321621e-05, 2.1747245e-02, ..., 3.4185488e-02,\n",
       "         1.4348958e-03, 4.9145434e-02]], dtype=float32),\n",
       " 'predicted_classes': array([0, 0, 0, 8, 8, 8, 8, 8, 8, 8, 8, 8, 8, 8, 8, 3, 3, 3, 3, 3, 3, 3,\n",
       "        3, 3, 3, 3, 3, 3, 0, 0, 8, 8, 0, 0, 8, 8, 8, 8, 8, 8, 8, 8, 8, 8,\n",
       "        8, 0, 0, 5, 5, 2, 2, 2, 2, 2, 2, 0, 6, 6, 0, 0, 0, 4, 4, 4, 4, 4,\n",
       "        4, 0, 8, 4, 4, 8, 8, 0, 0, 8, 8, 8, 8, 8, 8, 4, 4, 4, 4, 0, 0, 0,\n",
       "        8, 4, 3, 3, 3, 3, 3, 3, 3, 3, 3, 3, 3, 3, 3, 3, 0, 0, 5, 5, 5, 5,\n",
       "        5, 5, 5, 5, 5, 5, 6, 6, 6, 6, 0, 0, 8, 8, 8, 8, 8, 8, 4, 4, 4, 4,\n",
       "        4, 4, 4, 4, 4, 4, 4, 4, 4, 4, 4, 4, 4, 4, 0, 0, 0, 0, 8, 8, 0, 0,\n",
       "        0, 0, 0, 8, 8, 0, 0, 8, 8, 8, 8, 8, 8, 8, 8, 8, 8, 8, 8, 8, 8, 8,\n",
       "        8, 8, 8, 8, 8, 3, 3, 3, 3, 3, 3, 3, 3, 3, 3, 3, 3, 3, 3, 3, 3, 3,\n",
       "        3, 3, 3, 3, 3, 3, 3, 3, 3, 3, 3, 0, 0, 8, 8, 8, 8, 0, 0, 0, 0, 0,\n",
       "        0, 5, 5, 5, 5, 5, 5, 5, 5, 5, 0, 6, 6, 0, 0, 0, 0, 0, 0, 7, 7, 7,\n",
       "        7, 7, 4, 4, 4, 4, 4, 4, 4, 4, 4, 4, 4, 8, 8, 0, 0, 8, 8, 8, 8, 0,\n",
       "        0, 0, 0, 8, 8, 8, 8, 8, 8, 8, 8, 8, 8, 8, 8, 8, 8, 8, 8, 8, 8, 3,\n",
       "        3, 3, 3, 3, 3, 3, 3, 3, 3, 3, 3, 3, 3, 3, 3, 3, 3, 3, 3, 3, 3, 0,\n",
       "        0, 8, 8, 8, 8, 3, 3, 3, 3, 3, 3, 3, 4, 4, 4, 4, 4, 8, 8, 8, 4, 8,\n",
       "        4, 4, 0, 0, 5, 5, 4, 4, 4, 8, 8, 8, 4, 3, 3, 3, 3, 3, 3, 3, 3, 7,\n",
       "        8, 8, 0, 0, 0, 0, 0, 0, 2, 2, 4, 4, 4, 4]),\n",
       " 'pred_events':     Activity           StartTime             EndTime\n",
       " 0          8 2008-03-18 00:48:19 2008-03-18 00:52:58\n",
       " 1          3 2008-03-18 06:22:43 2008-03-18 06:24:03\n",
       " 2          4 2008-03-18 06:22:43 2008-03-18 09:15:20\n",
       " 3          3 2008-03-18 06:24:03 2008-03-18 07:48:23\n",
       " 4          3 2008-03-18 07:48:23 2008-03-18 07:48:28\n",
       " ..       ...                 ...                 ...\n",
       " 63         3 2008-03-21 17:03:51 2008-03-21 18:05:09\n",
       " 64         7 2008-03-21 18:05:09 2008-03-21 18:24:28\n",
       " 65         8 2008-03-21 18:24:28 2008-03-21 18:25:16\n",
       " 66         4 2008-03-21 19:11:14 2008-03-23 19:04:46\n",
       " 67         4 2008-03-23 19:04:46 2008-03-23 19:04:47\n",
       " \n",
       " [68 rows x 3 columns],\n",
       " 'real_events':               StartTime             EndTime  Activity        Duration\n",
       " 204 2008-03-18 00:48:12 2008-03-18 00:49:08         8 0 days 00:00:56\n",
       " 205 2008-03-18 00:51:48 2008-03-18 07:48:31         3 0 days 06:56:43\n",
       " 206 2008-03-18 06:23:14 2008-03-18 06:23:59         8 0 days 00:00:45\n",
       " 207 2008-03-18 08:15:09 2008-03-18 08:19:22         8 0 days 00:04:13\n",
       " 208 2008-03-18 08:20:32 2008-03-18 08:23:41         5 0 days 00:03:09\n",
       " 209 2008-03-18 08:39:32 2008-03-18 08:52:30         7 0 days 00:12:58\n",
       " 210 2008-03-18 09:14:21 2008-03-18 18:00:28         4 0 days 08:46:07\n",
       " 211 2008-03-18 18:01:00 2008-03-18 18:08:18         8 0 days 00:07:18\n",
       " 212 2008-03-18 18:21:36 2008-03-18 18:23:42         8 0 days 00:02:06\n",
       " 213 2008-03-18 18:25:00 2008-03-18 23:39:56         4 0 days 05:14:56\n",
       " 214 2008-03-19 00:40:32 2008-03-19 00:42:07         8 0 days 00:01:35\n",
       " 215 2008-03-19 00:44:11 2008-03-19 08:43:24         3 0 days 07:59:13\n",
       " 216 2008-03-19 07:51:00 2008-03-19 07:51:58         8 0 days 00:00:58\n",
       " 217 2008-03-19 09:38:13 2008-03-19 09:44:21         5 0 days 00:06:08\n",
       " 218 2008-03-19 09:48:29 2008-03-19 09:49:10         8 0 days 00:00:41\n",
       " 219 2008-03-19 09:49:25 2008-03-19 10:00:23         7 0 days 00:10:58\n",
       " 220 2008-03-19 10:08:27 2008-03-19 17:15:17         4 0 days 07:06:50\n",
       " 221 2008-03-19 17:19:28 2008-03-19 17:22:04         7 0 days 00:02:36\n",
       " 222 2008-03-19 17:26:40 2008-03-19 20:20:07         4 0 days 02:53:27\n",
       " 223 2008-03-19 20:46:18 2008-03-19 20:49:02         8 0 days 00:02:44\n",
       " 224 2008-03-19 21:49:09 2008-03-19 21:51:46         8 0 days 00:02:37\n",
       " 225 2008-03-19 21:54:30 2008-03-20 08:31:03         3 0 days 10:36:33\n",
       " 226 2008-03-20 00:35:07 2008-03-20 00:36:01         8 0 days 00:00:54\n",
       " 227 2008-03-20 06:57:54 2008-03-20 06:58:39         8 0 days 00:00:45\n",
       " 228 2008-03-20 08:45:42 2008-03-20 08:47:06         8 0 days 00:01:24\n",
       " 229 2008-03-20 09:11:55 2008-03-20 09:15:14         5 0 days 00:03:19\n",
       " 230 2008-03-20 09:42:26 2008-03-20 09:50:22         7 0 days 00:07:56\n",
       " 231 2008-03-20 09:56:47 2008-03-20 22:49:41         4 0 days 12:52:54\n",
       " 232 2008-03-20 22:51:11 2008-03-20 22:55:32         8 0 days 00:04:21\n",
       " 233 2008-03-20 23:36:23 2008-03-20 23:41:10         8 0 days 00:04:47\n",
       " 234 2008-03-20 23:58:42 2008-03-20 23:59:27         8 0 days 00:00:45\n",
       " 235 2008-03-20 23:59:38 2008-03-21 09:04:25         3 0 days 09:04:47\n",
       " 236 2008-03-21 03:49:46 2008-03-21 03:50:47         8 0 days 00:01:01\n",
       " 237 2008-03-21 08:30:56 2008-03-21 08:31:36         8 0 days 00:00:40\n",
       " 238 2008-03-21 09:13:22 2008-03-21 09:15:33         8 0 days 00:02:11\n",
       " 239 2008-03-21 09:17:47 2008-03-21 09:24:43         7 0 days 00:06:56\n",
       " 240 2008-03-21 09:42:28 2008-03-21 15:51:38         4 0 days 06:09:10\n",
       " 241 2008-03-21 15:51:58 2008-03-21 15:53:10         8 0 days 00:01:12\n",
       " 242 2008-03-21 17:03:48 2008-03-21 18:05:18         3 0 days 01:01:30\n",
       " 243 2008-03-21 18:24:24 2008-03-21 18:25:05         8 0 days 00:00:41\n",
       " 244 2008-03-21 19:10:36 2008-03-23 19:04:58         4 1 days 23:54:22,\n",
       " 'event_cm': array([[0.00000000e+00, 0.00000000e+00, 0.00000000e+00, 3.25666667e+01,\n",
       "         3.93000000e+02, 0.00000000e+00, 0.00000000e+00, 1.91000000e+01,\n",
       "         1.37400000e+02],\n",
       "        [0.00000000e+00, 0.00000000e+00, 0.00000000e+00, 0.00000000e+00,\n",
       "         0.00000000e+00, 0.00000000e+00, 0.00000000e+00, 0.00000000e+00,\n",
       "         0.00000000e+00],\n",
       "        [0.00000000e+00, 0.00000000e+00, 0.00000000e+00, 0.00000000e+00,\n",
       "         0.00000000e+00, 0.00000000e+00, 0.00000000e+00, 0.00000000e+00,\n",
       "         0.00000000e+00],\n",
       "        [7.56516667e+02, 0.00000000e+00, 0.00000000e+00, 1.37578333e+03,\n",
       "         1.00000000e-01, 0.00000000e+00, 0.00000000e+00, 1.50000000e-01,\n",
       "         1.16666667e+00],\n",
       "        [6.82216667e+02, 0.00000000e+00, 0.00000000e+00, 1.83333333e-01,\n",
       "         4.77510000e+03, 0.00000000e+00, 0.00000000e+00, 0.00000000e+00,\n",
       "         2.66666667e-01],\n",
       "        [0.00000000e+00, 0.00000000e+00, 6.00000000e-01, 0.00000000e+00,\n",
       "         7.15000000e+00, 9.33333333e-01, 3.86666667e+00, 0.00000000e+00,\n",
       "         5.00000000e-02],\n",
       "        [0.00000000e+00, 0.00000000e+00, 0.00000000e+00, 0.00000000e+00,\n",
       "         0.00000000e+00, 0.00000000e+00, 0.00000000e+00, 0.00000000e+00,\n",
       "         0.00000000e+00],\n",
       "        [0.00000000e+00, 0.00000000e+00, 0.00000000e+00, 6.93333333e+00,\n",
       "         3.44666667e+01, 0.00000000e+00, 0.00000000e+00, 0.00000000e+00,\n",
       "         0.00000000e+00],\n",
       "        [2.00000000e-01, 0.00000000e+00, 0.00000000e+00, 1.06166667e+01,\n",
       "         9.01666667e+00, 0.00000000e+00, 0.00000000e+00, 6.66666667e-02,\n",
       "         2.26666667e+01]]),\n",
       " 'quality': {'accuracy': 0.75, 'precision': 0.6, 'recall': 0.43, 'f1': 0.41}}"
      ]
     },
     "execution_count": 22,
     "metadata": {},
     "output_type": "execute_result"
    }
   ],
   "source": [
    "\n",
    "foldres.__dict__"
   ]
  },
  {
   "cell_type": "code",
   "execution_count": 12,
   "metadata": {
    "ExecuteTime": {
     "end_time": "2020-05-10T19:48:12.048452Z",
     "start_time": "2020-05-10T19:48:12.045008Z"
    }
   },
   "outputs": [
    {
     "data": {
      "text/plain": [
       "Timestamp('2009-11-07 18:52:59.468001')"
      ]
     },
     "execution_count": 12,
     "metadata": {},
     "output_type": "execute_result"
    }
   ],
   "source": [
    "a[2][0].times[0]['begin']\n"
   ]
  },
  {
   "cell_type": "code",
   "execution_count": 2,
   "metadata": {
    "ExecuteTime": {
     "end_time": "2020-05-10T11:04:30.507874Z",
     "start_time": "2020-05-10T11:04:30.504390Z"
    }
   },
   "outputs": [
    {
     "name": "stdout",
     "output_type": "stream",
     "text": [
      "fold2\n"
     ]
    }
   ],
   "source": [
    "fold=2\n",
    "print(f'fold{fold}')"
   ]
  },
  {
   "cell_type": "code",
   "execution_count": null,
   "metadata": {},
   "outputs": [],
   "source": []
  },
  {
   "cell_type": "code",
   "execution_count": 3,
   "metadata": {},
   "outputs": [
    {
     "data": {
      "text/plain": [
       "{0: 'null', 1: 'Act'}"
      ]
     },
     "execution_count": 3,
     "metadata": {},
     "output_type": "execute_result"
    }
   ],
   "source": [
    "dataset.activities_map"
   ]
  },
  {
   "cell_type": "code",
   "execution_count": null,
   "metadata": {},
   "outputs": [],
   "source": []
  },
  {
   "cell_type": "raw",
   "metadata": {},
   "source": [
    "r"
   ]
  },
  {
   "cell_type": "raw",
   "metadata": {},
   "source": []
  },
  {
   "cell_type": "code",
   "execution_count": 1,
   "metadata": {
    "ExecuteTime": {
     "end_time": "2020-07-13T09:20:20.711580Z",
     "start_time": "2020-07-13T09:20:19.547062Z"
    }
   },
   "outputs": [
    {
     "name": "stdout",
     "output_type": "stream",
     "text": [
      "Utils loaded successfully!!\n",
      "metric  ==>  ['classical', 'event_confusion_matrix2', 'CMbasedMetric', 'event_confusion_matrix', 'MyMetric', 'metric_abstract', 'EventBasedMetric']\n"
     ]
    }
   ],
   "source": [
    "import unified_ar.result_analyse.test_maker as tm"
   ]
  }
 ],
 "metadata": {
  "kernelspec": {
   "display_name": "Python 3",
   "language": "python",
   "name": "python3"
  },
  "language_info": {
   "codemirror_mode": {
    "name": "ipython",
    "version": 3
   },
   "file_extension": ".py",
   "mimetype": "text/x-python",
   "name": "python",
   "nbconvert_exporter": "python",
   "pygments_lexer": "ipython3",
   "version": "3.8.10"
  },
  "toc": {
   "base_numbering": 1,
   "nav_menu": {},
   "number_sections": true,
   "sideBar": true,
   "skip_h1_title": false,
   "title_cell": "Table of Contents",
   "title_sidebar": "Contents",
   "toc_cell": false,
   "toc_position": {},
   "toc_section_display": true,
   "toc_window_display": false
  },
  "varInspector": {
   "cols": {
    "lenName": 16,
    "lenType": 16,
    "lenVar": 40
   },
   "kernels_config": {
    "python": {
     "delete_cmd_postfix": "",
     "delete_cmd_prefix": "del ",
     "library": "var_list.py",
     "varRefreshCmd": "print(var_dic_list())"
    },
    "r": {
     "delete_cmd_postfix": ") ",
     "delete_cmd_prefix": "rm(",
     "library": "var_list.r",
     "varRefreshCmd": "cat(var_dic_list()) "
    }
   },
   "types_to_exclude": [
    "module",
    "function",
    "builtin_function_or_method",
    "instance",
    "_Feature"
   ],
   "window_display": false
  }
 },
 "nbformat": 4,
 "nbformat_minor": 4
}
