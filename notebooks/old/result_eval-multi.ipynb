{
 "cells": [
  {
   "cell_type": "code",
   "execution_count": 2,
   "metadata": {
    "ExecuteTime": {
     "end_time": "2022-05-19T09:51:45.415706Z",
     "start_time": "2022-05-19T09:51:44.776407Z"
    },
    "scrolled": false
   },
   "outputs": [
    {
     "data": {
      "application/vnd.jupyter.widget-view+json": {
       "model_id": "01790114c95e426a936f09a5a963286b",
       "version_major": 2,
       "version_minor": 0
      },
      "text/plain": [
       "interactive(children=(Dropdown(description='dataset', options=('Home1', 'Home2', 'A4H', 'VanKasteren'), value=…"
      ]
     },
     "metadata": {},
     "output_type": "display_data"
    }
   ],
   "source": [
    "from ipywidgets import interact, interactive, fixed, interact_manual,widgets\n",
    "import unified_ar.result_analyse.resultloader\n",
    "import unified_ar.result_analyse.kfold_analyse as an\n",
    "import unified_ar.metric.MyMetric as mymetric\n",
    "import unified_ar.general.utils as utils\n",
    "import unified_ar.result_analyse.visualisation as vs\n",
    "from ipywidgets import Button, Layout\n",
    "\n",
    "@interact\n",
    "def datasets(dataset=['Home1','Home2','A4H','VanKasteren']):\n",
    "    @interact_manual\n",
    "    def compare(files=widgets.SelectMultiple(options=result_analyse.resultloader.get_runs_summary(dataset), description='Files',           layout=Layout(width='100%', height='180px')),titles=\"comma seperated\"):\n",
    "        print(files)\n",
    "        run_info={}\n",
    "        dataset={}\n",
    "        evalres={}\n",
    "        res={}\n",
    "        titles=titles.split(',')\n",
    "        for i, file in enumerate(files):\n",
    "            print(i,file)\n",
    "            t=titles[i]\n",
    "            run_info[t],dataset[t],evalres[t]=utils.loadState(file)\n",
    "            print(evalres[t])\n",
    "            for i in evalres[t]:\n",
    "                evalres[t][i]['test'].Sdata=None\n",
    "                \n",
    "            dataset[t].sensor_events=None\n",
    "            res[t]=an.mergeEvals(dataset[t],evalres[t],mymetric)\n",
    "        res={t:res[t] for t in sorted(res.keys())}\n",
    "        vs.plotJoinMetric(res,[k for k in res[t]],dataset[t].activities_map)"
   ]
  },
  {
   "cell_type": "code",
   "execution_count": 2,
   "metadata": {
    "ExecuteTime": {
     "end_time": "2020-11-03T21:55:11.377687Z",
     "start_time": "2020-11-03T21:55:11.315437Z"
    }
   },
   "outputs": [
    {
     "data": {
      "application/vnd.jupyter.widget-view+json": {
       "model_id": "398a12aff63a4572900309cdfdfb3f3a",
       "version_major": 2,
       "version_minor": 0
      },
      "text/plain": [
       "interactive(children=(Dropdown(description='dataset', options=('Home1', 'Home2', 'A4H', 'VanKasteren'), value=…"
      ]
     },
     "metadata": {},
     "output_type": "display_data"
    }
   ],
   "source": [
    "from ipywidgets import interact, interactive, fixed, interact_manual,widgets\n",
    "import unified_ar.result_analyse.resultloader\n",
    "import unified_ar.result_analyse.kfold_analyse as an\n",
    "import unified_ar.metric.EventBasedMetric as eventmetric\n",
    "import unified_ar.general.utils as utils\n",
    "import unified_ar.result_analyse.visualisation as vs\n",
    "from ipywidgets import Button, Layout\n",
    "\n",
    "@interact\n",
    "def datasets(dataset=['Home1','Home2','A4H','VanKasteren']):\n",
    "    @interact_manual\n",
    "    def compare(files=widgets.SelectMultiple(options=result_analyse.resultloader.get_runs_summary(dataset), description='Files',           layout=Layout(width='100%', height='180px')),titles=\"comma seperated\"):\n",
    "        print(files)\n",
    "        run_info={}\n",
    "        dataset={}\n",
    "        evalres={}\n",
    "        res={}\n",
    "        titles=titles.split(',')\n",
    "        for i, file in enumerate(files):\n",
    "            print(i,file)\n",
    "            t=titles[i]\n",
    "            run_info[t],dataset[t],evalres[t]=utils.loadState(file)\n",
    "            print(evalres[t])\n",
    "            for i in evalres[t]:\n",
    "                evalres[t][i].Sdata=None\n",
    "                \n",
    "            dataset[t].sensor_events=None\n",
    "            res[t]=an.mergeEvals(dataset[t],evalres[t],eventmetric)\n",
    "        res={t:res[t] for t in sorted(res.keys())}\n",
    "        print(res)"
   ]
  },
  {
   "cell_type": "code",
   "execution_count": null,
   "metadata": {},
   "outputs": [],
   "source": []
  }
 ],
 "metadata": {
  "kernelspec": {
   "display_name": "Python 3.8.13",
   "language": "python",
   "name": "python3"
  },
  "language_info": {
   "codemirror_mode": {
    "name": "ipython",
    "version": 3
   },
   "file_extension": ".py",
   "mimetype": "text/x-python",
   "name": "python",
   "nbconvert_exporter": "python",
   "pygments_lexer": "ipython3",
   "version": "3.8.13"
  },
  "toc": {
   "base_numbering": 1,
   "nav_menu": {},
   "number_sections": true,
   "sideBar": true,
   "skip_h1_title": false,
   "title_cell": "Table of Contents",
   "title_sidebar": "Contents",
   "toc_cell": false,
   "toc_position": {
    "height": "calc(100% - 180px)",
    "left": "10px",
    "top": "150px",
    "width": "165px"
   },
   "toc_section_display": true,
   "toc_window_display": false
  },
  "varInspector": {
   "cols": {
    "lenName": 16,
    "lenType": 16,
    "lenVar": 40
   },
   "kernels_config": {
    "python": {
     "delete_cmd_postfix": "",
     "delete_cmd_prefix": "del ",
     "library": "var_list.py",
     "varRefreshCmd": "print(var_dic_list())"
    },
    "r": {
     "delete_cmd_postfix": ") ",
     "delete_cmd_prefix": "rm(",
     "library": "var_list.r",
     "varRefreshCmd": "cat(var_dic_list()) "
    }
   },
   "types_to_exclude": [
    "module",
    "function",
    "builtin_function_or_method",
    "instance",
    "_Feature"
   ],
   "window_display": false
  },
  "vscode": {
   "interpreter": {
    "hash": "0f91b223a9be7f82bfd164eb4b10e5e1c532d3ceac636b749a2ce370dda12911"
   }
  }
 },
 "nbformat": 4,
 "nbformat_minor": 4
}
