{
 "cells": [
  {
   "cell_type": "code",
   "execution_count": 19,
   "metadata": {
    "ExecuteTime": {
     "end_time": "2021-02-22T17:43:21.675610Z",
     "start_time": "2021-02-22T17:43:21.603839Z"
    }
   },
   "outputs": [],
   "source": [
    "import general.utils \n",
    "def convertSED(name,gt,pe):\n",
    "    import pandas as pd\n",
    "    label_set = ['alarm', 'crying baby', 'crash', 'barking dog', 'running engine', 'female scream', \\\n",
    "                'female speech', 'burning fire', 'footsteps', 'knocking on door', 'male scream', 'male speech', \\\n",
    "                    'ringing phone', 'piano']\n",
    "    \n",
    "    import datatool.seddata\n",
    "    dataset=datatool.seddata.SED(gt)\n",
    "    dataset.load()\n",
    "    ######\n",
    "    from datetime import datetime\n",
    "    run_date=datetime.now().strftime('%y%m%d_%H-%M-%S')\n",
    "    run_info={'dataset':'SED2020','run_date':run_date,'dataset_path':'', 'strategy':'EIN','evalution':'-'}\n",
    "    ######\n",
    "    pred=datatool.seddata.SED(pe)\n",
    "    pred.load()\n",
    "    \n",
    "    ########\n",
    "    evalres={0:{'test':general.utils.Data('SED')}}\n",
    "    \n",
    "    evalres[0]['test'].real_events=dataset.activity_events\n",
    "    evalres[0]['test'].Sdata=None\n",
    "    evalres[0]['test'].predicted=None\n",
    "    evalres[0]['test'].shortrunname=name\n",
    "    evalres[0]['test'].predicted_classes=None\n",
    "    evalres[0]['test'].event_cm=None\n",
    "    evalres[0]['test'].quality={'accuracy': 0, 'precision': 0, 'recall': 0, 'f1': 0}\n",
    "    evalres[0]['test'].pred_events=pred.activity_events\n",
    "\n",
    "    #######\n",
    "    general.utils.saveState([run_info,dataset,{0:evalres[0]}],name)\n",
    "convertSED('sed-ein1','/workspace/sed/gt1.csv','/workspace/sed/pe1.csv')"
   ]
  },
  {
   "cell_type": "code",
   "execution_count": 20,
   "metadata": {
    "ExecuteTime": {
     "end_time": "2021-02-22T17:43:30.976708Z",
     "start_time": "2021-02-22T17:43:30.894797Z"
    },
    "scrolled": false
   },
   "outputs": [
    {
     "data": {
      "application/vnd.jupyter.widget-view+json": {
       "model_id": "377b397afb984638a31da59cdfd8aa4c",
       "version_major": 2,
       "version_minor": 0
      },
      "text/plain": [
       "interactive(children=(Dropdown(description='file', options=(('sed-ein1', 'sed-ein1'), ('sed-ein', 'sed-ein'), …"
      ]
     },
     "metadata": {},
     "output_type": "display_data"
    }
   ],
   "source": [
    "    import  general.utils as utils\n",
    "    import result_analyse.resultloader\n",
    "    import result_analyse.visualisation as vs\n",
    "\n",
    "    from ipywidgets import interact, interactive, fixed, interact_manual,widgets\n",
    "    import numpy as np\n",
    "    import pandas as pd\n",
    "\n",
    "    @interact\n",
    "    def result_selector(file=result_analyse.resultloader.get_runs()):\n",
    "        if(file==None):return\n",
    "        print('Analysing ',file)\n",
    "        run_info,dataset,evalres=utils.loadState(file)\n",
    "        stime=dataset.activity_events.iloc[0].StartTime\n",
    "        #etime=stime+np.timedelta64(1,'D')\n",
    "        etime=dataset.activity_events.iloc[-1].EndTime\n",
    "\n",
    "        for i in range(len(evalres)):\n",
    "                quality=evalres[i]['test'].quality\n",
    "                print('Evalution quality fold=%d is %s' % (i, quality))\n",
    "        print(len(dataset.sensor_events))\n",
    "        \n",
    "    #     vs.plot_CM(dataset,evalres)\n",
    "        \n",
    "        @interact\n",
    "        def viewFold(fold= range(len(evalres))):\n",
    "            @interact_manual\n",
    "            def view(start_date=widgets.DatePicker(value=pd.to_datetime(stime)),end_date=widgets.DatePicker(value=pd.to_datetime(etime)),debug=widgets.Checkbox(value=False)):\n",
    "                print(evalres[fold]['test'].real_events)\n",
    "                duration=(pd.to_datetime(start_date),pd.to_datetime(end_date))\n",
    "                duration2=(pd.to_datetime(start_date),pd.to_datetime(start_date)+pd.DateOffset(days=7))\n",
    "                real_events=vs.filterTime(evalres[fold]['test'].real_events,duration)\n",
    "                pred_events=vs.filterTime(evalres[fold]['test'].pred_events,duration)\n",
    "                vs.plotJoinAct(dataset,real_events,pred_events)\n",
    "                acts=[p for p in dataset.activities_map]\n",
    "                labels=[dataset.activities_map[p] for p in acts]\n",
    "                print(acts)\n",
    "                print(labels)\n",
    "                vs.plotJoinAct2(real_events,pred_events,acts,labels,duration=duration2)\n",
    "                #vs.plot_per_act(dataset,{'test':evalres})\n",
    "                \n",
    "                from matplotlib import pyplot as plt\n",
    "                plt.rc_context(rc={'figure.max_open_warning': 0})\n",
    "                import result_analyse.SpiderChart\n",
    "                result_analyse.SpiderChart.radar_factory(5, frame='polygon')\n",
    "                acount=len(dataset.activities_map)\n",
    "                a_fig,a_ax=plt.subplots(acount-1,1,figsize=(10, acount*.25),)\n",
    "    #             a_fig.tight_layout(pad=3.0)\n",
    "                col=4        \n",
    "                row=int(np.ceil((acount-1.0)/float(col)))\n",
    "                m_fig,m_ax=plt.subplots(row,col,figsize=(col*3, row*3),subplot_kw=dict(projection='radar'))\n",
    "                if type(a_ax)!=np.ndarray:\n",
    "                    print('dddd',a_ax)\n",
    "                    print(type(a_ax))\n",
    "                    a_ax=np.array([a_ax])\n",
    "                else:\n",
    "                    m_ax=m_ax.flatten()\n",
    "                for i in range(acount-1,len(m_ax)):\n",
    "                    m_ax[i].set_visible(False)\n",
    "\n",
    "                for i in range(1,len(dataset.activities_map)):\n",
    "    #                 real_events2,pred_events2=vs.remove_gaps(real_events,pred_events,i)\n",
    "                    #real_events2,pred_events2=vs.remove_gaps(real_events,pred_events,i,max_events=10)\n",
    "                    real_events2,pred_events2=real_events,pred_events\n",
    "                    vs.plotJoinAct(dataset,real_events,pred_events,onlyAct=i,ax=a_ax[i-1])\n",
    "                    try:\n",
    "    #                     vs.plotJoinAct(dataset,real_events2,pred_events2,onlyAct=i,ax=a_ax[i-1])\n",
    "                        \n",
    "                        vs.plotMyMetric2(dataset,real_events2,pred_events2,onlyAct=i,ax=m_ax[i-1],debug=debug,calcne=0)\n",
    "    \n",
    "                    except Exception as e:\n",
    "                        import sys\n",
    "                        import traceback\n",
    "                        print(e, file=sys.stderr)\n",
    "                        traceback.print_exc()\n",
    "\n",
    "                    #    print('error in ',i)\n",
    "                    #vs.plotWardMetric(dataset,real_events,pred_events,onlyAct=i)\n",
    "    #             vs.plotJoinMyMetric(dataset,real_events2,pred_events2,calcne=0)\n",
    "                # a_fig.show()\n",
    "                m_fig.tight_layout(pad=0,h_pad=-20.0, w_pad=3.0)\n",
    "                # m_fig.show()\n",
    "\n",
    "    #             @interact\n",
    "    #             def view2(onlyAct=[(str(i)+\" : \"+dataset.activities[i],i)for i in dataset.activities_map]):\n",
    "    #                 print(onlyAct)\n",
    "    #                 #vs.visualize(dataset)\n",
    "    #                 # vs.my_result_analyse(evalres[i].real_events,evalres[i].pred_events)               \n",
    "    #                 #vs.plotJoinAct(dataset,real_events,pred_events,onlyAct=onlyAct)\n",
    "    #                 real_events2,pred_events2=vs.remove_gaps(real_events,pred_events,onlyAct)\n",
    "    #                 vs.plotJoinAct(dataset,real_events2,pred_events2,onlyAct=onlyAct)\n",
    "    #                 vs.plotMyMetric(dataset,real_events,pred_events,onlyAct=onlyAct)\n",
    "    #                 vs.plotWardMetric(dataset,real_events,pred_events,onlyAct=onlyAct)\n"
   ]
  },
  {
   "cell_type": "code",
   "execution_count": 2,
   "metadata": {
    "ExecuteTime": {
     "end_time": "2021-03-02T08:27:37.892255Z",
     "start_time": "2021-03-02T08:27:37.609576Z"
    }
   },
   "outputs": [],
   "source": [
    "import general.utils\n",
    "df=general.utils.loadState('cache/aaa')"
   ]
  },
  {
   "cell_type": "code",
   "execution_count": 3,
   "metadata": {
    "ExecuteTime": {
     "end_time": "2021-03-02T08:27:39.647377Z",
     "start_time": "2021-03-02T08:27:39.638837Z"
    }
   },
   "outputs": [
    {
     "data": {
      "text/html": [
       "<div>\n",
       "<style scoped>\n",
       "    .dataframe tbody tr th:only-of-type {\n",
       "        vertical-align: middle;\n",
       "    }\n",
       "\n",
       "    .dataframe tbody tr th {\n",
       "        vertical-align: top;\n",
       "    }\n",
       "\n",
       "    .dataframe thead th {\n",
       "        text-align: right;\n",
       "    }\n",
       "</style>\n",
       "<table border=\"1\" class=\"dataframe\">\n",
       "  <thead>\n",
       "    <tr style=\"text-align: right;\">\n",
       "      <th></th>\n",
       "      <th>existance</th>\n",
       "      <th>total dur.</th>\n",
       "      <th>relative dur.</th>\n",
       "      <th>alignment</th>\n",
       "      <th>cardinality</th>\n",
       "    </tr>\n",
       "  </thead>\n",
       "  <tbody>\n",
       "    <tr>\n",
       "      <th>tp</th>\n",
       "      <td>76.000000</td>\n",
       "      <td>303.846000</td>\n",
       "      <td>69.438862</td>\n",
       "      <td>64.331483</td>\n",
       "      <td>72.000000</td>\n",
       "    </tr>\n",
       "    <tr>\n",
       "      <th>fp</th>\n",
       "      <td>8.000000</td>\n",
       "      <td>33.720000</td>\n",
       "      <td>10.264140</td>\n",
       "      <td>3.772385</td>\n",
       "      <td>17.000000</td>\n",
       "    </tr>\n",
       "    <tr>\n",
       "      <th>fn</th>\n",
       "      <td>24.000000</td>\n",
       "      <td>176.214000</td>\n",
       "      <td>30.561138</td>\n",
       "      <td>7.896131</td>\n",
       "      <td>28.000000</td>\n",
       "    </tr>\n",
       "    <tr>\n",
       "      <th>precision</th>\n",
       "      <td>0.904762</td>\n",
       "      <td>0.900108</td>\n",
       "      <td>0.871220</td>\n",
       "      <td>0.944608</td>\n",
       "      <td>0.808989</td>\n",
       "    </tr>\n",
       "    <tr>\n",
       "      <th>recall</th>\n",
       "      <td>0.760000</td>\n",
       "      <td>0.632933</td>\n",
       "      <td>0.694389</td>\n",
       "      <td>0.890677</td>\n",
       "      <td>0.720000</td>\n",
       "    </tr>\n",
       "    <tr>\n",
       "      <th>f1</th>\n",
       "      <td>0.826087</td>\n",
       "      <td>0.743240</td>\n",
       "      <td>0.772818</td>\n",
       "      <td>0.916850</td>\n",
       "      <td>0.761905</td>\n",
       "    </tr>\n",
       "  </tbody>\n",
       "</table>\n",
       "</div>"
      ],
      "text/plain": [
       "           existance  total dur.  relative dur.  alignment  cardinality\n",
       "tp         76.000000  303.846000      69.438862  64.331483    72.000000\n",
       "fp          8.000000   33.720000      10.264140   3.772385    17.000000\n",
       "fn         24.000000  176.214000      30.561138   7.896131    28.000000\n",
       "precision   0.904762    0.900108       0.871220   0.944608     0.808989\n",
       "recall      0.760000    0.632933       0.694389   0.890677     0.720000\n",
       "f1          0.826087    0.743240       0.772818   0.916850     0.761905"
      ]
     },
     "execution_count": 3,
     "metadata": {},
     "output_type": "execute_result"
    }
   ],
   "source": [
    "df"
   ]
  },
  {
   "cell_type": "code",
   "execution_count": 4,
   "metadata": {
    "ExecuteTime": {
     "end_time": "2021-03-02T08:27:42.038003Z",
     "start_time": "2021-03-02T08:27:42.029928Z"
    }
   },
   "outputs": [
    {
     "data": {
      "text/plain": [
       "existance        0.826087\n",
       "total dur.       0.743240\n",
       "relative dur.    0.772818\n",
       "alignment        0.916850\n",
       "cardinality      0.761905\n",
       "dtype: float64"
      ]
     },
     "execution_count": 4,
     "metadata": {},
     "output_type": "execute_result"
    }
   ],
   "source": [
    "calcf1=2*df.loc['recall']*df.loc['precision']/(df.loc['recall']+df.loc['precision'])\n",
    "calcf1"
   ]
  },
  {
   "cell_type": "code",
   "execution_count": 5,
   "metadata": {
    "ExecuteTime": {
     "end_time": "2021-03-02T08:27:51.979173Z",
     "start_time": "2021-03-02T08:27:51.970011Z"
    }
   },
   "outputs": [
    {
     "data": {
      "text/html": [
       "<div>\n",
       "<style scoped>\n",
       "    .dataframe tbody tr th:only-of-type {\n",
       "        vertical-align: middle;\n",
       "    }\n",
       "\n",
       "    .dataframe tbody tr th {\n",
       "        vertical-align: top;\n",
       "    }\n",
       "\n",
       "    .dataframe thead th {\n",
       "        text-align: right;\n",
       "    }\n",
       "</style>\n",
       "<table border=\"1\" class=\"dataframe\">\n",
       "  <thead>\n",
       "    <tr style=\"text-align: right;\">\n",
       "      <th></th>\n",
       "      <th>existance</th>\n",
       "      <th>total dur.</th>\n",
       "      <th>relative dur.</th>\n",
       "      <th>alignment</th>\n",
       "      <th>cardinality</th>\n",
       "    </tr>\n",
       "  </thead>\n",
       "  <tbody>\n",
       "    <tr>\n",
       "      <th>tp</th>\n",
       "      <td>76.000000</td>\n",
       "      <td>303.846000</td>\n",
       "      <td>69.438862</td>\n",
       "      <td>64.331483</td>\n",
       "      <td>72.000000</td>\n",
       "    </tr>\n",
       "    <tr>\n",
       "      <th>fp</th>\n",
       "      <td>8.000000</td>\n",
       "      <td>33.720000</td>\n",
       "      <td>10.264140</td>\n",
       "      <td>3.772385</td>\n",
       "      <td>17.000000</td>\n",
       "    </tr>\n",
       "    <tr>\n",
       "      <th>fn</th>\n",
       "      <td>24.000000</td>\n",
       "      <td>176.214000</td>\n",
       "      <td>30.561138</td>\n",
       "      <td>7.896131</td>\n",
       "      <td>28.000000</td>\n",
       "    </tr>\n",
       "    <tr>\n",
       "      <th>precision</th>\n",
       "      <td>0.904762</td>\n",
       "      <td>0.900108</td>\n",
       "      <td>0.871220</td>\n",
       "      <td>0.944608</td>\n",
       "      <td>0.808989</td>\n",
       "    </tr>\n",
       "    <tr>\n",
       "      <th>recall</th>\n",
       "      <td>0.760000</td>\n",
       "      <td>0.632933</td>\n",
       "      <td>0.694389</td>\n",
       "      <td>0.890677</td>\n",
       "      <td>0.720000</td>\n",
       "    </tr>\n",
       "    <tr>\n",
       "      <th>f1</th>\n",
       "      <td>0.826087</td>\n",
       "      <td>0.743240</td>\n",
       "      <td>0.772818</td>\n",
       "      <td>0.916850</td>\n",
       "      <td>0.761905</td>\n",
       "    </tr>\n",
       "    <tr>\n",
       "      <th>f2</th>\n",
       "      <td>0.826087</td>\n",
       "      <td>0.743240</td>\n",
       "      <td>0.772818</td>\n",
       "      <td>0.916850</td>\n",
       "      <td>0.761905</td>\n",
       "    </tr>\n",
       "  </tbody>\n",
       "</table>\n",
       "</div>"
      ],
      "text/plain": [
       "           existance  total dur.  relative dur.  alignment  cardinality\n",
       "tp         76.000000  303.846000      69.438862  64.331483    72.000000\n",
       "fp          8.000000   33.720000      10.264140   3.772385    17.000000\n",
       "fn         24.000000  176.214000      30.561138   7.896131    28.000000\n",
       "precision   0.904762    0.900108       0.871220   0.944608     0.808989\n",
       "recall      0.760000    0.632933       0.694389   0.890677     0.720000\n",
       "f1          0.826087    0.743240       0.772818   0.916850     0.761905\n",
       "f2          0.826087    0.743240       0.772818   0.916850     0.761905"
      ]
     },
     "execution_count": 5,
     "metadata": {},
     "output_type": "execute_result"
    }
   ],
   "source": [
    "df.loc['f2']=calcf1\n",
    "df"
   ]
  },
  {
   "cell_type": "code",
   "execution_count": 51,
   "metadata": {
    "ExecuteTime": {
     "end_time": "2021-03-02T08:27:14.743567Z",
     "start_time": "2021-03-02T08:27:04.579211Z"
    }
   },
   "outputs": [
    {
     "name": "stdout",
     "output_type": "stream",
     "text": [
      "Collecting pandas\n",
      "\u001b[?25l  Downloading https://files.pythonhosted.org/packages/c3/e2/00cacecafbab071c787019f00ad84ca3185952f6bb9bca9550ed83870d4d/pandas-1.1.5-cp36-cp36m-manylinux1_x86_64.whl (9.5MB)\n",
      "\u001b[K     |████████████████████████████████| 9.5MB 6.1MB/s eta 0:00:01     |██████████████████████▉         | 6.8MB 6.1MB/s eta 0:00:01\n",
      "\u001b[?25hRequirement already satisfied, skipping upgrade: numpy>=1.15.4 in /opt/conda/lib/python3.6/site-packages (from pandas) (1.17.4)\n",
      "Requirement already satisfied, skipping upgrade: python-dateutil>=2.7.3 in /opt/conda/lib/python3.6/site-packages (from pandas) (2.8.0)\n",
      "Requirement already satisfied, skipping upgrade: pytz>=2017.2 in /opt/conda/lib/python3.6/site-packages (from pandas) (2019.3)\n",
      "Requirement already satisfied, skipping upgrade: six>=1.5 in /opt/conda/lib/python3.6/site-packages (from python-dateutil>=2.7.3->pandas) (1.13.0)\n",
      "\u001b[31mERROR: wrangle 0.6.7 has requirement scipy==1.2, but you'll have scipy 1.3.2 which is incompatible.\u001b[0m\n",
      "\u001b[31mERROR: tsfresh 0.12.0 has requirement pandas<=0.23.4,>=0.20.3, but you'll have pandas 1.1.5 which is incompatible.\u001b[0m\n",
      "\u001b[31mERROR: chartify 2.6.1 has requirement pandas<1.0.0,>=0.21.0, but you'll have pandas 1.1.5 which is incompatible.\u001b[0m\n",
      "\u001b[31mERROR: alibi 0.3.1 has requirement tensorflow<2.0, but you'll have tensorflow 2.2.1 which is incompatible.\u001b[0m\n",
      "Installing collected packages: pandas\n",
      "  Found existing installation: pandas 0.25.3\n",
      "    Uninstalling pandas-0.25.3:\n",
      "      Successfully uninstalled pandas-0.25.3\n",
      "Successfully installed pandas-1.1.5\n"
     ]
    }
   ],
   "source": [
    "!pip install --upgrade pandas"
   ]
  }
 ],
 "metadata": {
  "kernelspec": {
   "display_name": "Python 3",
   "language": "python",
   "name": "python3"
  },
  "toc": {
   "base_numbering": 1,
   "nav_menu": {},
   "number_sections": true,
   "sideBar": true,
   "skip_h1_title": false,
   "title_cell": "Table of Contents",
   "title_sidebar": "Contents",
   "toc_cell": false,
   "toc_position": {},
   "toc_section_display": true,
   "toc_window_display": false
  },
  "varInspector": {
   "cols": {
    "lenName": 16,
    "lenType": 16,
    "lenVar": 40
   },
   "kernels_config": {
    "python": {
     "delete_cmd_postfix": "",
     "delete_cmd_prefix": "del ",
     "library": "var_list.py",
     "varRefreshCmd": "print(var_dic_list())"
    },
    "r": {
     "delete_cmd_postfix": ") ",
     "delete_cmd_prefix": "rm(",
     "library": "var_list.r",
     "varRefreshCmd": "cat(var_dic_list()) "
    }
   },
   "types_to_exclude": [
    "module",
    "function",
    "builtin_function_or_method",
    "instance",
    "_Feature"
   ],
   "window_display": false
  }
 },
 "nbformat": 4,
 "nbformat_minor": 2
}
